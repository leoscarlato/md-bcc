{
 "cells": [
  {
   "cell_type": "markdown",
   "metadata": {},
   "source": [
    "# Resumo Prova Final"
   ]
  },
  {
   "cell_type": "markdown",
   "metadata": {},
   "source": [
    "## Aula 13 - Normalização"
   ]
  },
  {
   "cell_type": "markdown",
   "metadata": {},
   "source": [
    "### Formas Normais"
   ]
  },
  {
   "cell_type": "markdown",
   "metadata": {},
   "source": [
    "**Normalização** → processo de rearranjar o banco de dados para que obedeça às várias **formas normais**."
   ]
  },
  {
   "cell_type": "markdown",
   "metadata": {},
   "source": [
    "O processo contrário, ou seja, regredir o projeto do banco de dados para formas normais menores, é chamado de **desnormalização**."
   ]
  },
  {
   "cell_type": "markdown",
   "metadata": {},
   "source": [
    "##### Objetivo\n",
    "\n",
    "- Evitar repetições\n",
    "- Recuperar informações de forma fácil"
   ]
  },
  {
   "cell_type": "markdown",
   "metadata": {},
   "source": [
    "#### 1NF - Primeira Forma Normal"
   ]
  },
  {
   "cell_type": "markdown",
   "metadata": {},
   "source": [
    "Uma entidade está na primeira forma normal quando cada tupla tem apenas um valor por atributo"
   ]
  },
  {
   "cell_type": "markdown",
   "metadata": {},
   "source": [
    "Exemplo:\n",
    "\n",
    "<!-- tabela que nao esta na 1nf -->\n",
    "| id_usuario (PK) | nome | id_endereço | endereço | telefone |\n",
    "|-----------------|------|------------|----------|----------|\n",
    "1 | Juca | 100 | Rua Quatá, 300, São Paulo/SP | 111-1111, 333-3333\n",
    "2 | Maria | 200 | Rua Casa Do Ator, 537, Ap 42, São Paulo/SP | 222-2222\n",
    "3 | Roberto | 300 | Av. Bias Fortes 382, Belo Horizonte/MG | 333-3333\n",
    "\n",
    "Esta tabela não está na 1NF, pois as colunas `endereço` e `telefone` possuem mais de um valor."
   ]
  },
  {
   "cell_type": "markdown",
   "metadata": {},
   "source": [
    "Solução:\n",
    "\n",
    "<!-- tabela que esta na 1nf -->\n",
    "| id_usuario (PK) | nome | id_endereço | endereço | cidade | estado | telefone |\n",
    "|-----------------|------|------------|----------|--------|-------|----------|\n",
    "1 | Juca | 100 | Rua Quatá, 300 | São Paulo | SP | 111-1111\n",
    "1 | Juca | 100 | Rua Quatá, 300 | São Paulo | SP | 333-3333\n",
    "2 | Maria | 200 | Rua Casa Do Ator, 537, Ap 42 | São Paulo | SP | 222-2222\n",
    "3 | Roberto | 300 | Av. Bias Fortes 382 | Belo Horizonte | MG | 333-3333"
   ]
  },
  {
   "cell_type": "markdown",
   "metadata": {},
   "source": [
    "#### 2NF - Segunda Forma Normal\n",
    "\n",
    "Uma entidade está na segunda forma normal quando obedecer à 1NF e todos os seus atributos não-chave dependem funcionalemente da chave primária."
   ]
  },
  {
   "cell_type": "markdown",
   "metadata": {},
   "source": [
    "![2NF](Screenshot_11.png)"
   ]
  },
  {
   "cell_type": "markdown",
   "metadata": {},
   "source": [
    "![2NF](Screenshot_12.png)"
   ]
  },
  {
   "cell_type": "markdown",
   "metadata": {},
   "source": [
    "#### 3NF - Terceira Forma Normal\n",
    "\n",
    "Uma tabela está na 3FN quando estiver na 2FN e se todos os atributos que não pertencem à chave primária não dependerem de outros atributos que não pertencem à chave primária."
   ]
  },
  {
   "cell_type": "markdown",
   "metadata": {},
   "source": [
    "![3NF](Screenshot_13.png)"
   ]
  },
  {
   "cell_type": "markdown",
   "metadata": {},
   "source": [
    "![3NF](Screenshot_14.png)"
   ]
  },
  {
   "cell_type": "markdown",
   "metadata": {},
   "source": [
    "![3NF](Screenshot_15.png)"
   ]
  },
  {
   "cell_type": "markdown",
   "metadata": {},
   "source": [
    "![3NF](Screenshot_16.png)"
   ]
  },
  {
   "cell_type": "markdown",
   "metadata": {},
   "source": [
    "## Aula 16 - Transactions"
   ]
  },
  {
   "cell_type": "markdown",
   "metadata": {},
   "source": [
    "Para garantir que o banco de dados MySQL não está operando em modo *auto-commit* use o comando `START TRANSACTION`. Este comando garante que estamos iniciando uma transação sem *auto-commit*. Por exemplo:"
   ]
  },
  {
   "cell_type": "markdown",
   "metadata": {},
   "source": [
    "```sql\t\n",
    "START TRANSACTION;\n",
    "INSERT INTO usuario (nome, sobrenome) VALUES ('João', 'Silva');\n",
    "COMMIT\n",
    "```\n",
    "\n",
    "Se apenas realizassemos o `INSERT` sem o `COMMIT`, o banco de dados não iria salvar as alterações. O `COMMIT` é o comando que efetivamente salva as alterações no banco de dados.\n",
    "\n",
    "```sql\n",
    "START TRANSACTION;\n",
    "\n",
    "SELECT id_usuario INTO @id_usuario \n",
    "FROM usuario \n",
    "WHERE nome = 'João' AND sobrenome = 'Silva'\n",
    "ORDER BY id_usuario DESC LIMIT 1;\n",
    "\n",
    "DELETE FROM usuario WHERE id_usuario=@id_usuario\n",
    "COMMIT\n",
    "```\n",
    "\n",
    "O comando `ROLLBACK` é utilizado para desfazer as alterações\n",
    "    \n",
    "```sql\n",
    "INSERT INTO usuario (nome, sobrenome) VALUES ('Walter', 'Branco');\n",
    "```\n",
    "\n",
    "Isso devolveria, por exemplo:\n",
    "\n",
    "Executando query:\n",
    "\n",
    "(1, 'Juca', 'Silva', Decimal('0.00'))\n",
    "\n",
    "(2, 'Mario', 'Ferreira', Decimal('0.00'))\n",
    "\n",
    "(3, 'Ana', 'Soares', Decimal('0.00'))\n",
    "\n",
    "(4, 'Antonio', 'Reis', Decimal('0.00'))\n",
    "\n",
    "(5, 'Paulo', 'Oliveira', Decimal('0.00'))\n",
    "\n",
    "(6, 'Carla', 'Nakamura', Decimal('0.00'))\n",
    "\n",
    "(7, 'Maria', 'Fontana', Decimal('0.00'))\n",
    "\n",
    "(9, 'Walter', 'Branco', Decimal('0.00'))\n",
    "\n",
    "Se fizermos um `ROLLBACK`:\n",
    "\n",
    "```sql\t\n",
    "ROLLBACK;\n",
    "```\n",
    "\n",
    "Executando query:\n",
    "\n",
    "(1, 'Juca', 'Silva', Decimal('0.00'))\n",
    "\n",
    "(2, 'Mario', 'Ferreira', Decimal('0.00'))\n",
    "\n",
    "(3, 'Ana', 'Soares', Decimal('0.00'))\n",
    "\n",
    "(4, 'Antonio', 'Reis', Decimal('0.00'))\n",
    "\n",
    "(5, 'Paulo', 'Oliveira', Decimal('0.00'))\n",
    "\n",
    "(6, 'Carla', 'Nakamura', Decimal('0.00'))\n",
    "\n",
    "(7, 'Maria', 'Fontana', Decimal('0.00'))\n",
    "\n",
    "    "
   ]
  },
  {
   "cell_type": "markdown",
   "metadata": {},
   "source": [
    "### Aula 17 - ACID\n",
    "\n",
    "**ACID** é um acrônimo para Atomicidade, Consistência, Isolamento e Durabilidade.\n",
    "\n",
    "**Atomicidade**: Todas as operações de uma transação devem ser executadas com sucesso, caso contrário, a transação deve ser desfeita.\n",
    "\n",
    " Exercício: descreva uma situação onde várias operações de banco de dados devem ser executadas atomicamente.\n",
    "\n",
    "    R: Transferência de dinheiro entre contas bancárias.\n",
    "\n",
    "    No caso de uma transação de transferência de dinheiro entre duas contas, a operação de crédito na conta do destinatário depende diretamente do sucesso da operação de débito na conta do remetente. Se a operação de débito falha — por exemplo, por falta de fundos suficientes —, a operação de crédito na conta do destinatário não será sequer iniciada.\n",
    "\n",
    "**Consistência**: O banco de dados passa de um estado válido para outro estado válido. Ou seja, o banco de dados deve ser consistente antes e depois da transação.\n",
    "\n",
    "    Exercício: ON DELETE pode ajudar a manter a consistência em deletes físicos. Como você pode garantir a consistência em deletes lógicos?\n",
    "\n",
    "    R: Através de triggers, que são procedimentos armazenados que são executados automaticamente em resposta a determinados eventos em uma tabela ou exibição. Por exemplo, ao excluir um registro de uma tabela, um trigger pode ser acionado para excluir registros relacionados em outra tabela.\n",
    "\n",
    "**Isolamento**: As transações devem ser isoladas umas das outras. Ou seja, uma transação não deve interferir em outra transação.\n",
    "\n",
    "    Exercício: descreva uma situação onde a falta de isolamento pode causar problemas.\n",
    "\n",
    "    R: Suponha que duas transações estejam tentando acessar a mesma linha de uma tabela ao mesmo tempo. Se a primeira transação não tiver sido concluída e a segunda transação tentar acessar a mesma linha, ela poderá acessar dados inconsistentes.\n",
    "\n",
    "- 4 níveis de isolamento:\n",
    "\n",
    "    - SERIALIZABLE → mais restritivo, uma transação que tente atualizar dados não-gravados por outra transação será rejeitada.\n",
    "\n",
    "    - REPETABLE READ → se você leu algumas linhas e tenta ler elas novamente, os mesmos valores serão retornados.\n",
    "\n",
    "    - READ COMMITED → se uma transação ocorrer em paralelo com a nossa transação e fizer o commit de seus dados, então nossa transação pode acabar lendo dados de linha modificados.\n",
    "\n",
    "    - READ UNCOMMITED → um dados modificado de uma transação não-finalizada será acessível pela nossa transação (*dirty read*). É o nível de isolamento mais periogoso.\n"
   ]
  },
  {
   "cell_type": "markdown",
   "metadata": {},
   "source": [
    "![ACID](Screenshot_17.png)"
   ]
  },
  {
   "cell_type": "markdown",
   "metadata": {},
   "source": [
    "**Durabilidade**: quando uma transação é confirmada (COMMIT), ela permanecerá gravada mesmo que ocorra uma falha no sistema ou a energia seja desligada."
   ]
  },
  {
   "cell_type": "markdown",
   "metadata": {},
   "source": [
    "### Aula 18 - Functions, procedures e triggers"
   ]
  },
  {
   "cell_type": "markdown",
   "metadata": {},
   "source": [
    "##### Stored procedures\n",
    "\n",
    "São blocos de código que são armazenados no banco de dados e podem ser chamados por outros programas.\n",
    "\n",
    "**Vantagens**:\n",
    "\n",
    "- Reuso de código → definir tarefas rotineiras e reutilizá-las em diferentes partes do programa.\n",
    "- Segurança → podemos bloquear todos os acessos a tabelas e definir apenas o acesso às stored procedures. Assim, ao invés de por exemplo, permitir acesso à tabela *usuário*, podemos permitir acesso ao procedimento `saque()` ou `consulta_saldo()`.\n",
    "- Desempenho → ao invés de mandar vários comandos SQL para a base de dados, podemos chamar apenas um procedimento, pois todos os comandos SQL estão dentro do procedimento. Ademais, a base de dados não precisa compilar o procedimento toda vez que este é chamado.\n",
    "\n",
    "**Desvantagens**:\n",
    "\n",
    "- Debugging → pode ser difícil de debugar um procedimento armazenado.\n",
    "- Portabilidade → a sintaxe de definição de procedimentos armazenados varia de um banco de dados para outro.\n",
    "- Separação entre dados e lógica de negócio → com procedimentos armazenados estamos migrando parte da lógica de negócio para o banco de dados. Alterações na lógica de negócio agora demandam modificações e manutenção em partes distintas do sistema.\n",
    "- Aumento da carga de processamento no servidor → servidores de banco de dados costumam ser otimizados para memória e largura de banda, não para processamento.\n",
    "\n",
    "\n"
   ]
  },
  {
   "cell_type": "markdown",
   "metadata": {},
   "source": [
    "##### Criando uma stored procedure\n",
    "\n",
    "```sql\n",
    "USE emprestimos;\n",
    "\n",
    "DROP PROCEDURE IF EXISTS adiciona_usuario;\n",
    "\n",
    "CREATE PROCEDURE adiciona_usuario(IN novo_nome VARCHAR(80), IN novo_sobrenome VARCHAR(80))\n",
    "BEGIN\n",
    "    INSERT INTO usuario (nome, sobrenome)\n",
    "    VALUES (novo_nome, novo_sobrenome);\n",
    "END;\n",
    "```\n",
    "\n",
    "Assim, quando quisermos adicionar um usuário, basta chamar a stored procedure `adiciona_usuario()`.\n",
    "\n",
    "```sql\n",
    "START TRANSACTION\n",
    "try:\n",
    "    CALL adiciona_usuario('Juca', 'Silva');\n",
    "    CALL adiciona_usuario('Mario', 'Ferreira');\n",
    "    CALL adiciona_usuario('Ana', 'Soares');\n",
    "    CALL adiciona_usuario('Antonio', 'Reis');\n",
    "    CALL adiciona_usuario('Paulo', 'Oliveira');\n",
    "    COMMIT;\n",
    "except Exception as e:\n",
    "    print(e)\n",
    "    ROLLBACK\n",
    "```\n"
   ]
  },
  {
   "cell_type": "markdown",
   "metadata": {},
   "source": [
    "##### Stored functions\n",
    "\n",
    "São blocos de código que são armazenados no banco de dados e podem ser chamados por outros programas.\n",
    "\n",
    "Exemplo:\n",
    "(versão mysql)\n",
    "```sql\n",
    "USE emprestimos;\n",
    "\n",
    "DROP FUNCTION IF EXISTS saldo;\n",
    "\n",
    "DELIMITER //\n",
    "CREATE FUNCTION saldo(id INT) RETURNS DECIMAL(30, 2) READS SQL DATA\n",
    "BEGIN\n",
    "    DECLARE saldo_procurado DECIMAL(30, 2);\n",
    "\n",
    "    SELECT \n",
    "        IFNULL(saldo, 0.0)\n",
    "    INTO saldo_procurado FROM\n",
    "        usuario\n",
    "    WHERE\n",
    "        id_usuario = id;\n",
    "\n",
    "    RETURN saldo_procurado;\n",
    "END//\n",
    "DELIMITER ;\n",
    "```\n",
    "\n",
    "(versão python)\n",
    "```sql\n",
    "USE emprestimos;\n",
    "\n",
    "DROP FUNCTION IF EXISTS saldo;\n",
    "\n",
    "CREATE FUNCTION saldo(id INT) RETURNS DECIMAL(30, 2) READS SQL DATA\n",
    "BEGIN\n",
    "    DECLARE saldo_procurado DECIMAL(30, 2);\n",
    "\n",
    "    SELECT \n",
    "        IFNULL(saldo, 0.0)\n",
    "    INTO saldo_procurado FROM\n",
    "        usuario\n",
    "    WHERE\n",
    "        id_usuario = id;\n",
    "\n",
    "    RETURN saldo_procurado;\n",
    "END;\n",
    "```\n",
    "\n",
    "Testando a função:\n",
    "\n",
    "```sql\n",
    "SELECT saldo(1);\n",
    "```"
   ]
  },
  {
   "cell_type": "markdown",
   "metadata": {},
   "source": [
    "##### Triggers\n",
    "\n",
    "Procedimentos armazenados que são executados automaticamente quando uma operação é realizada.\n",
    "\n",
    "Você pode escolher se o trigger ocorre antes ou depois da operação.\n",
    "\n",
    "Exemplo:\n",
    "\n",
    "```sql\n",
    "USE emprestimos;\n",
    "\n",
    "DROP TRIGGER IF EXISTS trig_movimentacao;\n",
    "\n",
    "DELIMITER //\n",
    "CREATE TRIGGER trig_movimentacao \n",
    "BEFORE INSERT ON movimentacao\n",
    "FOR EACH ROW\n",
    "BEGIN\n",
    "    UPDATE usuario \n",
    "        SET saldo = saldo + NEW.valor \n",
    "        WHERE id_usuario = NEW.id_usuario;\n",
    "END//\n",
    "\n",
    "DELIMITER ;\n",
    "```\n",
    "\n",
    "Trigger para quando o saldo é insuficiente:\n",
    "\n",
    "```sql\n",
    "USE emprestimos;\n",
    "\n",
    "DROP TRIGGER IF EXISTS trig_movimentacao;\n",
    "\n",
    "DELIMITER //\n",
    "CREATE TRIGGER trig_movimentacao \n",
    "BEFORE INSERT ON movimentacao\n",
    "FOR EACH ROW\n",
    "BEGIN\n",
    "    UPDATE usuario \n",
    "        SET saldo = saldo + NEW.valor \n",
    "        WHERE id_usuario = NEW.id_usuario;\n",
    "END//\n",
    "\n",
    "DELIMITER ;\n",
    "```\n",
    "\n",
    "Já na versão atual do MySQL o check de saldo pode ser implementado normalmente com o constraint `CHECK`\n",
    "\n",
    "```SQL\n",
    "USE emprestimos;\n",
    "ALTER TABLE usuario ADD CONSTRAINT chk_saldo CHECK (saldo >= 0.0);\n",
    "ALTER TABLE emprestimo ADD CONSTRAINT chk_emprestimo CHECK (valor_atual >= 0.0);\n",
    "```"
   ]
  },
  {
   "cell_type": "markdown",
   "metadata": {},
   "source": [
    "##### Relembrando views\n",
    "\n",
    "*Views* são como tabelas *'lógicas'*, que são criadas através da aplicação de um comando `SELECT`. É como um `SELECT` pré-armazenado.\n",
    "\n",
    "Vamos criar uma *view* para listar os nomes e sobrenomes de usuários, sem revelar seus saldos de conta:\n",
    "\n",
    "```SQL\n",
    "USE emprestimos;\n",
    "\n",
    "CREATE VIEW nomes AS \n",
    "\tSELECT DISTINCT nome, sobrenome FROM usuario;\n",
    "```"
   ]
  },
  {
   "cell_type": "markdown",
   "metadata": {},
   "source": [
    "### Aula 20 - Programação Funcional\n",
    "\n",
    "#### Cálculo Lambda"
   ]
  },
  {
   "cell_type": "markdown",
   "metadata": {},
   "source": [
    "![Lambda](Screenshot_18.png)\n"
   ]
  },
  {
   "cell_type": "markdown",
   "metadata": {},
   "source": [
    "![Lambda](Screenshot_19.png)"
   ]
  },
  {
   "cell_type": "markdown",
   "metadata": {},
   "source": [
    "![Lambda](Screenshot_20.png)\n",
    "![Lambda](Screenshot_21.png)"
   ]
  },
  {
   "cell_type": "markdown",
   "metadata": {},
   "source": [
    "- Programação funcional descreve o que queremos calcular sem especificar como iterar sobre os dados\n",
    "\n",
    "- Programação funcional usa funções puras:\n",
    "    - Robustez → se um bloco de cálculo falha, podemos reiniciar o cálculo daquele bloco apenas.\n",
    "\n",
    "- Ausência de estado global → facilita uso de memória distribuída"
   ]
  },
  {
   "cell_type": "markdown",
   "metadata": {},
   "source": [
    "##### Funções anônimas (lambda)\n",
    "\n",
    "Funções anônimas são funções que não possuem um nome associado. Normalmente usados quando precisamos de uma função simples.\n",
    "\n",
    "Exemplo:\n",
    "\n",
    "```python\n",
    "def mapeia(func, vec):\n",
    "    resultado = []\n",
    "    for value in vec:\n",
    "        resultado.append(func(value))\n",
    "    return resultado\n",
    "\n",
    "data = [2, 3, 5, 7]\n",
    "res = mapeia(lambda x: x * x, data)\n",
    "print(res)\n",
    "```\n",
    "\n",
    "Resultado:\n",
    "\n",
    "```python\n",
    "[4, 9, 25, 49]\n",
    "```\n",
    "\n",
    "Logo, a função `lambda x: x * x` é uma função anônima que recebe um argumento `x` e retorna `x * x`. Ela é passada como argumento para a função `mapeia()`, que aplica a função a cada elemento do vetor `data`, appendando o resultado em `resultado`."
   ]
  },
  {
   "cell_type": "markdown",
   "metadata": {},
   "source": [
    "##### Closures\n",
    "\n",
    "Temos uma função definida dentro de outra função. Essa função interna usa variáveis do escopo da função externa. A função externa retorna a função interna.\n",
    "\n",
    "Exemplo:\n",
    "\n",
    "```python\n",
    "def multiplicador(n):\n",
    "    def multiplicador_de_x(x):\n",
    "        return x * n\n",
    "    return multiplicador_de_x\n",
    "\n",
    "mult_2 = multiplicador(2)\n",
    "mult_3 = multiplicador(3)\n",
    "\n",
    "print(mult_2(5))\n",
    "print(mult_3(5))\n",
    "```\n",
    "\n",
    "Resultado:\n",
    "\n",
    "```python\n",
    "10\n",
    "15\n",
    "```\n",
    "\n",
    "A função `multiplicador()` retorna a função `multiplicador_de_x()`, que multiplica um número `x` por `n`. Assim, `mult_2` é uma função que multiplica por 2, e `mult_3` é uma função que multiplica por 3. Passando o argumento 5, temos 10 e 15, respectivamente."
   ]
  },
  {
   "cell_type": "markdown",
   "metadata": {},
   "source": [
    "##### List Comprehensions\n",
    "\n",
    "List comprehensions são uma forma concisa de criar listas em Python. São usadas para criar novas listas onde cada elemento é o resultado de alguma operação aplicada a cada membro de outra sequência ou iterável.\n",
    "\n",
    "Exemplo:\n",
    "\n",
    "```python\n",
    "data = [2, 3, 5, 7]\n",
    "res = [x * x for x in data]\n",
    "print(res)\n",
    "```\n",
    "\n",
    "Resultado:\n",
    "\n",
    "```python\n",
    "[4, 9, 25, 49]\n",
    "```\n",
    "\n",
    "Aqui, `res` é uma lista que contém o quadrado de cada elemento de `data`.\n",
    "\n",
    "Outros exemplos:\n",
    "\n",
    "```python\n",
    "vec = list(range(20))\n",
    "vec_even = [x for x in vec if x % 2 == 0]\n",
    "print(vec_even)\n",
    "```\n",
    "\n",
    "Resultado:\n",
    "\n",
    "```python\n",
    "[0, 2, 4, 6, 8, 10, 12, 14, 16, 18]\n",
    "```\n",
    "\n",
    "```python\n",
    "res = [(x, y) for x in [1, 2, 3] for y in [\"a\", \"b\"]]\n",
    "print(res)\n",
    "```\n",
    "\n",
    "Resultado:\n",
    "\n",
    "```python\n",
    "[(1, 'a'), (1, 'b'), (2, 'a'), (2, 'b'), (3, 'a'), (3, 'b')]\n",
    "```\n",
    "\n"
   ]
  },
  {
   "cell_type": "markdown",
   "metadata": {},
   "source": [
    "##### Higher-order functions\n",
    "\n",
    "Funções que recebem outras funções como argumentos ou retornam funções.\n",
    "Algumas das mais importantes são `map()`, `filter()` e `reduce()`.\n",
    "\n",
    "- `map()` → recebe uma função e uma estrutura de dados iterável, e aplica a função a cada elemento da estrutura de dados. Retorna um objeto `map`, que é um iterador.\n",
    "\n",
    "Exemplo:\n",
    "\n",
    "```python\n",
    "vec = [2, 3, 5]\n",
    "aux = map(lambda x: x ** 2, vec)\n",
    "print(aux)\n",
    "print(list(aux))\n",
    "```\n",
    "\n",
    "Resultado:\n",
    "\n",
    "```python\n",
    "<map object at 0x7f8b1c3b3d90>\n",
    "[4, 9, 25]\n",
    "```\n",
    "\n",
    "- `filter()` → recebe uma função e uma estrutura de dados iterável, e retorna um iterador com os elementos da estrutura de dados para os quais a função retorna `True`.\n",
    "\n",
    "Exemplo:\n",
    "\n",
    "```python\n",
    "vec = list(range(10))\n",
    "aux = filter(lambda x: x % 2 == 1, vec)\n",
    "print(aux)\n",
    "print(list(aux))\n",
    "```\n",
    "\n",
    "Resultado:\n",
    "\n",
    "```python\n",
    "<filter object at 0x7f8b1c3b3d90>\n",
    "[1, 3, 5, 7, 9]\n",
    "```\n",
    "\n",
    "- `reduce()` → recebe uma função, uma estrutura de dados iterável e um valor inicial, e combina os valores do iterável usando a função que serve para combinar os valores dois a dois.\n",
    "\n",
    "Exemplo:\n",
    "\n",
    "```python\n",
    "from functools import reduce\n",
    "\n",
    "vec = list(range(10))\n",
    "soma = reduce(lambda x, y: x + y, vec)\n",
    "print(soma)\n",
    "```\n",
    "\n",
    "Resultado:\n",
    "\n",
    "```python\n",
    "45\n",
    "```"
   ]
  },
  {
   "cell_type": "markdown",
   "metadata": {},
   "source": []
  },
  {
   "cell_type": "code",
   "execution_count": null,
   "metadata": {},
   "outputs": [],
   "source": []
  }
 ],
 "metadata": {
  "language_info": {
   "name": "python"
  }
 },
 "nbformat": 4,
 "nbformat_minor": 2
}
