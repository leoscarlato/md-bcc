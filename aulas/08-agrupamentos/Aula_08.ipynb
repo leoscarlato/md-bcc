{
 "cells": [
  {
   "cell_type": "markdown",
   "metadata": {},
   "source": [
    "# Mais sobre `SELECT`: agrupamentos"
   ]
  },
  {
   "cell_type": "markdown",
   "metadata": {},
   "source": [
    "## Introdução"
   ]
  },
  {
   "cell_type": "markdown",
   "metadata": {},
   "source": [
    "Vamos continuar nossa investigação sobre o comando `SELECT`. Desta vez usaremos a base de dados `'sakila'`, uma famosa base de dados de teste construída pelos autores do MySQL. \n",
    "\n",
    "Abra a URL [**https://dev.mysql.com/doc/sakila/en/**](https://dev.mysql.com/doc/sakila/en/) para conhecer melhor esta base de dados, que modela uma locadora de DVDs (riam, vocês também serão velhos um dia!). Se você não possui esta base, siga as instruções de instalação na página.\n",
    "\n",
    "Vamos também construir nosso objeto auxiliar para conectar com a base de dados, como fizemos na última aula."
   ]
  },
  {
   "cell_type": "code",
   "execution_count": 4,
   "metadata": {
    "tags": []
   },
   "outputs": [],
   "source": [
    "from functools import partial\n",
    "from dotenv import load_dotenv\n",
    "import insperautograder.jupyter as ia\n",
    "import mysql.connector\n",
    "import os\n",
    "\n",
    "load_dotenv(override=True)\n",
    "\n",
    "connection = mysql.connector.connect(\n",
    "    host=os.getenv(\"MD_DB_SERVER\"),\n",
    "    user=os.getenv(\"MD_DB_USERNAME\"),\n",
    "    password=os.getenv(\"MD_DB_PASSWORD\"),\n",
    "    database=\"sakila\",\n",
    ")\n",
    "\n",
    "\n",
    "def run_db_query(connection, query, args=None):\n",
    "    with connection.cursor() as cursor:\n",
    "        print(\"Executando query:\")\n",
    "        cursor.execute(query, args)\n",
    "        for result in cursor:\n",
    "            print(result)\n",
    "\n",
    "\n",
    "db = partial(run_db_query, connection)"
   ]
  },
  {
   "cell_type": "markdown",
   "metadata": {},
   "source": [
    "## Exercícios para entrega\n",
    "\n",
    "Esta aula tem atividade para entrega, confira os prazos e exercícios"
   ]
  },
  {
   "cell_type": "code",
   "execution_count": 5,
   "metadata": {},
   "outputs": [
    {
     "data": {
      "text/markdown": [
       "|    | Atividade    | De                        | Até                       |\n",
       "|---:|:-------------|:--------------------------|:--------------------------|\n",
       "|  0 | newborn      | 2024-02-01 03:00:00+00:00 | 2024-05-30 03:00:00+00:00 |\n",
       "|  1 | select01     | 2024-02-08 03:00:00+00:00 | 2024-02-19 02:59:59+00:00 |\n",
       "|  2 | ddl          | 2024-02-22 03:00:00+00:00 | 2024-02-27 02:59:59+00:00 |\n",
       "|  3 | dml          | 2024-02-26 03:00:00+00:00 | 2024-03-03 02:59:59+00:00 |\n",
       "|  4 | group_having | 2024-02-29 03:00:00+00:00 | 2024-03-08 03:00:00+00:00 |\n",
       "|  5 | agg_join     | 2024-02-29 03:00:00+00:00 | 2024-03-05 02:59:59+00:00 |"
      ],
      "text/plain": [
       "<IPython.core.display.Markdown object>"
      ]
     },
     "metadata": {},
     "output_type": "display_data"
    }
   ],
   "source": [
    "ia.tasks()"
   ]
  },
  {
   "cell_type": "code",
   "execution_count": 6,
   "metadata": {},
   "outputs": [
    {
     "data": {
      "text/markdown": [
       "|    | Atividade    | Exercício   |   Peso |   Nota |\n",
       "|---:|:-------------|:------------|-------:|-------:|\n",
       "|  0 | group_having | ex01        |      1 |      0 |\n",
       "|  1 | group_having | ex02        |      4 |      0 |\n",
       "|  2 | group_having | ex03        |      4 |      0 |\n",
       "|  3 | group_having | ex04        |      4 |      0 |\n",
       "|  4 | group_having | ex05        |      4 |      0 |\n",
       "|  5 | group_having | ex06        |      8 |      0 |\n",
       "|  6 | group_having | ex07        |      6 |      0 |\n",
       "|  7 | group_having | ex08        |      6 |      0 |\n",
       "|  8 | group_having | ex09        |     12 |      0 |\n",
       "|  9 | group_having | ex10        |     10 |      0 |\n",
       "| 10 | group_having | ex11        |     10 |      0 |\n",
       "| 11 | group_having | ex12        |      6 |      0 |\n",
       "| 12 | group_having | ex13        |     12 |      0 |"
      ],
      "text/plain": [
       "<IPython.core.display.Markdown object>"
      ]
     },
     "metadata": {},
     "output_type": "display_data"
    }
   ],
   "source": [
    "ia.grades(task=\"group_having\")"
   ]
  },
  {
   "cell_type": "markdown",
   "metadata": {},
   "source": [
    "## Aquecimento"
   ]
  },
  {
   "cell_type": "markdown",
   "metadata": {},
   "source": [
    "**Exercício 1**: Quais os nomes das categorias de filme? Ordene de forma crescente."
   ]
  },
  {
   "cell_type": "code",
   "execution_count": 10,
   "metadata": {},
   "outputs": [
    {
     "name": "stdout",
     "output_type": "stream",
     "text": [
      "Executando query:\n",
      "('category_id', 'tinyint unsigned', 'NO', 'PRI', None, 'auto_increment')\n",
      "('name', 'varchar(25)', 'NO', '', None, '')\n",
      "('last_update', 'timestamp', 'NO', '', 'CURRENT_TIMESTAMP', 'DEFAULT_GENERATED on update CURRENT_TIMESTAMP')\n"
     ]
    }
   ],
   "source": [
    "db(\"DESCRIBE sakila.category\")"
   ]
  },
  {
   "cell_type": "code",
   "execution_count": 16,
   "metadata": {},
   "outputs": [
    {
     "name": "stdout",
     "output_type": "stream",
     "text": [
      "Executando query:\n",
      "('Action',)\n",
      "('Animation',)\n",
      "('Children',)\n",
      "('Classics',)\n",
      "('Comedy',)\n",
      "('Documentary',)\n",
      "('Drama',)\n",
      "('Family',)\n",
      "('Foreign',)\n",
      "('Games',)\n",
      "('Horror',)\n",
      "('Music',)\n",
      "('New',)\n",
      "('Sci-Fi',)\n",
      "('Sports',)\n",
      "('Travel',)\n"
     ]
    }
   ],
   "source": [
    "sql_ex01 = \"\"\"\n",
    "SELECT\n",
    "    name\n",
    "FROM\n",
    "    sakila.category\n",
    "ORDER BY\n",
    "    name ASC\n",
    "\"\"\"\n",
    "\n",
    "db(sql_ex01)"
   ]
  },
  {
   "cell_type": "code",
   "execution_count": 17,
   "metadata": {},
   "outputs": [
    {
     "data": {
      "application/vnd.jupyter.widget-view+json": {
       "model_id": "dd004f495bf54eee9a1531e0ede5fde2",
       "version_major": 2,
       "version_minor": 0
      },
      "text/plain": [
       "interactive(children=(Button(description='Enviar ex01', style=ButtonStyle()), Output()), _dom_classes=('widget…"
      ]
     },
     "execution_count": 17,
     "metadata": {},
     "output_type": "execute_result"
    }
   ],
   "source": [
    "ia.sender(answer=\"sql_ex01\", task=\"group_having\", question=\"ex01\", answer_type=\"pyvar\")"
   ]
  },
  {
   "cell_type": "markdown",
   "metadata": {},
   "source": [
    "**Exercício 2**: Quais atores tem as iniciais \"J.D.\"? Exiba todos os atributos. Ordene de forma crescente pelo primeiro nome."
   ]
  },
  {
   "cell_type": "code",
   "execution_count": 19,
   "metadata": {},
   "outputs": [
    {
     "name": "stdout",
     "output_type": "stream",
     "text": [
      "Executando query:\n",
      "('actor_id', 'smallint unsigned', 'NO', 'PRI', None, 'auto_increment')\n",
      "('first_name', 'varchar(45)', 'NO', '', None, '')\n",
      "('last_name', 'varchar(45)', 'NO', 'MUL', None, '')\n",
      "('last_update', 'timestamp', 'NO', '', 'CURRENT_TIMESTAMP', 'DEFAULT_GENERATED on update CURRENT_TIMESTAMP')\n"
     ]
    }
   ],
   "source": [
    "db(\"DESCRIBE sakila.actor\")"
   ]
  },
  {
   "cell_type": "code",
   "execution_count": 26,
   "metadata": {},
   "outputs": [
    {
     "name": "stdout",
     "output_type": "stream",
     "text": [
      "Executando query:\n",
      "(4, 'JENNIFER', 'DAVIS', datetime.datetime(2006, 2, 15, 4, 34, 33))\n",
      "(41, 'JODIE', 'DEGENERES', datetime.datetime(2006, 2, 15, 4, 34, 33))\n",
      "(35, 'JUDY', 'DEAN', datetime.datetime(2006, 2, 15, 4, 34, 33))\n",
      "(123, 'JULIANNE', 'DENCH', datetime.datetime(2006, 2, 15, 4, 34, 33))\n"
     ]
    }
   ],
   "source": [
    "sql_ex02 = \"\"\"\n",
    "SELECT\n",
    "*\n",
    "FROM\n",
    "    sakila.actor\n",
    "WHERE\n",
    "    first_name LIKE 'J%'\n",
    "    AND last_name LIKE 'D%'\n",
    "ORDER BY\n",
    "    first_name ASC;\n",
    "\n",
    "\"\"\"\n",
    "\n",
    "db(sql_ex02)"
   ]
  },
  {
   "cell_type": "code",
   "execution_count": 24,
   "metadata": {},
   "outputs": [
    {
     "data": {
      "application/vnd.jupyter.widget-view+json": {
       "model_id": "46b2f84fd5dc40bfb01f9d0098dd89ed",
       "version_major": 2,
       "version_minor": 0
      },
      "text/plain": [
       "interactive(children=(Button(description='Enviar ex02', style=ButtonStyle()), Output()), _dom_classes=('widget…"
      ]
     },
     "execution_count": 24,
     "metadata": {},
     "output_type": "execute_result"
    }
   ],
   "source": [
    "ia.sender(answer=\"sql_ex02\", task=\"group_having\", question=\"ex02\", answer_type=\"pyvar\")"
   ]
  },
  {
   "cell_type": "markdown",
   "metadata": {},
   "source": [
    "**Exercício 3**: Liste as cidades brasileiras presentes na base de dados. Ordene de forma decrescente."
   ]
  },
  {
   "cell_type": "code",
   "execution_count": 27,
   "metadata": {},
   "outputs": [
    {
     "name": "stdout",
     "output_type": "stream",
     "text": [
      "Executando query:\n",
      "('city_id', 'smallint unsigned', 'NO', 'PRI', None, 'auto_increment')\n",
      "('city', 'varchar(50)', 'NO', '', None, '')\n",
      "('country_id', 'smallint unsigned', 'NO', 'MUL', None, '')\n",
      "('last_update', 'timestamp', 'NO', '', 'CURRENT_TIMESTAMP', 'DEFAULT_GENERATED on update CURRENT_TIMESTAMP')\n"
     ]
    }
   ],
   "source": [
    "db(\"DESCRIBE city\")\n"
   ]
  },
  {
   "cell_type": "code",
   "execution_count": 33,
   "metadata": {},
   "outputs": [
    {
     "name": "stdout",
     "output_type": "stream",
     "text": [
      "Executando query:\n",
      "('country_id', 'smallint unsigned', 'NO', 'PRI', None, 'auto_increment')\n",
      "('country', 'varchar(50)', 'NO', '', None, '')\n",
      "('last_update', 'timestamp', 'NO', '', 'CURRENT_TIMESTAMP', 'DEFAULT_GENERATED on update CURRENT_TIMESTAMP')\n"
     ]
    }
   ],
   "source": [
    "db(\"DESCRIBE country\")"
   ]
  },
  {
   "cell_type": "code",
   "execution_count": 38,
   "metadata": {},
   "outputs": [
    {
     "name": "stdout",
     "output_type": "stream",
     "text": [
      "Executando query:\n",
      "(15, 'Vitória de Santo Antão')\n",
      "(15, 'Vila Velha')\n",
      "(15, 'Sorocaba')\n",
      "(15, 'São Leopoldo')\n",
      "(15, 'São Bernardo do Campo')\n",
      "(15, 'Santo André')\n",
      "(15, 'Santa Bárbara d´Oeste')\n",
      "(15, 'Rio Claro')\n",
      "(15, 'Poços de Caldas')\n",
      "(15, 'Poá')\n",
      "(15, 'Maringá')\n",
      "(15, 'Luziânia')\n",
      "(15, 'Juiz de Fora')\n",
      "(15, 'Juazeiro do Norte')\n",
      "(15, 'Ibirité')\n",
      "(15, 'Guarujá')\n",
      "(15, 'Goiânia')\n",
      "(15, 'Brasília')\n",
      "(15, 'Boa Vista')\n",
      "(15, 'Blumenau')\n",
      "(15, 'Belém')\n",
      "(15, 'Bagé')\n",
      "(15, 'Araçatuba')\n",
      "(15, 'Aparecida de Goiânia')\n",
      "(15, 'Angra dos Reis')\n",
      "(15, 'Anápolis')\n",
      "(15, 'Alvorada')\n",
      "(15, 'Águas Lindas de Goiás')\n"
     ]
    }
   ],
   "source": [
    "db(\"\"\"\n",
    "SELECT\n",
    "    co.country_id,\n",
    "    ci.city\n",
    "   \n",
    "FROM\n",
    "    sakila.country AS co\n",
    "   INNER JOIN sakila.city AS ci ON co.country_id = ci.country_id\n",
    "WHERE\n",
    "    co.country = 'Brazil'\n",
    "ORDER BY\n",
    "    ci.city DESC\n",
    "\"\"\")"
   ]
  },
  {
   "cell_type": "code",
   "execution_count": 41,
   "metadata": {},
   "outputs": [
    {
     "name": "stdout",
     "output_type": "stream",
     "text": [
      "Executando query:\n",
      "('Vitória de Santo Antão',)\n",
      "('Vila Velha',)\n",
      "('Sorocaba',)\n",
      "('São Leopoldo',)\n",
      "('São Bernardo do Campo',)\n",
      "('Santo André',)\n",
      "('Santa Bárbara d´Oeste',)\n",
      "('Rio Claro',)\n",
      "('Poços de Caldas',)\n",
      "('Poá',)\n",
      "('Maringá',)\n",
      "('Luziânia',)\n",
      "('Juiz de Fora',)\n",
      "('Juazeiro do Norte',)\n",
      "('Ibirité',)\n",
      "('Guarujá',)\n",
      "('Goiânia',)\n",
      "('Brasília',)\n",
      "('Boa Vista',)\n",
      "('Blumenau',)\n",
      "('Belém',)\n",
      "('Bagé',)\n",
      "('Araçatuba',)\n",
      "('Aparecida de Goiânia',)\n",
      "('Angra dos Reis',)\n",
      "('Anápolis',)\n",
      "('Alvorada',)\n",
      "('Águas Lindas de Goiás',)\n"
     ]
    }
   ],
   "source": [
    "sql_ex03 = \"\"\"\n",
    "SELECT\n",
    "    ci.city\n",
    "   \n",
    "FROM\n",
    "    sakila.country AS co\n",
    "   INNER JOIN sakila.city AS ci ON co.country_id = ci.country_id\n",
    "WHERE\n",
    "    co.country = 'Brazil'\n",
    "ORDER BY\n",
    "    ci.city DESC\n",
    "\"\"\"\n",
    "\n",
    "db(sql_ex03)"
   ]
  },
  {
   "cell_type": "code",
   "execution_count": 42,
   "metadata": {},
   "outputs": [
    {
     "data": {
      "application/vnd.jupyter.widget-view+json": {
       "model_id": "49c1a452a567457f91c1a82fc09ea717",
       "version_major": 2,
       "version_minor": 0
      },
      "text/plain": [
       "interactive(children=(Button(description='Enviar ex03', style=ButtonStyle()), Output()), _dom_classes=('widget…"
      ]
     },
     "execution_count": 42,
     "metadata": {},
     "output_type": "execute_result"
    }
   ],
   "source": [
    "ia.sender(answer=\"sql_ex03\", task=\"group_having\", question=\"ex03\", answer_type=\"pyvar\")"
   ]
  },
  {
   "cell_type": "markdown",
   "metadata": {},
   "source": [
    "**Exercício 4**: *Quantas* cidades brasileiras tem na base de dados? Renomeie para `qt_city`"
   ]
  },
  {
   "cell_type": "code",
   "execution_count": 43,
   "metadata": {},
   "outputs": [
    {
     "name": "stdout",
     "output_type": "stream",
     "text": [
      "Executando query:\n",
      "(28,)\n"
     ]
    }
   ],
   "source": [
    "sql_ex04 = \"\"\"\n",
    "SELECT COUNT(*) AS qt_city\n",
    "FROM\n",
    "    sakila.country AS co\n",
    "   INNER JOIN sakila.city AS ci ON co.country_id = ci.country_id\n",
    "WHERE\n",
    "    co.country = 'Brazil'\n",
    "\"\"\"\n",
    "\n",
    "db(sql_ex04)"
   ]
  },
  {
   "cell_type": "code",
   "execution_count": 44,
   "metadata": {},
   "outputs": [
    {
     "data": {
      "application/vnd.jupyter.widget-view+json": {
       "model_id": "7f4f1aea34a54e6ba00b3018fef8cdf9",
       "version_major": 2,
       "version_minor": 0
      },
      "text/plain": [
       "interactive(children=(Button(description='Enviar ex04', style=ButtonStyle()), Output()), _dom_classes=('widget…"
      ]
     },
     "execution_count": 44,
     "metadata": {},
     "output_type": "execute_result"
    }
   ],
   "source": [
    "ia.sender(answer=\"sql_ex04\", task=\"group_having\", question=\"ex04\", answer_type=\"pyvar\")"
   ]
  },
  {
   "cell_type": "markdown",
   "metadata": {},
   "source": [
    "**Exercício 5**: Liste os filmes do ator (fictício) \"Dan Harris\". Ordene de forma crescente. Renomeie para `movie_title`."
   ]
  },
  {
   "cell_type": "code",
   "execution_count": 48,
   "metadata": {},
   "outputs": [
    {
     "name": "stdout",
     "output_type": "stream",
     "text": [
      "Executando query:\n",
      "('actor_id', 'smallint unsigned', 'NO', 'PRI', None, '')\n",
      "('film_id', 'smallint unsigned', 'NO', 'PRI', None, '')\n",
      "('last_update', 'timestamp', 'NO', '', 'CURRENT_TIMESTAMP', 'DEFAULT_GENERATED on update CURRENT_TIMESTAMP')\n"
     ]
    }
   ],
   "source": [
    "db(\"DESCRIBE sakila.film_actor\")"
   ]
  },
  {
   "cell_type": "code",
   "execution_count": 54,
   "metadata": {},
   "outputs": [
    {
     "name": "stdout",
     "output_type": "stream",
     "text": [
      "Executando query:\n",
      "('BEDAZZLED MARRIED',)\n",
      "('BOONDOCK BALLROOM',)\n",
      "('DESTINY SATURDAY',)\n",
      "('DIVINE RESURRECTION',)\n",
      "('EYES DRIVING',)\n",
      "('FELLOWSHIP AUTUMN',)\n",
      "('GHOST GROUNDHOG',)\n",
      "('GROOVE FICTION',)\n",
      "('HILLS NEIGHBORS',)\n",
      "('HOLIDAY GAMES',)\n",
      "('INDEPENDENCE HOTEL',)\n",
      "('INSIDER ARIZONA',)\n",
      "('JADE BUNCH',)\n",
      "('LIES TREATMENT',)\n",
      "('MONTEREY LABYRINTH',)\n",
      "('REUNION WITCHES',)\n",
      "('RUN PACIFIC',)\n",
      "('SCHOOL JACKET',)\n",
      "('SEVEN SWARM',)\n",
      "('SIEGE MADRE',)\n",
      "('STEERS ARMAGEDDON',)\n",
      "('STRAIGHT HOURS',)\n",
      "('SUMMER SCARFACE',)\n",
      "('SUPERFLY TRIP',)\n",
      "('TITANIC BOONDOCK',)\n",
      "('TITANS JERK',)\n",
      "('VANISHING ROCKY',)\n",
      "('WATERSHIP FRONTIER',)\n"
     ]
    }
   ],
   "source": [
    "sql_ex05 = \"\"\"\n",
    "SELECT\n",
    "    f.title AS movie_title\n",
    "FROM\n",
    "    sakila.film AS f\n",
    "    INNER JOIN sakila.film_actor AS fa ON f.film_id = fa.film_id\n",
    "    INNER JOIN sakila.actor AS a ON fa.actor_id = a.actor_id\n",
    "WHERE\n",
    "    a.first_name = 'DAN'\n",
    "    AND a.last_name = 'HARRIS'\n",
    "ORDER BY\n",
    "    f.title ASC\n",
    "    \n",
    "\"\"\"\n",
    "\n",
    "db(sql_ex05)"
   ]
  },
  {
   "cell_type": "code",
   "execution_count": 55,
   "metadata": {},
   "outputs": [
    {
     "data": {
      "application/vnd.jupyter.widget-view+json": {
       "model_id": "8cd1525e5b6f410fac976a7bdf31f1ea",
       "version_major": 2,
       "version_minor": 0
      },
      "text/plain": [
       "interactive(children=(Button(description='Enviar ex05', style=ButtonStyle()), Output()), _dom_classes=('widget…"
      ]
     },
     "execution_count": 55,
     "metadata": {},
     "output_type": "execute_result"
    }
   ],
   "source": [
    "ia.sender(answer=\"sql_ex05\", task=\"group_having\", question=\"ex05\", answer_type=\"pyvar\")"
   ]
  },
  {
   "cell_type": "markdown",
   "metadata": {},
   "source": [
    "**Exercício 6**: Quais filmes estão alugados por Florence Woods?\n",
    "\n",
    "Retorne:\n",
    "- O primeiro nome\n",
    "- O sobrenome\n",
    "- O id do cliente\n",
    "- O título do filme\n",
    "\n",
    "Ordene pelo:\n",
    "- Título do filme, decrescente"
   ]
  },
  {
   "cell_type": "code",
   "execution_count": 62,
   "metadata": {},
   "outputs": [
    {
     "name": "stdout",
     "output_type": "stream",
     "text": [
      "Executando query:\n",
      "('rental_id', 'int', 'NO', 'PRI', None, 'auto_increment')\n",
      "('rental_date', 'datetime', 'NO', 'MUL', None, '')\n",
      "('inventory_id', 'mediumint unsigned', 'NO', 'MUL', None, '')\n",
      "('customer_id', 'smallint unsigned', 'NO', 'MUL', None, '')\n",
      "('return_date', 'datetime', 'YES', '', None, '')\n",
      "('staff_id', 'tinyint unsigned', 'NO', 'MUL', None, '')\n",
      "('last_update', 'timestamp', 'NO', '', 'CURRENT_TIMESTAMP', 'DEFAULT_GENERATED on update CURRENT_TIMESTAMP')\n"
     ]
    }
   ],
   "source": [
    "db(\"DESCRIBE sakila.rental\")"
   ]
  },
  {
   "cell_type": "code",
   "execution_count": 63,
   "metadata": {},
   "outputs": [
    {
     "name": "stdout",
     "output_type": "stream",
     "text": [
      "Executando query:\n",
      "('FLORENCE', 'WOODS', 107, 'CLUB GRAFFITI')\n",
      "('FLORENCE', 'WOODS', 107, 'BLADE POLISH')\n"
     ]
    }
   ],
   "source": [
    "sql_ex06 = \"\"\"\n",
    "SELECT\n",
    "    cust.first_name,\n",
    "    cust.last_name,\n",
    "    cust.customer_id,\n",
    "    f.title\n",
    "FROM\n",
    "    sakila.customer AS cust\n",
    "    INNER JOIN sakila.rental AS r ON cust.customer_id = r.customer_id\n",
    "    INNER JOIN sakila.inventory AS i ON r.inventory_id = i.inventory_id\n",
    "    INNER JOIN sakila.film AS f ON i.film_id = f.film_id\n",
    "WHERE\n",
    "    cust.first_name = 'FLORENCE'\n",
    "    AND cust.last_name = 'WOODS'\n",
    "    AND r.return_date IS NULL\n",
    "ORDER BY\n",
    "    f.title DESC\n",
    "\"\"\"\n",
    "\n",
    "db(sql_ex06)"
   ]
  },
  {
   "cell_type": "code",
   "execution_count": 64,
   "metadata": {},
   "outputs": [
    {
     "data": {
      "application/vnd.jupyter.widget-view+json": {
       "model_id": "662dd3c1fa8c4764b7c2b7878f4bcae9",
       "version_major": 2,
       "version_minor": 0
      },
      "text/plain": [
       "interactive(children=(Button(description='Enviar ex06', style=ButtonStyle()), Output()), _dom_classes=('widget…"
      ]
     },
     "execution_count": 64,
     "metadata": {},
     "output_type": "execute_result"
    }
   ],
   "source": [
    "ia.sender(answer=\"sql_ex06\", task=\"group_having\", question=\"ex06\", answer_type=\"pyvar\")"
   ]
  },
  {
   "cell_type": "markdown",
   "metadata": {},
   "source": [
    "**Exercício 7**: Para quais línguas não tem nenhum filme na locadora? Ordene de forma crescente.\n",
    "\n",
    "**Dica**: use `LEFT OUTER JOIN`"
   ]
  },
  {
   "cell_type": "code",
   "execution_count": null,
   "metadata": {},
   "outputs": [],
   "source": [
    "sql_ex07 = \"\"\"\n",
    "-- SUA QUERY AQUI!\n",
    "\"\"\"\n",
    "\n",
    "db(sql_ex07)"
   ]
  },
  {
   "cell_type": "code",
   "execution_count": null,
   "metadata": {},
   "outputs": [],
   "source": [
    "ia.sender(answer=\"sql_ex07\", task=\"group_having\", question=\"ex07\", answer_type=\"pyvar\")"
   ]
  },
  {
   "cell_type": "markdown",
   "metadata": {},
   "source": [
    "## `DISTINCT`"
   ]
  },
  {
   "cell_type": "markdown",
   "metadata": {},
   "source": [
    "As vezes desejamos consultar quais os valores distintos de uma coluna. Para isso usamos o qualificador `DISTINCT`. \n",
    "\n",
    "Por exemplo: Quais os anos de lançamento dos filmes da base? "
   ]
  },
  {
   "cell_type": "code",
   "execution_count": null,
   "metadata": {
    "scrolled": true
   },
   "outputs": [],
   "source": [
    "# Vai aparecer muitas cópias de \"(2006,)\"\n",
    "db(\"SELECT release_year FROM film LIMIT 20\")"
   ]
  },
  {
   "cell_type": "markdown",
   "metadata": {},
   "source": [
    "Ops, parece que não tem muita variedade nesta base! Usando `DISTINCT` podemos limpar esse resultado:"
   ]
  },
  {
   "cell_type": "code",
   "execution_count": null,
   "metadata": {},
   "outputs": [],
   "source": [
    "db(\"SELECT DISTINCT release_year FROM film\")"
   ]
  },
  {
   "cell_type": "markdown",
   "metadata": {},
   "source": [
    "### Praticando"
   ]
  },
  {
   "cell_type": "markdown",
   "metadata": {},
   "source": [
    "**Exercício 8**: Quais clientes estão alugando um DVD agora? Ordene pelo nome e sobrenome. Retorne o id, nome e sobrenome do cliente."
   ]
  },
  {
   "cell_type": "code",
   "execution_count": null,
   "metadata": {},
   "outputs": [],
   "source": [
    "sql_ex08 = \"\"\"\n",
    "-- SUA QUERY AQUI!\n",
    "\"\"\"\n",
    "\n",
    "db(sql_ex08)"
   ]
  },
  {
   "cell_type": "code",
   "execution_count": null,
   "metadata": {},
   "outputs": [],
   "source": [
    "ia.sender(answer=\"sql_ex08\", task=\"group_having\", question=\"ex08\", answer_type=\"pyvar\")"
   ]
  },
  {
   "cell_type": "markdown",
   "metadata": {},
   "source": [
    "## Agrupamento"
   ]
  },
  {
   "cell_type": "markdown",
   "metadata": {},
   "source": [
    "Uma das características mais valiosas de banco de dados é o *agrupamento*. Podemos agrupar os resultados de uma query indicando uma coluna cujos valores serão usados para agrupar os dados.\n",
    "\n",
    "Por exemplo, considere a seguinte tabela, que chamaremos de `vendas`:\n",
    "\n",
    "| id | id_item | item | preco |\n",
    "|--|--|--|--|\n",
    "| 1 | 1 | A | 5 |\n",
    "| 2 | 2 | B | 6 |\n",
    "| 3 | 1 | A | 3 |\n",
    "| 4 | 3 | C | 7 |\n",
    "| 5 | 3 | C | 5 |\n",
    "| 6 | 1 | A | 2 |\n",
    "\n",
    "Se agruparmos pela coluna `id_item` teremos 3 conjuntos de resultados:\n",
    "\n",
    "id_item = 1:\n",
    "\n",
    "| id | id_item | item | preco |\n",
    "|--|--|--|--|\n",
    "| 1 | 1 | A | 5 |\n",
    "| 3 | 1 | A | 3 |\n",
    "| 6 | 1 | A | 2 |\n",
    "\n",
    "id_item = 2:\n",
    "\n",
    "| id | id_item | item | preco |\n",
    "|--|--|--|--|\n",
    "| 2 | 2 | B | 6 |\n",
    "\n",
    "id_item = 3:\n",
    "\n",
    "| id | id_item | item | preco |\n",
    "|--|--|--|--|\n",
    "| 4 | 3 | C | 7 |\n",
    "| 5 | 3 | C | 5 |\n",
    "\n",
    "É como se tivessemos uma lista de tabelas! Isso não é permitido em SQL. Temos que **resumir** a informação de cada uma das tabelas a uma linha só, o que significa que, para cada coluna, devemos escolher uma dessas opções:\n",
    "- Resumir a informação da coluna usando uma **função de grupo**. Podemos somar, tirar a média, contar itens, concatená-los em uma única string, entre outras;\n",
    "- Para colunas que se relacionam 1 para 1 com a coluna de agrupamento (como a coluna de agrupamento em si, ou a coluna `item` neste exemplo), manter este valor. Isso acontece frequentemente quando fazemos `JOIN`.\n",
    "- Não incluir a coluna, caso contrário.\n",
    "\n",
    "Neste exemplo, podemos tomar a seguinte decisão para cada coluna:\n",
    "- `id`: descartar\n",
    "- `id_item`: manter valor\n",
    "- `item`: manter valor\n",
    "- `preco`: vamos calcular a soma dos valores, e renomear esta informação para `total`\n",
    "\n",
    "Com isso, obtemos a seguinte tabela:\n",
    "\n",
    "| id_item | item | total |\n",
    "|--|--|--|\n",
    "| 1 | A | 10 |\n",
    "| 2 | B | 6 |\n",
    "| 3 | C | 12 |\n",
    "\n",
    "Por fim, se não queremos id_item, ficamos com a seguinte tabela:\n",
    "\n",
    "| item | total |\n",
    "|--|--|\n",
    "| A | 10 |\n",
    "| B | 6 |\n",
    "| C | 12 |\n",
    "\n",
    "Para obter essa tabela podemos usar o seguinte comando SQL:\n",
    "\n",
    "```SQL\n",
    "SELECT \n",
    "    item, SUM(preco) as total \n",
    "FROM \n",
    "    vendas\n",
    "GROUP BY\n",
    "    id_item\n",
    "```\n",
    "\n",
    "Consulte o capítulo 9 do seu livro texto para conhecer mais sobre agrupamentos."
   ]
  },
  {
   "cell_type": "markdown",
   "metadata": {},
   "source": [
    "### Praticando"
   ]
  },
  {
   "cell_type": "markdown",
   "metadata": {},
   "source": [
    "**Exercício 9**: Quais os 10 atores que mais apareceram em filmes?\n",
    "\n",
    "Retorne o id, nome, sobrenome e a quantidade de filmes que o ator atua.\n",
    "\n",
    "Ordene de forma descrescente pela quantidade."
   ]
  },
  {
   "cell_type": "code",
   "execution_count": null,
   "metadata": {},
   "outputs": [],
   "source": [
    "sql_ex09 = \"\"\"\n",
    "-- SUA QUERY AQUI!\n",
    "\"\"\"\n",
    "\n",
    "db(sql_ex09)"
   ]
  },
  {
   "cell_type": "code",
   "execution_count": null,
   "metadata": {},
   "outputs": [],
   "source": [
    "ia.sender(answer=\"sql_ex09\", task=\"group_having\", question=\"ex09\", answer_type=\"pyvar\")"
   ]
  },
  {
   "cell_type": "markdown",
   "metadata": {},
   "source": [
    "## Pipeline do comando `SELECT`"
   ]
  },
  {
   "cell_type": "markdown",
   "metadata": {},
   "source": [
    "Uma versão mais completa do `SELECT` (mas não inteiramente completa - consulte o manual do MySQL) é vista abaixo:\n",
    "\n",
    "```\n",
    "SELECT [DISTINCT] <select_header> \n",
    "FROM <source_tables>\n",
    "WHERE <filter_expression>\n",
    "GROUP BY <grouping_expressions>\n",
    "HAVING <filter_expression>\n",
    "ORDER BY <ordering_expressions>\n",
    "LIMIT <count> \n",
    "OFFSET <count>\n",
    "```\n",
    "\n",
    "Você já deve ter percebido que o comando `SELECT` tem uma sequência própria de avaliação. Por exemplo, para saber quais filmes custam mais que 3 dinheiros, podemos escrever:"
   ]
  },
  {
   "cell_type": "code",
   "execution_count": null,
   "metadata": {},
   "outputs": [],
   "source": [
    "db(\"\"\"\n",
    "SELECT\n",
    "    COUNT(f.rental_rate)\n",
    "FROM\n",
    "    film f\n",
    "WHERE\n",
    "    f.rental_rate > 3\n",
    "\"\"\")"
   ]
  },
  {
   "cell_type": "markdown",
   "metadata": {},
   "source": [
    "Observe que o 'apelido' f para a tabela 'film' é definido na cláusula `FROM`, mas usado em `SELECT` e também em `WHERE`.\n",
    "\n",
    "A ordem de execução do comando `SELECT` é aproximadamente como segue:\n",
    "\n",
    "1. `FROM <source_tables>`: indica as tabelas que serão usadas nesta query e, conceitualmente, combina estas tabelas através de *produto cartesiano* em uma grande tabela. (Note o termo \"*conceitualmente*\" que usei: em termos de implementação da query este produto cartesiano raramente é construído.)\n",
    "\n",
    "2. `WHERE <filter_expression>`: filtra linhas.\n",
    "\n",
    "3. `GROUP BY <grouping_expressions>`: agrupa conjuntos de linhas.\n",
    "\n",
    "4. `SELECT <select_heading>`: escolha de colunas e de agregados.\n",
    "\n",
    "5. `HAVING <filter_expression>`: outra filtragem, esta aplicada apenas **depois** da agregação. Pode usar resultados do processo de agregação. Obriga o uso de `GROUP BY`.\n",
    "\n",
    "6. `DISTINCT`: Elimina linhas duplicadas.\n",
    "\n",
    "7. `ORDER BY`: ordena as linhas do resultado.\n",
    "\n",
    "8. `OFFSET <count>`: Pula linhas do resultado. Requer LIMIT.\n",
    "\n",
    "9. `LIMIT <count>`: Mantém apenas um número máximo de linhas.\n",
    "\n",
    "Esta sequencia também serve como dica de como projetar uma query! \n",
    "- Comece identificando as tabelas que você deseja usar\n",
    "- Monte o filtro de linhas, incluindo critérios de `JOIN`\n",
    "- Agrupe\n",
    "- Selecione colunas e aplique funções de agregação, conforme necessário\n",
    "- Filtre com `HAVING`, agora que temos agregação\n",
    "- O resto é mais fácil, aplique conforme requerido"
   ]
  },
  {
   "cell_type": "markdown",
   "metadata": {},
   "source": [
    "## `WHERE` versus `HAVING`"
   ]
  },
  {
   "cell_type": "markdown",
   "metadata": {},
   "source": [
    "Conforme visto acima, temos a cláusula `HAVING` para fazer filtragens *APÓS* agregação. Para que serve isso? Por exemplo, suponha que queremos saber quais atores não compartilham seu sobrenome com nenhum outro ator. Podemos usar a quer a seguir:"
   ]
  },
  {
   "cell_type": "code",
   "execution_count": null,
   "metadata": {
    "scrolled": true
   },
   "outputs": [],
   "source": [
    "db(\"\"\"\n",
    "SELECT \n",
    "    a.first_name, a.last_name\n",
    "FROM \n",
    "    actor a \n",
    "GROUP BY \n",
    "    a.last_name\n",
    "HAVING\n",
    "    COUNT(a.first_name) = 1\n",
    "ORDER BY\n",
    "    a.last_name, a.first_name\n",
    "\"\"\")"
   ]
  },
  {
   "cell_type": "markdown",
   "metadata": {},
   "source": [
    "## Praticando"
   ]
  },
  {
   "cell_type": "markdown",
   "metadata": {},
   "source": [
    "**Exercício 10**: Liste a duração média dos filmes na categoria 'Drama'. Renomeie o atributo retornado para `duracao_media_drama`."
   ]
  },
  {
   "cell_type": "code",
   "execution_count": null,
   "metadata": {},
   "outputs": [],
   "source": [
    "sql_ex10 = \"\"\"\n",
    "-- SUA QUERY AQUI!\n",
    "\"\"\"\n",
    "\n",
    "db(sql_ex10)"
   ]
  },
  {
   "cell_type": "code",
   "execution_count": null,
   "metadata": {},
   "outputs": [],
   "source": [
    "ia.sender(answer=\"sql_ex10\", task=\"group_having\", question=\"ex10\", answer_type=\"pyvar\")"
   ]
  },
  {
   "cell_type": "markdown",
   "metadata": {},
   "source": [
    "**Exercício 11**: Liste o nome da categoria e a duração média dos filmes por categoria. Renomeie o atributo de média para `avg_len`. Ordene de forma decrescente por `avg_len`."
   ]
  },
  {
   "cell_type": "code",
   "execution_count": null,
   "metadata": {},
   "outputs": [],
   "source": [
    "sql_ex11 = \"\"\"\n",
    "-- SUA QUERY AQUI!\n",
    "\"\"\"\n",
    "\n",
    "db(sql_ex11)"
   ]
  },
  {
   "cell_type": "code",
   "execution_count": null,
   "metadata": {},
   "outputs": [],
   "source": [
    "ia.sender(answer=\"sql_ex11\", task=\"group_having\", question=\"ex11\", answer_type=\"pyvar\")"
   ]
  },
  {
   "cell_type": "markdown",
   "metadata": {},
   "source": [
    "**Exercício 12**: Liste o nome da categoria e a duração média dos filmes por categoria, apenas para categorias cuja duração média de filme excede 120 minutos. Renomeie o atributo de média para `avg_len`. Ordene de forma decrescente por `avg_len`."
   ]
  },
  {
   "cell_type": "code",
   "execution_count": null,
   "metadata": {},
   "outputs": [],
   "source": [
    "sql_ex12 = \"\"\"\n",
    "-- SUA QUERY AQUI!\n",
    "\"\"\"\n",
    "\n",
    "db(sql_ex12)"
   ]
  },
  {
   "cell_type": "code",
   "execution_count": null,
   "metadata": {},
   "outputs": [],
   "source": [
    "ia.sender(answer=\"sql_ex12\", task=\"group_having\", question=\"ex12\", answer_type=\"pyvar\")"
   ]
  },
  {
   "cell_type": "markdown",
   "metadata": {},
   "source": [
    "**Exercício 13**: Quais atores participaram de 35 a 40 filmes (intervalo fechado)?\n",
    "\n",
    "Retorne:\n",
    "\n",
    "- Nome\n",
    "- Sobrenome\n",
    "- Quantidade de filmes\n",
    "\n",
    "Ordene por:\n",
    "- Quantidade de filmes (Decrescente)\n",
    "- Se houver empate na quantidade de filmes, ordene de forma crescente pelo nome e sobrenome."
   ]
  },
  {
   "cell_type": "code",
   "execution_count": null,
   "metadata": {},
   "outputs": [],
   "source": [
    "sql_ex13 = \"\"\"\n",
    "-- SUA QUERY AQUI!\n",
    "\"\"\"\n",
    "\n",
    "db(sql_ex13)"
   ]
  },
  {
   "cell_type": "code",
   "execution_count": null,
   "metadata": {},
   "outputs": [],
   "source": [
    "ia.sender(answer=\"sql_ex13\", task=\"group_having\", question=\"ex13\", answer_type=\"pyvar\")"
   ]
  },
  {
   "cell_type": "markdown",
   "metadata": {},
   "source": [
    "# Conclusão"
   ]
  },
  {
   "cell_type": "markdown",
   "metadata": {},
   "source": [
    "Esta aula de hoje foi bastante densa! Dicas de estudo:\n",
    "\n",
    "- Pratique no seu livro-texto, capítulo 9. Lembre-se que a base 'música' pode ser usada para praticar os comandos SQL vistos no livro.\n",
    "- Tente criar queries que sirvam de exemplo para os conceitos do livro! A tarefa de criar exemplos é muito instrutiva!\n",
    "\n",
    "**Leitura prévia**:\n",
    "Para a próxima aula vamos continuar praticando, com os assuntos dos capítulos 10 e 11, prepare-se para a aula, ok?\n",
    "\n",
    "Até a próxima!"
   ]
  },
  {
   "cell_type": "code",
   "execution_count": null,
   "metadata": {},
   "outputs": [],
   "source": [
    "connection.close()"
   ]
  },
  {
   "cell_type": "markdown",
   "metadata": {},
   "source": [
    "## Conferir Notas\n",
    "\n",
    "Confira se as notas na atividade são as esperadas!\n",
    "\n",
    "Primeiro na atividade atual!"
   ]
  },
  {
   "cell_type": "code",
   "execution_count": null,
   "metadata": {},
   "outputs": [],
   "source": [
    "ia.grades(by=\"task\", task=\"group_having\")"
   ]
  },
  {
   "cell_type": "code",
   "execution_count": null,
   "metadata": {},
   "outputs": [],
   "source": [
    "ia.grades(task=\"group_having\")"
   ]
  },
  {
   "cell_type": "code",
   "execution_count": null,
   "metadata": {},
   "outputs": [],
   "source": [
    "ia.grades(by=\"task\")"
   ]
  }
 ],
 "metadata": {
  "kernelspec": {
   "display_name": "Python 3 (ipykernel)",
   "language": "python",
   "name": "python3"
  },
  "language_info": {
   "codemirror_mode": {
    "name": "ipython",
    "version": 3
   },
   "file_extension": ".py",
   "mimetype": "text/x-python",
   "name": "python",
   "nbconvert_exporter": "python",
   "pygments_lexer": "ipython3",
   "version": "3.12.0"
  }
 },
 "nbformat": 4,
 "nbformat_minor": 4
}
