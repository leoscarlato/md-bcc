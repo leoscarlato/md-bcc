{
 "cells": [
  {
   "cell_type": "markdown",
   "metadata": {
    "tags": []
   },
   "source": [
    "# SQL pré-armazenado: stored procedures, triggers, views\n",
    "\n",
    "Além de armazenar nossos dados em tabelas, os bancos de dados também podem armazenar código SQL na forma de vários tipos de objetos:\n",
    "\n",
    "- **Stored procedures**: procedimentos escritos em SQL, executados através da chamada `CALL`.\n",
    "- **Stored functions**: funções escritas em SQL e que podem ser usadas nas mesmas situações que uma função pré-definida seria usada, como `SUM()` ou `COUNT()`\n",
    "- **Triggers**: Um procedimento que será executado automaticamente quando determinadas condições ocorrem, como `INSERT`, `UPDATE` ou `DELETE` em uma tabela.\n",
    "- **Eventos**: Procedimentos que podem ser executados pelo banco de dados em horários pré-definidos.\n",
    "- **Views**: Diferente dos outros objetos, uma view é como um `SELECT` pré-definido, e resulta em uma tabela virtual.\n",
    "\n",
    "Vamos continuar trabalhando com a base de dados **emprestimo** de uma aula anterior.\n",
    "\n",
    "<img src=\"img/diagrama.png\">\n",
    "\n",
    "Para facilitar a atividade de hoje, vamos começar do zero rodando o script `emprestimos.sql`:\n",
    "\n",
    "```SQL\n",
    "DROP DATABASE IF EXISTS emprestimos;\n",
    "CREATE DATABASE emprestimos;\n",
    "USE emprestimos;\n",
    "\n",
    "CREATE TABLE usuario (\n",
    "    id_usuario INT NOT NULL AUTO_INCREMENT,\n",
    "    nome VARCHAR(80) NOT NULL,\n",
    "    sobrenome VARCHAR(80) NOT NULL,\n",
    "    saldo DECIMAL(30 , 2 ) NOT NULL DEFAULT 0.0,\n",
    "    PRIMARY KEY (id_usuario),\n",
    "    CONSTRAINT c_saldo CHECK (saldo >= 0.0)\n",
    ");\n",
    "\n",
    "CREATE TABLE emprestimo (\n",
    "    id_emprestimo INT NOT NULL AUTO_INCREMENT,\n",
    "    id_credor INT NOT NULL,\n",
    "    id_devedor INT NOT NULL,\n",
    "    valor_atual DECIMAL(30 , 2 ) NOT NULL DEFAULT 0.0,\n",
    "    data_inicio DATETIME NOT NULL DEFAULT CURRENT_TIMESTAMP,\n",
    "    data_modificação DATETIME NOT NULL DEFAULT CURRENT_TIMESTAMP ON UPDATE CURRENT_TIMESTAMP,\n",
    "    PRIMARY KEY (id_emprestimo),\n",
    "    CONSTRAINT fk_credor FOREIGN KEY (id_credor)\n",
    "        REFERENCES usuario (id_usuario),\n",
    "    CONSTRAINT fk_devedor FOREIGN KEY (id_devedor)\n",
    "        REFERENCES usuario (id_usuario),\n",
    "    CONSTRAINT c_valor CHECK (valor_atual >= 0.0)\n",
    ");\n",
    "\n",
    "CREATE TABLE operacao (\n",
    "    id_operacao INT NOT NULL AUTO_INCREMENT,\n",
    "    id_emprestimo INT NOT NULL,\n",
    "    valor DECIMAL(30 , 2 ),\n",
    "    data_operacao DATETIME NOT NULL DEFAULT CURRENT_TIMESTAMP,\n",
    "    PRIMARY KEY (id_operacao),\n",
    "    CONSTRAINT fk_emprestimo FOREIGN KEY (id_emprestimo)\n",
    "        REFERENCES emprestimo (id_emprestimo)\n",
    ");\n",
    "\n",
    "CREATE TABLE movimentacao (\n",
    "    id_movimentacao INT NOT NULL AUTO_INCREMENT,\n",
    "    id_usuario INT NOT NULL,\n",
    "    valor DECIMAL(30 , 2 ),\n",
    "    data_operacao DATETIME NOT NULL DEFAULT CURRENT_TIMESTAMP,\n",
    "    PRIMARY KEY (id_movimentacao),\n",
    "    CONSTRAINT fk_usuario FOREIGN KEY (id_usuario)\n",
    "        REFERENCES usuario (id_usuario)\n",
    ");\n",
    "```\n",
    "\n",
    "Em seguida, vamos abrir a conexão com o banco de dados."
   ]
  },
  {
   "cell_type": "code",
   "execution_count": 1,
   "metadata": {},
   "outputs": [
    {
     "data": {
      "text/plain": [
       "True"
      ]
     },
     "execution_count": 1,
     "metadata": {},
     "output_type": "execute_result"
    }
   ],
   "source": [
    "import mysql.connector\n",
    "from functools import partial\n",
    "import os\n",
    "import insperautograder.jupyter as ia\n",
    "from dotenv import load_dotenv\n",
    "\n",
    "load_dotenv()"
   ]
  },
  {
   "cell_type": "code",
   "execution_count": 3,
   "metadata": {},
   "outputs": [
    {
     "ename": "ProgrammingError",
     "evalue": "1045 (28000): Access denied for user ''@'localhost' (using password: NO)",
     "output_type": "error",
     "traceback": [
      "\u001b[1;31m---------------------------------------------------------------------------\u001b[0m",
      "\u001b[1;31mProgrammingError\u001b[0m                          Traceback (most recent call last)",
      "Cell \u001b[1;32mIn[3], line 51\u001b[0m\n\u001b[0;32m      1\u001b[0m script \u001b[38;5;241m=\u001b[39m \u001b[38;5;124m\"\"\"\u001b[39m\n\u001b[0;32m      2\u001b[0m \u001b[38;5;124mDROP DATABASE IF EXISTS emprestimos;\u001b[39m\n\u001b[0;32m      3\u001b[0m \u001b[38;5;124mCREATE DATABASE emprestimos;\u001b[39m\n\u001b[1;32m   (...)\u001b[0m\n\u001b[0;32m     48\u001b[0m \u001b[38;5;124m);\u001b[39m\n\u001b[0;32m     49\u001b[0m \u001b[38;5;124m\"\"\"\u001b[39m\n\u001b[1;32m---> 51\u001b[0m connection \u001b[38;5;241m=\u001b[39m \u001b[43mmysql\u001b[49m\u001b[38;5;241;43m.\u001b[39;49m\u001b[43mconnector\u001b[49m\u001b[38;5;241;43m.\u001b[39;49m\u001b[43mconnect\u001b[49m\u001b[43m(\u001b[49m\n\u001b[0;32m     52\u001b[0m \u001b[43m    \u001b[49m\u001b[43mhost\u001b[49m\u001b[38;5;241;43m=\u001b[39;49m\u001b[43mos\u001b[49m\u001b[38;5;241;43m.\u001b[39;49m\u001b[43mgetenv\u001b[49m\u001b[43m(\u001b[49m\u001b[38;5;124;43m'\u001b[39;49m\u001b[38;5;124;43mMD_DB_SERVER\u001b[39;49m\u001b[38;5;124;43m'\u001b[39;49m\u001b[43m)\u001b[49m\u001b[43m,\u001b[49m\n\u001b[0;32m     53\u001b[0m \u001b[43m    \u001b[49m\u001b[43muser\u001b[49m\u001b[38;5;241;43m=\u001b[39;49m\u001b[43mos\u001b[49m\u001b[38;5;241;43m.\u001b[39;49m\u001b[43mgetenv\u001b[49m\u001b[43m(\u001b[49m\u001b[38;5;124;43m'\u001b[39;49m\u001b[38;5;124;43mMD_DB_USERNAME\u001b[39;49m\u001b[38;5;124;43m'\u001b[39;49m\u001b[43m)\u001b[49m\u001b[43m,\u001b[49m\n\u001b[0;32m     54\u001b[0m \u001b[43m    \u001b[49m\u001b[43mpassword\u001b[49m\u001b[38;5;241;43m=\u001b[39;49m\u001b[43mos\u001b[49m\u001b[38;5;241;43m.\u001b[39;49m\u001b[43mgetenv\u001b[49m\u001b[43m(\u001b[49m\u001b[38;5;124;43m'\u001b[39;49m\u001b[38;5;124;43mMD_DB_PASSWORD\u001b[39;49m\u001b[38;5;124;43m'\u001b[39;49m\u001b[43m)\u001b[49m\u001b[43m,\u001b[49m\n\u001b[0;32m     55\u001b[0m \u001b[43m)\u001b[49m\n\u001b[0;32m     57\u001b[0m \u001b[38;5;28;01mwith\u001b[39;00m connection\u001b[38;5;241m.\u001b[39mcursor() \u001b[38;5;28;01mas\u001b[39;00m cursor:\n\u001b[0;32m     58\u001b[0m     \u001b[38;5;28;01mtry\u001b[39;00m:\n",
      "File \u001b[1;32m~\\AppData\\Local\\Packages\\PythonSoftwareFoundation.Python.3.11_qbz5n2kfra8p0\\LocalCache\\local-packages\\Python311\\site-packages\\mysql\\connector\\pooling.py:323\u001b[0m, in \u001b[0;36mconnect\u001b[1;34m(*args, **kwargs)\u001b[0m\n\u001b[0;32m    321\u001b[0m \u001b[38;5;28;01mif\u001b[39;00m CMySQLConnection \u001b[38;5;129;01mand\u001b[39;00m \u001b[38;5;129;01mnot\u001b[39;00m use_pure:\n\u001b[0;32m    322\u001b[0m     \u001b[38;5;28;01mreturn\u001b[39;00m CMySQLConnection(\u001b[38;5;241m*\u001b[39margs, \u001b[38;5;241m*\u001b[39m\u001b[38;5;241m*\u001b[39mkwargs)\n\u001b[1;32m--> 323\u001b[0m \u001b[38;5;28;01mreturn\u001b[39;00m \u001b[43mMySQLConnection\u001b[49m\u001b[43m(\u001b[49m\u001b[38;5;241;43m*\u001b[39;49m\u001b[43margs\u001b[49m\u001b[43m,\u001b[49m\u001b[43m \u001b[49m\u001b[38;5;241;43m*\u001b[39;49m\u001b[38;5;241;43m*\u001b[39;49m\u001b[43mkwargs\u001b[49m\u001b[43m)\u001b[49m\n",
      "File \u001b[1;32m~\\AppData\\Local\\Packages\\PythonSoftwareFoundation.Python.3.11_qbz5n2kfra8p0\\LocalCache\\local-packages\\Python311\\site-packages\\mysql\\connector\\connection.py:173\u001b[0m, in \u001b[0;36mMySQLConnection.__init__\u001b[1;34m(self, **kwargs)\u001b[0m\n\u001b[0;32m    171\u001b[0m \u001b[38;5;28;01mif\u001b[39;00m kwargs:\n\u001b[0;32m    172\u001b[0m     \u001b[38;5;28;01mtry\u001b[39;00m:\n\u001b[1;32m--> 173\u001b[0m         \u001b[38;5;28;43mself\u001b[39;49m\u001b[38;5;241;43m.\u001b[39;49m\u001b[43mconnect\u001b[49m\u001b[43m(\u001b[49m\u001b[38;5;241;43m*\u001b[39;49m\u001b[38;5;241;43m*\u001b[39;49m\u001b[43mkwargs\u001b[49m\u001b[43m)\u001b[49m\n\u001b[0;32m    174\u001b[0m     \u001b[38;5;28;01mexcept\u001b[39;00m \u001b[38;5;167;01mException\u001b[39;00m:\n\u001b[0;32m    175\u001b[0m         \u001b[38;5;66;03m# Tidy-up underlying socket on failure\u001b[39;00m\n\u001b[0;32m    176\u001b[0m         \u001b[38;5;28mself\u001b[39m\u001b[38;5;241m.\u001b[39mclose()\n",
      "File \u001b[1;32m~\\AppData\\Local\\Packages\\PythonSoftwareFoundation.Python.3.11_qbz5n2kfra8p0\\LocalCache\\local-packages\\Python311\\site-packages\\mysql\\connector\\abstracts.py:1363\u001b[0m, in \u001b[0;36mMySQLConnectionAbstract.connect\u001b[1;34m(self, **kwargs)\u001b[0m\n\u001b[0;32m   1360\u001b[0m     \u001b[38;5;28mself\u001b[39m\u001b[38;5;241m.\u001b[39mconfig(\u001b[38;5;241m*\u001b[39m\u001b[38;5;241m*\u001b[39mkwargs)\n\u001b[0;32m   1362\u001b[0m \u001b[38;5;28mself\u001b[39m\u001b[38;5;241m.\u001b[39mdisconnect()\n\u001b[1;32m-> 1363\u001b[0m \u001b[38;5;28;43mself\u001b[39;49m\u001b[38;5;241;43m.\u001b[39;49m\u001b[43m_open_connection\u001b[49m\u001b[43m(\u001b[49m\u001b[43m)\u001b[49m\n\u001b[0;32m   1365\u001b[0m charset, collation \u001b[38;5;241m=\u001b[39m (\n\u001b[0;32m   1366\u001b[0m     kwargs\u001b[38;5;241m.\u001b[39mpop(\u001b[38;5;124m\"\u001b[39m\u001b[38;5;124mcharset\u001b[39m\u001b[38;5;124m\"\u001b[39m, \u001b[38;5;28;01mNone\u001b[39;00m),\n\u001b[0;32m   1367\u001b[0m     kwargs\u001b[38;5;241m.\u001b[39mpop(\u001b[38;5;124m\"\u001b[39m\u001b[38;5;124mcollation\u001b[39m\u001b[38;5;124m\"\u001b[39m, \u001b[38;5;28;01mNone\u001b[39;00m),\n\u001b[0;32m   1368\u001b[0m )\n\u001b[0;32m   1369\u001b[0m \u001b[38;5;28;01mif\u001b[39;00m charset \u001b[38;5;129;01mor\u001b[39;00m collation:\n",
      "File \u001b[1;32m~\\AppData\\Local\\Packages\\PythonSoftwareFoundation.Python.3.11_qbz5n2kfra8p0\\LocalCache\\local-packages\\Python311\\site-packages\\mysql\\connector\\connection.py:359\u001b[0m, in \u001b[0;36mMySQLConnection._open_connection\u001b[1;34m(self)\u001b[0m\n\u001b[0;32m    356\u001b[0m \u001b[38;5;28mself\u001b[39m\u001b[38;5;241m.\u001b[39m_do_handshake()\n\u001b[0;32m    358\u001b[0m \u001b[38;5;66;03m# start authentication negotiation\u001b[39;00m\n\u001b[1;32m--> 359\u001b[0m \u001b[38;5;28;43mself\u001b[39;49m\u001b[38;5;241;43m.\u001b[39;49m\u001b[43m_do_auth\u001b[49m\u001b[43m(\u001b[49m\n\u001b[0;32m    360\u001b[0m \u001b[43m    \u001b[49m\u001b[38;5;28;43mself\u001b[39;49m\u001b[38;5;241;43m.\u001b[39;49m\u001b[43m_user\u001b[49m\u001b[43m,\u001b[49m\n\u001b[0;32m    361\u001b[0m \u001b[43m    \u001b[49m\u001b[38;5;28;43mself\u001b[39;49m\u001b[38;5;241;43m.\u001b[39;49m\u001b[43m_password\u001b[49m\u001b[43m,\u001b[49m\n\u001b[0;32m    362\u001b[0m \u001b[43m    \u001b[49m\u001b[38;5;28;43mself\u001b[39;49m\u001b[38;5;241;43m.\u001b[39;49m\u001b[43m_database\u001b[49m\u001b[43m,\u001b[49m\n\u001b[0;32m    363\u001b[0m \u001b[43m    \u001b[49m\u001b[38;5;28;43mself\u001b[39;49m\u001b[38;5;241;43m.\u001b[39;49m\u001b[43m_client_flags\u001b[49m\u001b[43m,\u001b[49m\n\u001b[0;32m    364\u001b[0m \u001b[43m    \u001b[49m\u001b[38;5;28;43mself\u001b[39;49m\u001b[38;5;241;43m.\u001b[39;49m\u001b[43m_charset_id\u001b[49m\u001b[43m,\u001b[49m\n\u001b[0;32m    365\u001b[0m \u001b[43m    \u001b[49m\u001b[38;5;28;43mself\u001b[39;49m\u001b[38;5;241;43m.\u001b[39;49m\u001b[43m_ssl\u001b[49m\u001b[43m,\u001b[49m\n\u001b[0;32m    366\u001b[0m \u001b[43m    \u001b[49m\u001b[38;5;28;43mself\u001b[39;49m\u001b[38;5;241;43m.\u001b[39;49m\u001b[43m_conn_attrs\u001b[49m\u001b[43m,\u001b[49m\n\u001b[0;32m    367\u001b[0m \u001b[43m\u001b[49m\u001b[43m)\u001b[49m\n\u001b[0;32m    368\u001b[0m \u001b[38;5;28mself\u001b[39m\u001b[38;5;241m.\u001b[39mset_converter_class(\u001b[38;5;28mself\u001b[39m\u001b[38;5;241m.\u001b[39m_converter_class)\n\u001b[0;32m    370\u001b[0m \u001b[38;5;28;01mif\u001b[39;00m \u001b[38;5;28mself\u001b[39m\u001b[38;5;241m.\u001b[39m_client_flags \u001b[38;5;241m&\u001b[39m ClientFlag\u001b[38;5;241m.\u001b[39mCOMPRESS:\n\u001b[0;32m    371\u001b[0m     \u001b[38;5;66;03m# update the network layer accordingly\u001b[39;00m\n",
      "File \u001b[1;32m~\\AppData\\Local\\Packages\\PythonSoftwareFoundation.Python.3.11_qbz5n2kfra8p0\\LocalCache\\local-packages\\Python311\\site-packages\\mysql\\connector\\connection.py:292\u001b[0m, in \u001b[0;36mMySQLConnection._do_auth\u001b[1;34m(self, username, password, database, client_flags, charset, ssl_options, conn_attrs)\u001b[0m\n\u001b[0;32m    283\u001b[0m     \u001b[38;5;28mself\u001b[39m\u001b[38;5;241m.\u001b[39m_authenticator\u001b[38;5;241m.\u001b[39msetup_ssl(\n\u001b[0;32m    284\u001b[0m         \u001b[38;5;28mself\u001b[39m\u001b[38;5;241m.\u001b[39m_socket,\n\u001b[0;32m    285\u001b[0m         \u001b[38;5;28mself\u001b[39m\u001b[38;5;241m.\u001b[39mserver_host,\n\u001b[1;32m   (...)\u001b[0m\n\u001b[0;32m    288\u001b[0m         client_flags\u001b[38;5;241m=\u001b[39mclient_flags,\n\u001b[0;32m    289\u001b[0m     )\n\u001b[0;32m    290\u001b[0m     \u001b[38;5;28mself\u001b[39m\u001b[38;5;241m.\u001b[39m_ssl_active \u001b[38;5;241m=\u001b[39m \u001b[38;5;28;01mTrue\u001b[39;00m\n\u001b[1;32m--> 292\u001b[0m ok_pkt \u001b[38;5;241m=\u001b[39m \u001b[38;5;28;43mself\u001b[39;49m\u001b[38;5;241;43m.\u001b[39;49m\u001b[43m_authenticator\u001b[49m\u001b[38;5;241;43m.\u001b[39;49m\u001b[43mauthenticate\u001b[49m\u001b[43m(\u001b[49m\n\u001b[0;32m    293\u001b[0m \u001b[43m    \u001b[49m\u001b[43msock\u001b[49m\u001b[38;5;241;43m=\u001b[39;49m\u001b[38;5;28;43mself\u001b[39;49m\u001b[38;5;241;43m.\u001b[39;49m\u001b[43m_socket\u001b[49m\u001b[43m,\u001b[49m\n\u001b[0;32m    294\u001b[0m \u001b[43m    \u001b[49m\u001b[43mhandshake\u001b[49m\u001b[38;5;241;43m=\u001b[39;49m\u001b[38;5;28;43mself\u001b[39;49m\u001b[38;5;241;43m.\u001b[39;49m\u001b[43m_handshake\u001b[49m\u001b[43m,\u001b[49m\n\u001b[0;32m    295\u001b[0m \u001b[43m    \u001b[49m\u001b[43musername\u001b[49m\u001b[38;5;241;43m=\u001b[39;49m\u001b[43musername\u001b[49m\u001b[43m,\u001b[49m\n\u001b[0;32m    296\u001b[0m \u001b[43m    \u001b[49m\u001b[43mpassword1\u001b[49m\u001b[38;5;241;43m=\u001b[39;49m\u001b[43mpassword\u001b[49m\u001b[43m,\u001b[49m\n\u001b[0;32m    297\u001b[0m \u001b[43m    \u001b[49m\u001b[43mpassword2\u001b[49m\u001b[38;5;241;43m=\u001b[39;49m\u001b[38;5;28;43mself\u001b[39;49m\u001b[38;5;241;43m.\u001b[39;49m\u001b[43m_password2\u001b[49m\u001b[43m,\u001b[49m\n\u001b[0;32m    298\u001b[0m \u001b[43m    \u001b[49m\u001b[43mpassword3\u001b[49m\u001b[38;5;241;43m=\u001b[39;49m\u001b[38;5;28;43mself\u001b[39;49m\u001b[38;5;241;43m.\u001b[39;49m\u001b[43m_password3\u001b[49m\u001b[43m,\u001b[49m\n\u001b[0;32m    299\u001b[0m \u001b[43m    \u001b[49m\u001b[43mdatabase\u001b[49m\u001b[38;5;241;43m=\u001b[39;49m\u001b[43mdatabase\u001b[49m\u001b[43m,\u001b[49m\n\u001b[0;32m    300\u001b[0m \u001b[43m    \u001b[49m\u001b[43mcharset\u001b[49m\u001b[38;5;241;43m=\u001b[39;49m\u001b[43mcharset\u001b[49m\u001b[43m,\u001b[49m\n\u001b[0;32m    301\u001b[0m \u001b[43m    \u001b[49m\u001b[43mclient_flags\u001b[49m\u001b[38;5;241;43m=\u001b[39;49m\u001b[43mclient_flags\u001b[49m\u001b[43m,\u001b[49m\n\u001b[0;32m    302\u001b[0m \u001b[43m    \u001b[49m\u001b[43mauth_plugin\u001b[49m\u001b[38;5;241;43m=\u001b[39;49m\u001b[38;5;28;43mself\u001b[39;49m\u001b[38;5;241;43m.\u001b[39;49m\u001b[43m_auth_plugin\u001b[49m\u001b[43m,\u001b[49m\n\u001b[0;32m    303\u001b[0m \u001b[43m    \u001b[49m\u001b[43mauth_plugin_class\u001b[49m\u001b[38;5;241;43m=\u001b[39;49m\u001b[38;5;28;43mself\u001b[39;49m\u001b[38;5;241;43m.\u001b[39;49m\u001b[43m_auth_plugin_class\u001b[49m\u001b[43m,\u001b[49m\n\u001b[0;32m    304\u001b[0m \u001b[43m    \u001b[49m\u001b[43mconn_attrs\u001b[49m\u001b[38;5;241;43m=\u001b[39;49m\u001b[43mconn_attrs\u001b[49m\u001b[43m,\u001b[49m\n\u001b[0;32m    305\u001b[0m \u001b[43m    \u001b[49m\u001b[43mkrb_service_principal\u001b[49m\u001b[38;5;241;43m=\u001b[39;49m\u001b[38;5;28;43mself\u001b[39;49m\u001b[38;5;241;43m.\u001b[39;49m\u001b[43m_krb_service_principal\u001b[49m\u001b[43m,\u001b[49m\n\u001b[0;32m    306\u001b[0m \u001b[43m    \u001b[49m\u001b[43moci_config_file\u001b[49m\u001b[38;5;241;43m=\u001b[39;49m\u001b[38;5;28;43mself\u001b[39;49m\u001b[38;5;241;43m.\u001b[39;49m\u001b[43m_oci_config_file\u001b[49m\u001b[43m,\u001b[49m\n\u001b[0;32m    307\u001b[0m \u001b[43m    \u001b[49m\u001b[43moci_config_profile\u001b[49m\u001b[38;5;241;43m=\u001b[39;49m\u001b[38;5;28;43mself\u001b[39;49m\u001b[38;5;241;43m.\u001b[39;49m\u001b[43m_oci_config_profile\u001b[49m\u001b[43m,\u001b[49m\n\u001b[0;32m    308\u001b[0m \u001b[43m    \u001b[49m\u001b[43mwebauthn_callback\u001b[49m\u001b[38;5;241;43m=\u001b[39;49m\u001b[38;5;28;43mself\u001b[39;49m\u001b[38;5;241;43m.\u001b[39;49m\u001b[43m_webauthn_callback\u001b[49m\u001b[43m,\u001b[49m\n\u001b[0;32m    309\u001b[0m \u001b[43m    \u001b[49m\u001b[43mfido_callback\u001b[49m\u001b[38;5;241;43m=\u001b[39;49m\u001b[38;5;28;43mself\u001b[39;49m\u001b[38;5;241;43m.\u001b[39;49m\u001b[43m_fido_callback\u001b[49m\u001b[43m,\u001b[49m\n\u001b[0;32m    310\u001b[0m \u001b[43m\u001b[49m\u001b[43m)\u001b[49m\n\u001b[0;32m    311\u001b[0m \u001b[38;5;28mself\u001b[39m\u001b[38;5;241m.\u001b[39m_handle_ok(ok_pkt)\n\u001b[0;32m    313\u001b[0m \u001b[38;5;28;01mif\u001b[39;00m \u001b[38;5;129;01mnot\u001b[39;00m (client_flags \u001b[38;5;241m&\u001b[39m ClientFlag\u001b[38;5;241m.\u001b[39mCONNECT_WITH_DB) \u001b[38;5;129;01mand\u001b[39;00m database:\n",
      "File \u001b[1;32m~\\AppData\\Local\\Packages\\PythonSoftwareFoundation.Python.3.11_qbz5n2kfra8p0\\LocalCache\\local-packages\\Python311\\site-packages\\mysql\\connector\\authentication.py:371\u001b[0m, in \u001b[0;36mMySQLAuthenticator.authenticate\u001b[1;34m(self, sock, handshake, username, password1, password2, password3, database, charset, client_flags, max_allowed_packet, auth_plugin, auth_plugin_class, conn_attrs, is_change_user_request, **plugin_config)\u001b[0m\n\u001b[0;32m    368\u001b[0m \u001b[38;5;66;03m# server replies back\u001b[39;00m\n\u001b[0;32m    369\u001b[0m pkt \u001b[38;5;241m=\u001b[39m \u001b[38;5;28mbytes\u001b[39m(sock\u001b[38;5;241m.\u001b[39mrecv())\n\u001b[1;32m--> 371\u001b[0m ok_pkt \u001b[38;5;241m=\u001b[39m \u001b[38;5;28;43mself\u001b[39;49m\u001b[38;5;241;43m.\u001b[39;49m\u001b[43m_handle_server_response\u001b[49m\u001b[43m(\u001b[49m\u001b[43msock\u001b[49m\u001b[43m,\u001b[49m\u001b[43m \u001b[49m\u001b[43mpkt\u001b[49m\u001b[43m)\u001b[49m\n\u001b[0;32m    372\u001b[0m \u001b[38;5;28;01mif\u001b[39;00m ok_pkt \u001b[38;5;129;01mis\u001b[39;00m \u001b[38;5;28;01mNone\u001b[39;00m:\n\u001b[0;32m    373\u001b[0m     \u001b[38;5;28;01mraise\u001b[39;00m InterfaceError(\u001b[38;5;124m\"\u001b[39m\u001b[38;5;124mGot a NULL ok_pkt\u001b[39m\u001b[38;5;124m\"\u001b[39m) \u001b[38;5;28;01mfrom\u001b[39;00m \u001b[38;5;28;01mNone\u001b[39;00m\n",
      "File \u001b[1;32m~\\AppData\\Local\\Packages\\PythonSoftwareFoundation.Python.3.11_qbz5n2kfra8p0\\LocalCache\\local-packages\\Python311\\site-packages\\mysql\\connector\\authentication.py:285\u001b[0m, in \u001b[0;36mMySQLAuthenticator._handle_server_response\u001b[1;34m(self, sock, pkt)\u001b[0m\n\u001b[0;32m    282\u001b[0m     \u001b[38;5;28;01mreturn\u001b[39;00m \u001b[38;5;28mself\u001b[39m\u001b[38;5;241m.\u001b[39m_mfa_n_factor(sock, pkt)\n\u001b[0;32m    284\u001b[0m \u001b[38;5;28;01mif\u001b[39;00m pkt[\u001b[38;5;241m4\u001b[39m] \u001b[38;5;241m==\u001b[39m ERR_STATUS:\n\u001b[1;32m--> 285\u001b[0m     \u001b[38;5;28;01mraise\u001b[39;00m get_exception(pkt)\n\u001b[0;32m    287\u001b[0m \u001b[38;5;28;01mreturn\u001b[39;00m \u001b[38;5;28;01mNone\u001b[39;00m\n",
      "\u001b[1;31mProgrammingError\u001b[0m: 1045 (28000): Access denied for user ''@'localhost' (using password: NO)"
     ]
    }
   ],
   "source": [
    "script = \"\"\"\n",
    "DROP DATABASE IF EXISTS emprestimos;\n",
    "CREATE DATABASE emprestimos;\n",
    "USE emprestimos;\n",
    "\n",
    "CREATE TABLE usuario (\n",
    "    id_usuario INT NOT NULL AUTO_INCREMENT,\n",
    "    nome VARCHAR(80) NOT NULL,\n",
    "    sobrenome VARCHAR(80) NOT NULL,\n",
    "    saldo DECIMAL(30 , 2 ) NOT NULL DEFAULT 0.0,\n",
    "    PRIMARY KEY (id_usuario),\n",
    "    CONSTRAINT c_saldo CHECK (saldo >= 0.0)\n",
    ");\n",
    "\n",
    "CREATE TABLE emprestimo (\n",
    "    id_emprestimo INT NOT NULL AUTO_INCREMENT,\n",
    "    id_credor INT NOT NULL,\n",
    "    id_devedor INT NOT NULL,\n",
    "    valor_atual DECIMAL(30 , 2 ) NOT NULL DEFAULT 0.0,\n",
    "    data_inicio DATETIME NOT NULL DEFAULT CURRENT_TIMESTAMP,\n",
    "    data_modificação DATETIME NOT NULL DEFAULT CURRENT_TIMESTAMP ON UPDATE CURRENT_TIMESTAMP,\n",
    "    PRIMARY KEY (id_emprestimo),\n",
    "    CONSTRAINT fk_credor FOREIGN KEY (id_credor)\n",
    "        REFERENCES usuario (id_usuario),\n",
    "    CONSTRAINT fk_devedor FOREIGN KEY (id_devedor)\n",
    "        REFERENCES usuario (id_usuario),\n",
    "    CONSTRAINT c_valor CHECK (valor_atual >= 0.0)\n",
    ");\n",
    "\n",
    "CREATE TABLE operacao (\n",
    "    id_operacao INT NOT NULL AUTO_INCREMENT,\n",
    "    id_emprestimo INT NOT NULL,\n",
    "    valor DECIMAL(30 , 2 ),\n",
    "    data_operacao DATETIME NOT NULL DEFAULT CURRENT_TIMESTAMP,\n",
    "    PRIMARY KEY (id_operacao),\n",
    "    CONSTRAINT fk_emprestimo FOREIGN KEY (id_emprestimo)\n",
    "        REFERENCES emprestimo (id_emprestimo)\n",
    ");\n",
    "\n",
    "CREATE TABLE movimentacao (\n",
    "    id_movimentacao INT NOT NULL AUTO_INCREMENT,\n",
    "    id_usuario INT NOT NULL,\n",
    "    valor DECIMAL(30 , 2 ),\n",
    "    data_operacao DATETIME NOT NULL DEFAULT CURRENT_TIMESTAMP,\n",
    "    PRIMARY KEY (id_movimentacao),\n",
    "    CONSTRAINT fk_usuario FOREIGN KEY (id_usuario)\n",
    "        REFERENCES usuario (id_usuario)\n",
    ");\n",
    "\"\"\"\n",
    "\n",
    "connection = mysql.connector.connect(\n",
    "    host=os.getenv('MD_DB_SERVER'),\n",
    "    user=os.getenv('MD_DB_USERNAME'),\n",
    "    password=os.getenv('MD_DB_PASSWORD'),\n",
    ")\n",
    "\n",
    "with connection.cursor() as cursor:\n",
    "    try:\n",
    "        for _ in cursor.execute(script, multi=True):\n",
    "            pass\n",
    "        cursor.execute(\"COMMIT\")\n",
    "    except Exception as e:\n",
    "        print(e)\n",
    "        cursor.execute(\"ROLLBACK\")\n",
    "\n",
    "connection.close()"
   ]
  },
  {
   "cell_type": "code",
   "execution_count": 3,
   "metadata": {},
   "outputs": [],
   "source": [
    "def get_connection_helper(database):\n",
    "\n",
    "    def run_db_query(connection, query, args=None):\n",
    "        with connection.cursor() as cursor:\n",
    "            # print(\"Executando queries:\")\n",
    "            results = cursor.execute(query, args, multi=True)\n",
    "            for i, result in enumerate(results):\n",
    "                if result.with_rows:\n",
    "                    print(f\"Resultado query {i}:\")\n",
    "                    for line in result.fetchall():\n",
    "                        print(line)\n",
    "                else:\n",
    "                    print(f\"Query {i} executada!\")\n",
    "\n",
    "    connection = mysql.connector.connect(\n",
    "        host=os.getenv(\"MD_DB_SERVER\"),\n",
    "        user=os.getenv(\"MD_DB_USERNAME\"),\n",
    "        password=os.getenv(\"MD_DB_PASSWORD\"),\n",
    "        database=database,\n",
    "    )\n",
    "    return connection, partial(run_db_query, connection)\n",
    "\n",
    "\n",
    "connection, db = get_connection_helper(\"emprestimos\")"
   ]
  },
  {
   "cell_type": "markdown",
   "metadata": {},
   "source": [
    "## Stored procedures\n",
    "\n",
    "Existem algumas vantagens em procedimentos armazenados (stored procedures):\n",
    "\n",
    "- **Reuso de código**: como em qualquer outra linguagem de programação, podemos construir stored procedures para definir tarefas rotineiras e reutilizá-las em vários workflows.\n",
    "- **Segurança**: Ao invés de oferecer acesso direto à tabelas, podemos bloquear todos os acessos a tabelas e definir acesso à stored procedures! Assim, ao invés de permitir acesso à tabela *usuario*, podemos permitir acesso ao procedimento `saque()` ou `consulta_saldo()`\n",
    "- **Desempenho**: ao invés de mandar vários comandos SQL para a base de dados toda vez que quisermos realizar determinada tarefa, podemos simplesmente chamar um procedimento armazenado, pois todo o código já está na base de dados. Ademais, a base de dados não precisa compilar o procedimento toda vez que este é chamado, basta compilar na primeira execução e manter o código compilado em um cache.\n",
    "\n",
    "Existem também desvantagens:\n",
    "\n",
    "- **Debugging**: pode ser difícil debugar um procedimento armazenado\n",
    "- **Portabilidade**: a sintaxe de definição de stored procedures é raramente portável entre diferentes sistemas de gerenciamento de bancos de dados.\n",
    "- **Separação entre dados e lógica de negócios**: com stored procedures estamos migrando parte da lógica de negócios para o banco de dados. Alterações na lógica agora demandam modificações (e manutenção) em partes distintas da sua aplicação, uma receita para dor de cabeça!\n",
    "- **Aumento da carga de processamento no servidor**: servidores de banco de dados costumam ser otimizados para memória e largura de banda, não para processamento.\n",
    "\n",
    "Ou seja use procedimentos armazenados com cautela!\n",
    "\n",
    "### Interlúdio: o valor da experiência\n",
    "\n",
    "Como você já deve ter percebido à essa altura do curso, você tem um camilho longo pela frente, desde conhecer um conceito novo até dominar o uso deste conceito com sabedoria - isso chama-se ganhar experiência! Não subestime o valor de trabalhar \"nas trincheiras\" aplicando seus conhecimentos novos e aprendendo com a experiência dos veteranos. Além disso, continue se aperfeiçoando - faça cursos para conhecer melhor a tecnologia, invente projetos para tentar novas ideias, assista vídeos no YouTube sobre melhores práticas, busque projetos (e empregos) onde você possa se desenvolver.\n",
    "\n",
    "É impossível formar engenheiros experientes em um curso - mesmo que fossem dois cursos, não cobriríamos tudo que existe sobre banco de dados. Mas estou certo de que vocês adquiriram novas ferramentas neste módulo do curso, e estão capacitados a continuar progredindo em banco de dados.\n",
    "\n",
    "Nós, os professores do Insper, estamos fazendo o possível para transferir a vocês mais do que conhecimento - estamos buscando desenvolver competência também! E para isso só existe um caminho: a prática. Façam exercícios, coloquem esforço nos projetos, e venham preparados para a aula para que possamos ir além da mera leitura do material didático, ok?\n",
    "\n",
    "Voltamos agora à programação regular..."
   ]
  },
  {
   "cell_type": "markdown",
   "metadata": {},
   "source": [
    "### Construindo uma stored procedure\n",
    "\n",
    "Vamos começar com uma stored procedure para adicionar um usuário. Crie e execute o seguinte script no MySQL workbench:\n",
    "\n",
    "```SQL\n",
    "USE emprestimos;\n",
    "\n",
    "DROP PROCEDURE IF EXISTS adiciona_usuario;\n",
    "\n",
    "DELIMITER //\n",
    "CREATE PROCEDURE adiciona_usuario(IN novo_nome VARCHAR(80), IN novo_sobrenome VARCHAR(80))\n",
    "BEGIN\n",
    "    INSERT INTO usuario (nome, sobrenome)\n",
    "    VALUES (novo_nome, novo_sobrenome);\n",
    "END//\n",
    "DELIMITER ;\n",
    "```\n",
    "\n",
    "Note o uso destes comandos `DELIMITER`. Coisas de MySQL: ele não entende que os ponto-e-virgula internos ao procedimento não sinalizam o final do comando CREATE PROCEDURE... Este procedimento será necessário quando quiser criar as procedures no Workbench, mas não deverá ser utilizado quando quiser rodar direto do python (com mysql.connector podemos utilizar ponto e vírgula).\n",
    "\n",
    "Chamando pelo Python ficará assim:\n",
    "\n",
    "```SQL\n",
    "USE emprestimos;\n",
    "\n",
    "DROP PROCEDURE IF EXISTS adiciona_usuario;\n",
    "\n",
    "CREATE PROCEDURE adiciona_usuario(IN novo_nome VARCHAR(80), IN novo_sobrenome VARCHAR(80))\n",
    "BEGIN\n",
    "    INSERT INTO usuario (nome, sobrenome)\n",
    "    VALUES (novo_nome, novo_sobrenome);\n",
    "END;\n",
    "```\n",
    "\n",
    "Agora podemos usar nossa nova procedure para adicionar alguns usuários!"
   ]
  },
  {
   "cell_type": "code",
   "execution_count": 4,
   "metadata": {},
   "outputs": [
    {
     "name": "stdout",
     "output_type": "stream",
     "text": [
      "Resultado query 0:\n"
     ]
    }
   ],
   "source": [
    "db('SELECT * FROM usuario')"
   ]
  },
  {
   "cell_type": "code",
   "execution_count": 5,
   "metadata": {},
   "outputs": [
    {
     "name": "stdout",
     "output_type": "stream",
     "text": [
      "Query 0 executada!\n"
     ]
    }
   ],
   "source": [
    "db(\"COMMIT\");"
   ]
  },
  {
   "cell_type": "code",
   "execution_count": 8,
   "metadata": {
    "scrolled": true
   },
   "outputs": [
    {
     "name": "stdout",
     "output_type": "stream",
     "text": [
      "Query 0 executada!\n",
      "Query 0 executada!\n",
      "Query 0 executada!\n",
      "Query 0 executada!\n",
      "Query 0 executada!\n",
      "Query 0 executada!\n",
      "Query 0 executada!\n"
     ]
    }
   ],
   "source": [
    "db(\"START TRANSACTION;\")\n",
    "try:\n",
    "    db(\"CALL adiciona_usuario('Juca', 'Silva');\")\n",
    "    db(\"CALL adiciona_usuario('Mario', 'Ferreira');\")\n",
    "    db(\"CALL adiciona_usuario('Ana', 'Soares');\")\n",
    "    db(\"CALL adiciona_usuario('Antonio', 'Reis');\")\n",
    "    db(\"CALL adiciona_usuario('Paulo', 'Oliveira');\")\n",
    "    db(\"COMMIT;\")\n",
    "except Exception as e:\n",
    "    print(e)\n",
    "    db(\"ROLLBACK\");"
   ]
  },
  {
   "cell_type": "markdown",
   "metadata": {},
   "source": [
    "Vamos verificar se tudo funcionou bem:"
   ]
  },
  {
   "cell_type": "code",
   "execution_count": 19,
   "metadata": {
    "scrolled": true
   },
   "outputs": [
    {
     "name": "stdout",
     "output_type": "stream",
     "text": [
      "Resultado query 0:\n",
      "(1, 'Juca', 'Silva', Decimal('0.00'))\n",
      "(2, 'Mario', 'Ferreira', Decimal('0.00'))\n",
      "(3, 'Ana', 'Soares', Decimal('0.00'))\n",
      "(4, 'Antonio', 'Reis', Decimal('0.00'))\n",
      "(5, 'Paulo', 'Oliveira', Decimal('0.00'))\n"
     ]
    }
   ],
   "source": [
    "db(\"SELECT * FROM usuario\")"
   ]
  },
  {
   "cell_type": "markdown",
   "metadata": {},
   "source": [
    "### Stored functions\n",
    "\n",
    "Agora vamos criar uma função para consultar o saldo. Rode o script a seguir no MySQL Workbench:\n",
    "\n",
    "```SQL\n",
    "USE emprestimos;\n",
    "\n",
    "DROP FUNCTION IF EXISTS saldo;\n",
    "\n",
    "DELIMITER //\n",
    "CREATE FUNCTION saldo(id INT) RETURNS DECIMAL(30, 2) READS SQL DATA\n",
    "BEGIN\n",
    "    DECLARE saldo_procurado DECIMAL(30, 2);\n",
    "\n",
    "    SELECT \n",
    "        IFNULL(saldo, 0.0)\n",
    "    INTO saldo_procurado FROM\n",
    "        usuario\n",
    "    WHERE\n",
    "        id_usuario = id;\n",
    "\n",
    "    RETURN saldo_procurado;\n",
    "END//\n",
    "DELIMITER ;\n",
    "```\n",
    "\n",
    "Vamos testar esta função informando o id de usuário `1`:"
   ]
  },
  {
   "cell_type": "code",
   "execution_count": 10,
   "metadata": {},
   "outputs": [
    {
     "name": "stdout",
     "output_type": "stream",
     "text": [
      "Resultado query 0:\n",
      "(Decimal('0.00'),)\n"
     ]
    }
   ],
   "source": [
    "db(\"SELECT saldo(1)\")"
   ]
  },
  {
   "cell_type": "markdown",
   "metadata": {},
   "source": [
    "### Exercícios para entrega\n",
    "\n",
    "Esta aula tem atividade para entrega, confira os prazos e exercícios"
   ]
  },
  {
   "cell_type": "code",
   "execution_count": 11,
   "metadata": {},
   "outputs": [
    {
     "data": {
      "text/markdown": [
       "|    | Atividade            | De                        | Até                       |\n",
       "|---:|:---------------------|:--------------------------|:--------------------------|\n",
       "|  0 | newborn              | 2024-02-01 03:00:00+00:00 | 2024-05-30 03:00:00+00:00 |\n",
       "|  1 | select01             | 2024-02-08 03:00:00+00:00 | 2024-02-19 02:59:59+00:00 |\n",
       "|  2 | ddl                  | 2024-02-22 03:00:00+00:00 | 2024-02-27 02:59:59+00:00 |\n",
       "|  3 | dml                  | 2024-02-26 03:00:00+00:00 | 2024-03-03 02:59:59+00:00 |\n",
       "|  4 | group_having         | 2024-02-29 03:00:00+00:00 | 2024-03-12 02:59:59+00:00 |\n",
       "|  5 | views                | 2024-02-29 03:00:00+00:00 | 2024-03-20 02:59:59+00:00 |\n",
       "|  6 | agg_join             | 2024-02-29 03:00:00+00:00 | 2024-03-05 02:59:59+00:00 |\n",
       "|  7 | sql_review1          | 2024-03-11 03:00:00+00:00 | 2024-03-20 02:59:59+00:00 |\n",
       "|  8 | permissions          | 2024-03-18 03:00:00+00:00 | 2024-03-26 02:59:59+00:00 |\n",
       "|  9 | desafio_normalizacao | 2024-03-21 03:00:00+00:00 | 2024-04-15 02:59:59+00:00 |\n",
       "| 10 | ai_md_23_1           | 2024-03-25 03:00:00+00:00 | 2024-04-01 15:00:00+00:00 |\n",
       "| 11 | ai_md_23_2           | 2024-03-25 03:00:00+00:00 | 2024-04-01 15:00:00+00:00 |\n",
       "| 12 | ai_md_24_1           | 2024-04-01 03:00:00+00:00 | 2024-04-01 18:35:00+00:00 |\n",
       "| 13 | triggers             | 2024-04-18 03:00:00+00:00 | 2024-04-26 02:59:59+00:00 |"
      ],
      "text/plain": [
       "<IPython.core.display.Markdown object>"
      ]
     },
     "metadata": {},
     "output_type": "display_data"
    }
   ],
   "source": [
    "ia.tasks()"
   ]
  },
  {
   "cell_type": "code",
   "execution_count": 12,
   "metadata": {},
   "outputs": [
    {
     "data": {
      "text/markdown": [
       "|    | Atividade   | Exercício   |   Peso |   Nota |\n",
       "|---:|:------------|:------------|-------:|-------:|\n",
       "|  0 | triggers    | ex01        |      1 |     10 |\n",
       "|  1 | triggers    | ex02        |      1 |     10 |\n",
       "|  2 | triggers    | ex04        |      1 |      0 |\n",
       "|  3 | triggers    | ex05        |      1 |      0 |\n",
       "|  4 | triggers    | ex06        |      1 |      0 |\n",
       "|  5 | triggers    | ex07        |      1 |      0 |\n",
       "|  6 | triggers    | ex08        |      1 |      0 |\n",
       "|  7 | triggers    | ex09        |      1 |      0 |"
      ],
      "text/plain": [
       "<IPython.core.display.Markdown object>"
      ]
     },
     "metadata": {},
     "output_type": "display_data"
    }
   ],
   "source": [
    "ia.grades(task=\"triggers\")"
   ]
  },
  {
   "cell_type": "code",
   "execution_count": 13,
   "metadata": {},
   "outputs": [
    {
     "data": {
      "text/markdown": [
       "|    | Tarefa   |   Nota |\n",
       "|---:|:---------|-------:|\n",
       "|  0 | triggers |    2.5 |"
      ],
      "text/plain": [
       "<IPython.core.display.Markdown object>"
      ]
     },
     "metadata": {},
     "output_type": "display_data"
    }
   ],
   "source": [
    "ia.grades(by=\"task\", task=\"triggers\")"
   ]
  },
  {
   "cell_type": "markdown",
   "metadata": {},
   "source": [
    "**<div id=\"perg_atv1\"></div>**\n",
    "### Exercícios\n",
    "\n",
    "<div class=\"alert alert-info\">\n",
    "    \n",
    "**OBS**: Alteramos a função `db()` para aceitar o envio de múltiplas queries na mesma string!\n",
    "\n",
    "</div>\n",
    "\n",
    "#### Exercício 1\n",
    "Faça um script SQL que cria uma stored procedure para cobrar uma taxa de manutenção de `D` dinheiros de cada conta, desde que a conta tenha saldo (não cobra de quem nã otem saldo suficiente para descontar a taxa).\n",
    "\n",
    "**Dica**: use a função `IF()`: https://dev.mysql.com/doc/refman/8.0/en/flow-control-functions.html#function_if"
   ]
  },
  {
   "cell_type": "markdown",
   "metadata": {},
   "source": [
    "<div class=\"alert alert-success\">\n",
    "\n",
    "Faça a partir do código base:\n",
    "\n",
    "```SQL\n",
    "USE emprestimos;\n",
    "\n",
    "DROP PROCEDURE IF EXISTS cobra_taxa;\n",
    "\n",
    "CREATE PROCEDURE cobra_taxa(IN taxa DECIMAL(30, 2))\n",
    "BEGIN\n",
    "    --- Gambiarra para desligar o aviso de segurança que previne\n",
    "    --- UPDATES gerais (sem WHERE).\n",
    "    -- OBS: da pra fazer sem ela!\n",
    "    SET @OLD_SQL_SAFE_UPDATES = @@SQL_SAFE_UPDATES;\n",
    "    SET SQL_SAFE_UPDATES=0;\n",
    "\n",
    "    --- Insira seu código aqui.\n",
    "    \n",
    "    --- Desliga a gambiarra.\n",
    "    SET SQL_SAFE_UPDATES=@OLD_SQL_SAFE_UPDATES;\n",
    "END;\n",
    "```   \n",
    "\n",
    "</div>"
   ]
  },
  {
   "cell_type": "code",
   "execution_count": 21,
   "metadata": {},
   "outputs": [
    {
     "name": "stdout",
     "output_type": "stream",
     "text": [
      "Query 0 executada!\n",
      "Query 1 executada!\n",
      "Query 2 executada!\n"
     ]
    }
   ],
   "source": [
    "sql_ex01 = \"\"\"\n",
    "USE emprestimos;\n",
    "\n",
    "DROP PROCEDURE IF EXISTS cobra_taxa;\n",
    "\n",
    "CREATE PROCEDURE cobra_taxa(IN taxa DECIMAL(30,2))\n",
    "BEGIN\n",
    "\n",
    "    -- Gambiarra para desligar o aviso de segurança que previne\n",
    "    -- UPDATES gerais (sem WHERE).\n",
    "    -- OBS: da pra fazer sem ela!\n",
    "    SET @OLD_SQL_SAFE_UPDATES=@@SQL_SAFE_UPDATES;\n",
    "    SET SQL_SAFE_UPDATES=0;\n",
    "    \n",
    "    \n",
    "    UPDATE usuario SET saldo = IF(saldo >= taxa, saldo - taxa, saldo);\n",
    "    \n",
    "\n",
    "    \n",
    "    -- Desliga a gambiarra.\n",
    "    SET SQL_SAFE_UPDATES=@OLD_SQL_SAFE_UPDATES;\n",
    "END;\"\"\"\n",
    "\n",
    "db(sql_ex01)"
   ]
  },
  {
   "cell_type": "markdown",
   "metadata": {},
   "source": [
    "Escreva um código SQL para testar sua procedure:\n",
    "\n",
    "**Resposta:**"
   ]
  },
  {
   "cell_type": "code",
   "execution_count": 22,
   "metadata": {},
   "outputs": [
    {
     "name": "stdout",
     "output_type": "stream",
     "text": [
      "Resultado query 0:\n",
      "(1, 'Juca', 'Silva', Decimal('22.00'))\n",
      "(2, 'Mario', 'Ferreira', Decimal('0.00'))\n",
      "(3, 'Ana', 'Soares', Decimal('40.00'))\n",
      "(4, 'Antonio', 'Reis', Decimal('0.00'))\n",
      "(5, 'Paulo', 'Oliveira', Decimal('0.00'))\n",
      "Query 1 executada!\n",
      "Resultado query 2:\n",
      "(1, 'Juca', 'Silva', Decimal('12.00'))\n",
      "(2, 'Mario', 'Ferreira', Decimal('0.00'))\n",
      "(3, 'Ana', 'Soares', Decimal('30.00'))\n",
      "(4, 'Antonio', 'Reis', Decimal('0.00'))\n",
      "(5, 'Paulo', 'Oliveira', Decimal('0.00'))\n"
     ]
    }
   ],
   "source": [
    "db(\"\"\"\n",
    "SELECT * FROM usuario;\n",
    "CALL cobra_taxa(10);\n",
    "   SELECT * FROM usuario;\n",
    "\n",
    "\"\"\")"
   ]
  },
  {
   "cell_type": "code",
   "execution_count": 16,
   "metadata": {},
   "outputs": [
    {
     "data": {
      "application/vnd.jupyter.widget-view+json": {
       "model_id": "73ed9622c6dc40dea4429a628a8eb815",
       "version_major": 2,
       "version_minor": 0
      },
      "text/plain": [
       "interactive(children=(Button(description='Enviar ex01', style=ButtonStyle()), Output()), _dom_classes=('widget…"
      ]
     },
     "execution_count": 16,
     "metadata": {},
     "output_type": "execute_result"
    }
   ],
   "source": [
    "ia.sender(answer=\"sql_ex01\", task=\"triggers\", question=\"ex01\", answer_type=\"pyvar\")"
   ]
  },
  {
   "cell_type": "markdown",
   "metadata": {},
   "source": [
    "<a href=\"#gab_atv1\">Click para ver a resposta</a>"
   ]
  },
  {
   "cell_type": "markdown",
   "metadata": {},
   "source": [
    "**<div id=\"perg_atv2\"></div>**\n",
    "#### Exercício 2\n",
    "\n",
    "Faça uma função que retorna a soma de todos os saldos da base de dados."
   ]
  },
  {
   "cell_type": "markdown",
   "metadata": {},
   "source": [
    "<div class=\"alert alert-success\">\n",
    "\n",
    "```SQL\n",
    "USE emprestimos;\n",
    "\n",
    "DROP FUNCTION IF EXISTS total_saldos;\n",
    "\n",
    "CREATE FUNCTION total_saldos() RETURNS DECIMAL(30, 2) READS SQL DATA\n",
    "BEGIN\n",
    "\n",
    "    -- Insira seu SQL aqui.\n",
    "\n",
    "END;\n",
    "```\n",
    "\n",
    "</div>"
   ]
  },
  {
   "cell_type": "code",
   "execution_count": 23,
   "metadata": {},
   "outputs": [
    {
     "name": "stdout",
     "output_type": "stream",
     "text": [
      "Query 0 executada!\n",
      "Query 1 executada!\n",
      "Query 2 executada!\n"
     ]
    }
   ],
   "source": [
    "sql_ex02 = \"\"\"\n",
    "USE emprestimos;\n",
    "\n",
    "DROP FUNCTION IF EXISTS total_saldos;\n",
    "\n",
    "CREATE FUNCTION total_saldos() RETURNS DECIMAL(30, 2) READS SQL DATA\n",
    "BEGIN\n",
    "\n",
    "\tDECLARE soma_saldos DECIMAL(30,2);\n",
    "    \n",
    "    SELECT\n",
    "\t\tSUM(u.saldo)\n",
    "\tFROM\n",
    "\t\tusuario as u\n",
    "\tINTO\n",
    "\t\tsoma_saldos;\n",
    "        \n",
    "\tRETURN soma_saldos;\n",
    "\n",
    "\n",
    "END;\n",
    "\"\"\"\n",
    "\n",
    "db(sql_ex02)"
   ]
  },
  {
   "cell_type": "markdown",
   "metadata": {},
   "source": [
    "Escreva um código SQL para testar sua função:"
   ]
  },
  {
   "cell_type": "markdown",
   "metadata": {},
   "source": [
    "**Resposta:**"
   ]
  },
  {
   "cell_type": "code",
   "execution_count": 24,
   "metadata": {},
   "outputs": [
    {
     "name": "stdout",
     "output_type": "stream",
     "text": [
      "Resultado query 0:\n",
      "(Decimal('42.00'),)\n"
     ]
    }
   ],
   "source": [
    "db(\"SELECT total_saldos()\")"
   ]
  },
  {
   "cell_type": "code",
   "execution_count": 25,
   "metadata": {},
   "outputs": [
    {
     "data": {
      "application/vnd.jupyter.widget-view+json": {
       "model_id": "a609b4b07d2d4930bdaf4c3521c39304",
       "version_major": 2,
       "version_minor": 0
      },
      "text/plain": [
       "interactive(children=(Button(description='Enviar ex02', style=ButtonStyle()), Output()), _dom_classes=('widget…"
      ]
     },
     "execution_count": 25,
     "metadata": {},
     "output_type": "execute_result"
    }
   ],
   "source": [
    "ia.sender(answer=\"sql_ex02\", task=\"triggers\", question=\"ex02\", answer_type=\"pyvar\")"
   ]
  },
  {
   "cell_type": "markdown",
   "metadata": {},
   "source": [
    "<a href=\"#gab_atv2\">Click para ver a resposta</a>"
   ]
  },
  {
   "cell_type": "markdown",
   "metadata": {},
   "source": [
    "## Triggers\n",
    "\n",
    "*Triggers*, ou gatilhos, são procedimentos armazenados que são executados automaticamente quando uma operação é realizada. Você pode escolher se o trigger ocorre antes ou depois da ação.\n",
    "\n",
    "Vamos fazer um gatilho para atualizar automaticamente o saldo do usuário quando uma nova movimentação é inserida na tabela `movimentacao`. Vamos também criar uma *constraint* para impedir que um saldo negativo exista na nossa base de dados.\n",
    "\n",
    "Bom, rode o script SQL a seguir no MySQL Workbench:\n",
    "\n",
    "```SQL\n",
    "USE emprestimos;\n",
    "\n",
    "DROP TRIGGER IF EXISTS trig_movimentacao;\n",
    "\n",
    "DELIMITER //\n",
    "CREATE TRIGGER trig_movimentacao \n",
    "BEFORE INSERT ON movimentacao\n",
    "FOR EACH ROW\n",
    "BEGIN\n",
    "    UPDATE usuario \n",
    "        SET saldo = saldo + NEW.valor \n",
    "        WHERE id_usuario = NEW.id_usuario;\n",
    "END//\n",
    "\n",
    "DELIMITER ;\n",
    "```\n",
    "\n",
    "*Interlúdio*: e quanto ao constraint `CHECK`? No MySQL 5.7 o `CHECK` não funcionava, apesar de previsto no padrão SQL. Na versão 8.0 isso foi corrigido.\n",
    "\n",
    "Na documentação do MySQL 5.7 (https://dev.mysql.com/doc/refman/5.7/en/create-table.html) temos o seguinte:\n",
    "\n",
    "    The `CHECK` clause is parsed but ignored by all storage engines. See Section 1.8.2.3, “Foreign Key Differences”.\n",
    "\n",
    "A título de curiosidade: o remédio era criar um trigger para evitar a atualização com valores errados. Veja a gambiarra em ação no código a seguir.\n",
    "\n",
    "```SQL\n",
    "USE emprestimos;\n",
    "\n",
    "DROP TRIGGER IF EXISTS trig_saldo_insuficiente;\n",
    "\n",
    "DELIMITER //\n",
    "CREATE TRIGGER trig_saldo_insuficiente \n",
    "BEFORE UPDATE ON usuario\n",
    "FOR EACH ROW\n",
    "BEGIN\n",
    "    -- https://stackoverflow.com/questions/2115497/check-constraint-in-mysql-is-not-working\n",
    "    IF NEW.saldo < 0.0 THEN\n",
    "        SIGNAL SQLSTATE '12345'\n",
    "            SET MESSAGE_TEXT = 'Saldo insuficiente.';\n",
    "    END IF;\n",
    "END//\n",
    "DELIMITER ;\n",
    "```\n",
    "\n",
    "Já na versão atual do MySQL o check de saldo pode ser implementado normalmente com o constraint `CHECK`\n",
    "\n",
    "```SQL\n",
    "USE emprestimos;\n",
    "ALTER TABLE usuario ADD CONSTRAINT chk_saldo CHECK (saldo >= 0.0);\n",
    "ALTER TABLE emprestimo ADD CONSTRAINT chk_emprestimo CHECK (valor_atual >= 0.0);\n",
    "```\n",
    "\n",
    "Vamos testar esse trigger na nossa tabela:"
   ]
  },
  {
   "cell_type": "code",
   "execution_count": 26,
   "metadata": {},
   "outputs": [],
   "source": [
    "def movimentacao(id_usuario, valor):\n",
    "    db(\n",
    "        \"INSERT INTO movimentacao (id_usuario, valor) VALUES (%s, %s)\",\n",
    "        (id_usuario, valor),\n",
    "    )\n",
    "    db(\"SELECT * FROM usuario WHERE id_usuario=%s\", (id_usuario,))"
   ]
  },
  {
   "cell_type": "code",
   "execution_count": 27,
   "metadata": {},
   "outputs": [
    {
     "name": "stdout",
     "output_type": "stream",
     "text": [
      "Query 0 executada!\n",
      "Query 0 executada!\n",
      "Resultado query 0:\n",
      "(1, 'Juca', 'Silva', Decimal('1012.00'))\n"
     ]
    }
   ],
   "source": [
    "db(\"START TRANSACTION\")\n",
    "movimentacao(1, 1000)"
   ]
  },
  {
   "cell_type": "code",
   "execution_count": 28,
   "metadata": {},
   "outputs": [
    {
     "name": "stdout",
     "output_type": "stream",
     "text": [
      "Resultado query 0:\n",
      "(1, 1, Decimal('1000.00'), datetime.datetime(2024, 4, 22, 14, 44, 19))\n"
     ]
    }
   ],
   "source": [
    "db('SELECT * FROM movimentacao')"
   ]
  },
  {
   "cell_type": "code",
   "execution_count": 29,
   "metadata": {},
   "outputs": [
    {
     "name": "stdout",
     "output_type": "stream",
     "text": [
      "Resultado query 0:\n",
      "(1, 'Juca', 'Silva', Decimal('1012.00'))\n",
      "(2, 'Mario', 'Ferreira', Decimal('0.00'))\n",
      "(3, 'Ana', 'Soares', Decimal('30.00'))\n",
      "(4, 'Antonio', 'Reis', Decimal('0.00'))\n",
      "(5, 'Paulo', 'Oliveira', Decimal('0.00'))\n"
     ]
    }
   ],
   "source": [
    "db('SELECT * FROM usuario')"
   ]
  },
  {
   "cell_type": "markdown",
   "metadata": {},
   "source": [
    "Parece ter funcionado... mas antes de executar o `COMMIT`, vamos testar o que acontece quando o saldo ficaria negativo:"
   ]
  },
  {
   "cell_type": "code",
   "execution_count": 30,
   "metadata": {
    "scrolled": true
   },
   "outputs": [
    {
     "ename": "DatabaseError",
     "evalue": "1644 (12345): Saldo insuficiente.",
     "output_type": "error",
     "traceback": [
      "\u001b[1;31m---------------------------------------------------------------------------\u001b[0m",
      "\u001b[1;31mMySQLInterfaceError\u001b[0m                       Traceback (most recent call last)",
      "File \u001b[1;32mc:\\Users\\Asus\\AppData\\Local\\Programs\\Python\\Python312\\Lib\\site-packages\\mysql\\connector\\connection_cext.py:639\u001b[0m, in \u001b[0;36mCMySQLConnection.cmd_query\u001b[1;34m(self, query, raw, buffered, raw_as_string)\u001b[0m\n\u001b[0;32m    638\u001b[0m         query \u001b[38;5;241m=\u001b[39m query\u001b[38;5;241m.\u001b[39mencode(\u001b[38;5;124m\"\u001b[39m\u001b[38;5;124mutf-8\u001b[39m\u001b[38;5;124m\"\u001b[39m)\n\u001b[1;32m--> 639\u001b[0m     \u001b[38;5;28;43mself\u001b[39;49m\u001b[38;5;241;43m.\u001b[39;49m\u001b[43m_cmysql\u001b[49m\u001b[38;5;241;43m.\u001b[39;49m\u001b[43mquery\u001b[49m\u001b[43m(\u001b[49m\n\u001b[0;32m    640\u001b[0m \u001b[43m        \u001b[49m\u001b[43mquery\u001b[49m\u001b[43m,\u001b[49m\n\u001b[0;32m    641\u001b[0m \u001b[43m        \u001b[49m\u001b[43mraw\u001b[49m\u001b[38;5;241;43m=\u001b[39;49m\u001b[43mraw\u001b[49m\u001b[43m,\u001b[49m\n\u001b[0;32m    642\u001b[0m \u001b[43m        \u001b[49m\u001b[43mbuffered\u001b[49m\u001b[38;5;241;43m=\u001b[39;49m\u001b[43mbuffered\u001b[49m\u001b[43m,\u001b[49m\n\u001b[0;32m    643\u001b[0m \u001b[43m        \u001b[49m\u001b[43mraw_as_string\u001b[49m\u001b[38;5;241;43m=\u001b[39;49m\u001b[43mraw_as_string\u001b[49m\u001b[43m,\u001b[49m\n\u001b[0;32m    644\u001b[0m \u001b[43m        \u001b[49m\u001b[43mquery_attrs\u001b[49m\u001b[38;5;241;43m=\u001b[39;49m\u001b[38;5;28;43mself\u001b[39;49m\u001b[38;5;241;43m.\u001b[39;49m\u001b[43mquery_attrs\u001b[49m\u001b[43m,\u001b[49m\n\u001b[0;32m    645\u001b[0m \u001b[43m    \u001b[49m\u001b[43m)\u001b[49m\n\u001b[0;32m    646\u001b[0m \u001b[38;5;28;01mexcept\u001b[39;00m MySQLInterfaceError \u001b[38;5;28;01mas\u001b[39;00m err:\n",
      "\u001b[1;31mMySQLInterfaceError\u001b[0m: Saldo insuficiente.",
      "\nThe above exception was the direct cause of the following exception:\n",
      "\u001b[1;31mDatabaseError\u001b[0m                             Traceback (most recent call last)",
      "Cell \u001b[1;32mIn[30], line 1\u001b[0m\n\u001b[1;32m----> 1\u001b[0m \u001b[43mmovimentacao\u001b[49m\u001b[43m(\u001b[49m\u001b[38;5;241;43m1\u001b[39;49m\u001b[43m,\u001b[49m\u001b[43m \u001b[49m\u001b[38;5;241;43m-\u001b[39;49m\u001b[38;5;241;43m20000\u001b[39;49m\u001b[43m)\u001b[49m\n",
      "Cell \u001b[1;32mIn[26], line 2\u001b[0m, in \u001b[0;36mmovimentacao\u001b[1;34m(id_usuario, valor)\u001b[0m\n\u001b[0;32m      1\u001b[0m \u001b[38;5;28;01mdef\u001b[39;00m \u001b[38;5;21mmovimentacao\u001b[39m(id_usuario, valor):\n\u001b[1;32m----> 2\u001b[0m     \u001b[43mdb\u001b[49m\u001b[43m(\u001b[49m\n\u001b[0;32m      3\u001b[0m \u001b[43m        \u001b[49m\u001b[38;5;124;43m\"\u001b[39;49m\u001b[38;5;124;43mINSERT INTO movimentacao (id_usuario, valor) VALUES (\u001b[39;49m\u001b[38;5;132;43;01m%s\u001b[39;49;00m\u001b[38;5;124;43m, \u001b[39;49m\u001b[38;5;132;43;01m%s\u001b[39;49;00m\u001b[38;5;124;43m)\u001b[39;49m\u001b[38;5;124;43m\"\u001b[39;49m\u001b[43m,\u001b[49m\n\u001b[0;32m      4\u001b[0m \u001b[43m        \u001b[49m\u001b[43m(\u001b[49m\u001b[43mid_usuario\u001b[49m\u001b[43m,\u001b[49m\u001b[43m \u001b[49m\u001b[43mvalor\u001b[49m\u001b[43m)\u001b[49m\u001b[43m,\u001b[49m\n\u001b[0;32m      5\u001b[0m \u001b[43m    \u001b[49m\u001b[43m)\u001b[49m\n\u001b[0;32m      6\u001b[0m     db(\u001b[38;5;124m\"\u001b[39m\u001b[38;5;124mSELECT * FROM usuario WHERE id_usuario=\u001b[39m\u001b[38;5;132;01m%s\u001b[39;00m\u001b[38;5;124m\"\u001b[39m, (id_usuario,))\n",
      "Cell \u001b[1;32mIn[3], line 6\u001b[0m, in \u001b[0;36mget_connection_helper.<locals>.run_db_query\u001b[1;34m(connection, query, args)\u001b[0m\n\u001b[0;32m      3\u001b[0m \u001b[38;5;28;01mdef\u001b[39;00m \u001b[38;5;21mrun_db_query\u001b[39m(connection, query, args\u001b[38;5;241m=\u001b[39m\u001b[38;5;28;01mNone\u001b[39;00m):\n\u001b[0;32m      4\u001b[0m     \u001b[38;5;28;01mwith\u001b[39;00m connection\u001b[38;5;241m.\u001b[39mcursor() \u001b[38;5;28;01mas\u001b[39;00m cursor:\n\u001b[0;32m      5\u001b[0m         \u001b[38;5;66;03m# print(\"Executando queries:\")\u001b[39;00m\n\u001b[1;32m----> 6\u001b[0m         results \u001b[38;5;241m=\u001b[39m \u001b[43mcursor\u001b[49m\u001b[38;5;241;43m.\u001b[39;49m\u001b[43mexecute\u001b[49m\u001b[43m(\u001b[49m\u001b[43mquery\u001b[49m\u001b[43m,\u001b[49m\u001b[43m \u001b[49m\u001b[43margs\u001b[49m\u001b[43m,\u001b[49m\u001b[43m \u001b[49m\u001b[43mmulti\u001b[49m\u001b[38;5;241;43m=\u001b[39;49m\u001b[38;5;28;43;01mTrue\u001b[39;49;00m\u001b[43m)\u001b[49m\n\u001b[0;32m      7\u001b[0m         \u001b[38;5;28;01mfor\u001b[39;00m i, result \u001b[38;5;129;01min\u001b[39;00m \u001b[38;5;28menumerate\u001b[39m(results):\n\u001b[0;32m      8\u001b[0m             \u001b[38;5;28;01mif\u001b[39;00m result\u001b[38;5;241m.\u001b[39mwith_rows:\n",
      "File \u001b[1;32mc:\\Users\\Asus\\AppData\\Local\\Programs\\Python\\Python312\\Lib\\site-packages\\mysql\\connector\\cursor_cext.py:330\u001b[0m, in \u001b[0;36mCMySQLCursor.execute\u001b[1;34m(self, operation, params, multi)\u001b[0m\n\u001b[0;32m    325\u001b[0m             \u001b[38;5;28;01mraise\u001b[39;00m ProgrammingError(\n\u001b[0;32m    326\u001b[0m                 \u001b[38;5;124m\"\u001b[39m\u001b[38;5;124mNot all parameters were used in the SQL statement\u001b[39m\u001b[38;5;124m\"\u001b[39m\n\u001b[0;32m    327\u001b[0m             )\n\u001b[0;32m    329\u001b[0m \u001b[38;5;28;01mtry\u001b[39;00m:\n\u001b[1;32m--> 330\u001b[0m     result \u001b[38;5;241m=\u001b[39m \u001b[38;5;28;43mself\u001b[39;49m\u001b[38;5;241;43m.\u001b[39;49m\u001b[43m_cnx\u001b[49m\u001b[38;5;241;43m.\u001b[39;49m\u001b[43mcmd_query\u001b[49m\u001b[43m(\u001b[49m\n\u001b[0;32m    331\u001b[0m \u001b[43m        \u001b[49m\u001b[43mstmt\u001b[49m\u001b[43m,\u001b[49m\n\u001b[0;32m    332\u001b[0m \u001b[43m        \u001b[49m\u001b[43mraw\u001b[49m\u001b[38;5;241;43m=\u001b[39;49m\u001b[38;5;28;43mself\u001b[39;49m\u001b[38;5;241;43m.\u001b[39;49m\u001b[43m_raw\u001b[49m\u001b[43m,\u001b[49m\n\u001b[0;32m    333\u001b[0m \u001b[43m        \u001b[49m\u001b[43mbuffered\u001b[49m\u001b[38;5;241;43m=\u001b[39;49m\u001b[38;5;28;43mself\u001b[39;49m\u001b[38;5;241;43m.\u001b[39;49m\u001b[43m_buffered\u001b[49m\u001b[43m,\u001b[49m\n\u001b[0;32m    334\u001b[0m \u001b[43m        \u001b[49m\u001b[43mraw_as_string\u001b[49m\u001b[38;5;241;43m=\u001b[39;49m\u001b[38;5;28;43mself\u001b[39;49m\u001b[38;5;241;43m.\u001b[39;49m\u001b[43m_raw_as_string\u001b[49m\u001b[43m,\u001b[49m\n\u001b[0;32m    335\u001b[0m \u001b[43m    \u001b[49m\u001b[43m)\u001b[49m\n\u001b[0;32m    336\u001b[0m \u001b[38;5;28;01mexcept\u001b[39;00m MySQLInterfaceError \u001b[38;5;28;01mas\u001b[39;00m err:\n\u001b[0;32m    337\u001b[0m     \u001b[38;5;28;01mraise\u001b[39;00m get_mysql_exception(\n\u001b[0;32m    338\u001b[0m         msg\u001b[38;5;241m=\u001b[39merr\u001b[38;5;241m.\u001b[39mmsg, errno\u001b[38;5;241m=\u001b[39merr\u001b[38;5;241m.\u001b[39merrno, sqlstate\u001b[38;5;241m=\u001b[39merr\u001b[38;5;241m.\u001b[39msqlstate\n\u001b[0;32m    339\u001b[0m     ) \u001b[38;5;28;01mfrom\u001b[39;00m \u001b[38;5;21;01merr\u001b[39;00m\n",
      "File \u001b[1;32mc:\\Users\\Asus\\AppData\\Local\\Programs\\Python\\Python312\\Lib\\site-packages\\mysql\\connector\\opentelemetry\\context_propagation.py:77\u001b[0m, in \u001b[0;36mwith_context_propagation.<locals>.wrapper\u001b[1;34m(cnx, *args, **kwargs)\u001b[0m\n\u001b[0;32m     75\u001b[0m \u001b[38;5;250m\u001b[39m\u001b[38;5;124;03m\"\"\"Context propagation decorator.\"\"\"\u001b[39;00m\n\u001b[0;32m     76\u001b[0m \u001b[38;5;28;01mif\u001b[39;00m \u001b[38;5;129;01mnot\u001b[39;00m OTEL_ENABLED \u001b[38;5;129;01mor\u001b[39;00m \u001b[38;5;129;01mnot\u001b[39;00m cnx\u001b[38;5;241m.\u001b[39motel_context_propagation:\n\u001b[1;32m---> 77\u001b[0m     \u001b[38;5;28;01mreturn\u001b[39;00m \u001b[43mmethod\u001b[49m\u001b[43m(\u001b[49m\u001b[43mcnx\u001b[49m\u001b[43m,\u001b[49m\u001b[43m \u001b[49m\u001b[38;5;241;43m*\u001b[39;49m\u001b[43margs\u001b[49m\u001b[43m,\u001b[49m\u001b[43m \u001b[49m\u001b[38;5;241;43m*\u001b[39;49m\u001b[38;5;241;43m*\u001b[39;49m\u001b[43mkwargs\u001b[49m\u001b[43m)\u001b[49m\n\u001b[0;32m     79\u001b[0m current_span \u001b[38;5;241m=\u001b[39m trace\u001b[38;5;241m.\u001b[39mget_current_span()\n\u001b[0;32m     80\u001b[0m tp_header \u001b[38;5;241m=\u001b[39m \u001b[38;5;28;01mNone\u001b[39;00m\n",
      "File \u001b[1;32mc:\\Users\\Asus\\AppData\\Local\\Programs\\Python\\Python312\\Lib\\site-packages\\mysql\\connector\\connection_cext.py:647\u001b[0m, in \u001b[0;36mCMySQLConnection.cmd_query\u001b[1;34m(self, query, raw, buffered, raw_as_string)\u001b[0m\n\u001b[0;32m    639\u001b[0m     \u001b[38;5;28mself\u001b[39m\u001b[38;5;241m.\u001b[39m_cmysql\u001b[38;5;241m.\u001b[39mquery(\n\u001b[0;32m    640\u001b[0m         query,\n\u001b[0;32m    641\u001b[0m         raw\u001b[38;5;241m=\u001b[39mraw,\n\u001b[1;32m   (...)\u001b[0m\n\u001b[0;32m    644\u001b[0m         query_attrs\u001b[38;5;241m=\u001b[39m\u001b[38;5;28mself\u001b[39m\u001b[38;5;241m.\u001b[39mquery_attrs,\n\u001b[0;32m    645\u001b[0m     )\n\u001b[0;32m    646\u001b[0m \u001b[38;5;28;01mexcept\u001b[39;00m MySQLInterfaceError \u001b[38;5;28;01mas\u001b[39;00m err:\n\u001b[1;32m--> 647\u001b[0m     \u001b[38;5;28;01mraise\u001b[39;00m get_mysql_exception(\n\u001b[0;32m    648\u001b[0m         err\u001b[38;5;241m.\u001b[39merrno, msg\u001b[38;5;241m=\u001b[39merr\u001b[38;5;241m.\u001b[39mmsg, sqlstate\u001b[38;5;241m=\u001b[39merr\u001b[38;5;241m.\u001b[39msqlstate\n\u001b[0;32m    649\u001b[0m     ) \u001b[38;5;28;01mfrom\u001b[39;00m \u001b[38;5;21;01merr\u001b[39;00m\n\u001b[0;32m    650\u001b[0m \u001b[38;5;28;01mexcept\u001b[39;00m \u001b[38;5;167;01mAttributeError\u001b[39;00m \u001b[38;5;28;01mas\u001b[39;00m err:\n\u001b[0;32m    651\u001b[0m     addr \u001b[38;5;241m=\u001b[39m (\n\u001b[0;32m    652\u001b[0m         \u001b[38;5;28mself\u001b[39m\u001b[38;5;241m.\u001b[39m_unix_socket \u001b[38;5;28;01mif\u001b[39;00m \u001b[38;5;28mself\u001b[39m\u001b[38;5;241m.\u001b[39m_unix_socket \u001b[38;5;28;01melse\u001b[39;00m \u001b[38;5;124mf\u001b[39m\u001b[38;5;124m\"\u001b[39m\u001b[38;5;132;01m{\u001b[39;00m\u001b[38;5;28mself\u001b[39m\u001b[38;5;241m.\u001b[39m_host\u001b[38;5;132;01m}\u001b[39;00m\u001b[38;5;124m:\u001b[39m\u001b[38;5;132;01m{\u001b[39;00m\u001b[38;5;28mself\u001b[39m\u001b[38;5;241m.\u001b[39m_port\u001b[38;5;132;01m}\u001b[39;00m\u001b[38;5;124m\"\u001b[39m\n\u001b[0;32m    653\u001b[0m     )\n",
      "\u001b[1;31mDatabaseError\u001b[0m: 1644 (12345): Saldo insuficiente."
     ]
    }
   ],
   "source": [
    "movimentacao(1, -20000)"
   ]
  },
  {
   "cell_type": "markdown",
   "metadata": {},
   "source": [
    "Opa, o constraint impediu o saque inválido! Excelente! Vamos reverter as ultimas mudanças antes de prosseguir:"
   ]
  },
  {
   "cell_type": "code",
   "execution_count": 31,
   "metadata": {},
   "outputs": [
    {
     "name": "stdout",
     "output_type": "stream",
     "text": [
      "Query 0 executada!\n"
     ]
    }
   ],
   "source": [
    "db(\"ROLLBACK\")"
   ]
  },
  {
   "cell_type": "markdown",
   "metadata": {},
   "source": [
    "### Exercício 3\n",
    "\n",
    "Realize as seguintes movimentações (com COMMIT se tudo funcionou dessa vez, e ROLLBACK se falhar):\n",
    "\n",
    "| id_usuario | valor |\n",
    "|--|--|\n",
    "| 1 | +10000 |\n",
    "| 2 | +4000 |\n",
    "| 3 | +15000 |"
   ]
  },
  {
   "cell_type": "code",
   "execution_count": 32,
   "metadata": {},
   "outputs": [
    {
     "name": "stdout",
     "output_type": "stream",
     "text": [
      "Query 0 executada!\n",
      "Resultado query 0:\n",
      "(1, 'Juca', 'Silva', Decimal('10012.00'))\n",
      "Query 0 executada!\n",
      "Resultado query 0:\n",
      "(2, 'Mario', 'Ferreira', Decimal('4000.00'))\n",
      "Query 0 executada!\n",
      "Resultado query 0:\n",
      "(3, 'Ana', 'Soares', Decimal('15030.00'))\n"
     ]
    }
   ],
   "source": [
    "# Seu código Python e SQL AQUI!\n",
    "\n",
    "movimentacao(1, 10000)\n",
    "movimentacao(2, 4000)\n",
    "movimentacao(3, 15000)"
   ]
  },
  {
   "cell_type": "markdown",
   "metadata": {},
   "source": [
    "**Conferir resposta**:"
   ]
  },
  {
   "cell_type": "code",
   "execution_count": 33,
   "metadata": {},
   "outputs": [
    {
     "name": "stdout",
     "output_type": "stream",
     "text": [
      "Resultado query 0:\n",
      "(2, 1, Decimal('10000.00'), datetime.datetime(2024, 4, 22, 14, 45, 42))\n",
      "(3, 2, Decimal('4000.00'), datetime.datetime(2024, 4, 22, 14, 45, 42))\n",
      "(4, 3, Decimal('15000.00'), datetime.datetime(2024, 4, 22, 14, 45, 42))\n"
     ]
    }
   ],
   "source": [
    "db(\"SELECT * FROM movimentacao\")"
   ]
  },
  {
   "cell_type": "code",
   "execution_count": 34,
   "metadata": {},
   "outputs": [
    {
     "name": "stdout",
     "output_type": "stream",
     "text": [
      "Resultado query 0:\n",
      "(1, 'Juca', 'Silva', Decimal('10012.00'))\n",
      "(2, 'Mario', 'Ferreira', Decimal('4000.00'))\n",
      "(3, 'Ana', 'Soares', Decimal('15030.00'))\n",
      "(4, 'Antonio', 'Reis', Decimal('0.00'))\n",
      "(5, 'Paulo', 'Oliveira', Decimal('0.00'))\n"
     ]
    }
   ],
   "source": [
    "db(\"SELECT * FROM usuario\")"
   ]
  },
  {
   "cell_type": "markdown",
   "metadata": {},
   "source": [
    "### Exercício 4\n",
    "\n",
    "Crie um trigger chamada `trig_transferencias_emprestimo` para realizar operações de transferência no contexto de um empréstimo."
   ]
  },
  {
   "cell_type": "code",
   "execution_count": 6,
   "metadata": {},
   "outputs": [
    {
     "ename": "NameError",
     "evalue": "name 'db' is not defined",
     "output_type": "error",
     "traceback": [
      "\u001b[1;31m---------------------------------------------------------------------------\u001b[0m",
      "\u001b[1;31mNameError\u001b[0m                                 Traceback (most recent call last)",
      "Cell \u001b[1;32mIn[6], line 21\u001b[0m\n\u001b[0;32m      1\u001b[0m sql_ex04 \u001b[38;5;241m=\u001b[39m \u001b[38;5;124m\"\"\"\u001b[39m\n\u001b[0;32m      2\u001b[0m \u001b[38;5;124mUSE emprestimos;\u001b[39m\n\u001b[0;32m      3\u001b[0m \n\u001b[1;32m   (...)\u001b[0m\n\u001b[0;32m     18\u001b[0m \u001b[38;5;124mEND;\u001b[39m\n\u001b[0;32m     19\u001b[0m \u001b[38;5;124m\"\"\"\u001b[39m\n\u001b[1;32m---> 21\u001b[0m \u001b[43mdb\u001b[49m(sql_ex04)\n",
      "\u001b[1;31mNameError\u001b[0m: name 'db' is not defined"
     ]
    }
   ],
   "source": [
    "sql_ex04 = \"\"\"\n",
    "USE emprestimos;\n",
    "\n",
    "DROP TRIGGER IF EXISTS trig_transferencias_emprestimo;\n",
    "\n",
    "CREATE TRIGGER trig_transferencias_emprestimo \n",
    "BEFORE INSERT ON operacao\n",
    "FOR EACH ROW\n",
    "BEGIN\n",
    "    UPDATE emprestimo\n",
    "        SET valor_atual = valor_atual + NEW.valor\n",
    "        WHERE id_emprestimo = NEW.id_emprestimo;\n",
    "    SELECT id_credor, id_devedor INTO @id_credor, @id_devedor FROM emprestimo WHERE id_emprestimo = NEW.id_emprestimo;\n",
    "    INSERT INTO movimentacao (id_usuario, valor)\n",
    "        VALUES (@id_credor, -NEW.valor);\n",
    "    INSERT INTO movimentacao (id_usuario, valor)\n",
    "        VALUES (@id_devedor, +NEW.valor);\n",
    "END;\n",
    "\"\"\"\n",
    "\n",
    "db(sql_ex04)"
   ]
  },
  {
   "cell_type": "code",
   "execution_count": 5,
   "metadata": {},
   "outputs": [
    {
     "data": {
      "application/vnd.jupyter.widget-view+json": {
       "model_id": "0a94ad0fb8c44feca7051672f5ae2a1c",
       "version_major": 2,
       "version_minor": 0
      },
      "text/plain": [
       "interactive(children=(Button(description='Enviar ex04', style=ButtonStyle()), Output()), _dom_classes=('widget…"
      ]
     },
     "execution_count": 5,
     "metadata": {},
     "output_type": "execute_result"
    }
   ],
   "source": [
    "ia.sender(answer=\"sql_ex04\", task=\"triggers\", question=\"ex04\", answer_type=\"pyvar\")"
   ]
  },
  {
   "cell_type": "markdown",
   "metadata": {},
   "source": [
    "**Conferir resposta**:"
   ]
  },
  {
   "cell_type": "code",
   "execution_count": null,
   "metadata": {},
   "outputs": [],
   "source": [
    "db(\"SELECT * FROM usuario\")"
   ]
  },
  {
   "cell_type": "code",
   "execution_count": null,
   "metadata": {},
   "outputs": [],
   "source": [
    "db(\"INSERT INTO emprestimo (id_credor, id_devedor) VALUES (2, 3)\")"
   ]
  },
  {
   "cell_type": "code",
   "execution_count": null,
   "metadata": {},
   "outputs": [],
   "source": [
    "db(\"SELECT * FROM emprestimo\")"
   ]
  },
  {
   "cell_type": "code",
   "execution_count": null,
   "metadata": {},
   "outputs": [],
   "source": [
    "db(\"SELECT * FROM operacao\")"
   ]
  },
  {
   "cell_type": "code",
   "execution_count": null,
   "metadata": {},
   "outputs": [],
   "source": [
    "db(\"INSERT INTO operacao (id_emprestimo, valor) VALUES (1, 2000)\")"
   ]
  },
  {
   "cell_type": "code",
   "execution_count": null,
   "metadata": {},
   "outputs": [],
   "source": [
    "db(\"SELECT * FROM operacao\")"
   ]
  },
  {
   "cell_type": "code",
   "execution_count": null,
   "metadata": {},
   "outputs": [],
   "source": [
    "db(\"SELECT * FROM emprestimo\")"
   ]
  },
  {
   "cell_type": "code",
   "execution_count": null,
   "metadata": {},
   "outputs": [],
   "source": [
    "db(\"SELECT * FROM usuario\")"
   ]
  },
  {
   "cell_type": "code",
   "execution_count": null,
   "metadata": {},
   "outputs": [],
   "source": [
    "db(\"SELECT * FROM movimentacao\")"
   ]
  },
  {
   "cell_type": "markdown",
   "metadata": {},
   "source": [
    "## Relembrando: Views\n",
    "\n",
    "*Views* são como tabelas *'lógicas'*, que são criadas através da aplicação de um comando `SELECT`. É como um `SELECT` pré-armazenado.\n",
    "\n",
    "Vamos criar uma *view* para listar os nomes e sobrenomes de usuários, sem revelar seus saldos de conta:\n",
    "\n",
    "```SQL\n",
    "USE emprestimos;\n",
    "\n",
    "CREATE VIEW nomes AS \n",
    "\tSELECT DISTINCT nome, sobrenome FROM usuario;\n",
    "```\n",
    "\n",
    "Agora podemos usar esta view em consultas:"
   ]
  },
  {
   "cell_type": "code",
   "execution_count": null,
   "metadata": {},
   "outputs": [],
   "source": [
    "db(\"SELECT * FROM nomes;\")"
   ]
  },
  {
   "cell_type": "markdown",
   "metadata": {},
   "source": [
    "Porque usar views? Assim como no caso de stored procedures, podemos configurar permissões de acesso diferentes para esta view. Suponha que um vendedor deva ter acesso aos nomes dos clientes, mas não aos seus saldos (por razões de confidencialidade). Podemos conceder ao vendedor acesso apenas à essa view. Poderíamos ter resolvido o problema também com uma stored procedure: em SQL as coisas costumam ter várias soluções possíveis..."
   ]
  },
  {
   "cell_type": "markdown",
   "metadata": {},
   "source": [
    "### Exercício 5\n",
    "\n",
    "Crie uma view chamada `credor` para mostrar, para cada usuário, a soma dos valores de emprestimo dos quais este cliente é credor. Se o cliente não tiver empréstimo associado como credor, o valor deve ser zero.\n",
    "\n",
    "As colunas retornadas devem se chamar `id_usuario` e `total`, onde `total` representa a soma dos valores de empréstimo dos quais o cliente é credor.\n",
    "\n",
    "Ordene pelo `total` (decrescente), nome (crescente) e sobrenome (crescente)."
   ]
  },
  {
   "cell_type": "code",
   "execution_count": 9,
   "metadata": {},
   "outputs": [
    {
     "ename": "NameError",
     "evalue": "name 'db' is not defined",
     "output_type": "error",
     "traceback": [
      "\u001b[1;31m---------------------------------------------------------------------------\u001b[0m",
      "\u001b[1;31mNameError\u001b[0m                                 Traceback (most recent call last)",
      "Cell \u001b[1;32mIn[9], line 20\u001b[0m\n\u001b[0;32m      1\u001b[0m sql_ex05 \u001b[38;5;241m=\u001b[39m \u001b[38;5;124m\"\"\"\u001b[39m\n\u001b[0;32m      2\u001b[0m \u001b[38;5;124mUSE emprestimos;\u001b[39m\n\u001b[0;32m      3\u001b[0m \n\u001b[1;32m   (...)\u001b[0m\n\u001b[0;32m     17\u001b[0m \n\u001b[0;32m     18\u001b[0m \u001b[38;5;124m\"\"\"\u001b[39m\n\u001b[1;32m---> 20\u001b[0m \u001b[43mdb\u001b[49m(sql_ex05)\n",
      "\u001b[1;31mNameError\u001b[0m: name 'db' is not defined"
     ]
    }
   ],
   "source": [
    "sql_ex05 = \"\"\"\n",
    "USE emprestimos;\n",
    "\n",
    "DROP VIEW IF EXISTS credor;\n",
    "CREATE VIEW credor AS \n",
    "    SELECT \n",
    "        u.id_usuario,\n",
    "        u.nome,\n",
    "        u.sobrenome,\n",
    "        IFNULL(SUM(emprestimo.valor_atual), 0) AS total\n",
    "    FROM\n",
    "        usuario as u\n",
    "        LEFT JOIN\n",
    "        emprestimo ON u.id_usuario = emprestimo.id_credor\n",
    "    GROUP BY u.id_usuario, u.nome, u.sobrenome\n",
    "    ORDER BY total DESC, nome ASC, sobrenome ASC;\n",
    "\n",
    "\"\"\"\n",
    "\n",
    "db(sql_ex05)"
   ]
  },
  {
   "cell_type": "code",
   "execution_count": 10,
   "metadata": {},
   "outputs": [
    {
     "data": {
      "application/vnd.jupyter.widget-view+json": {
       "model_id": "8cdb48933c654f7d93bd29eb84828327",
       "version_major": 2,
       "version_minor": 0
      },
      "text/plain": [
       "interactive(children=(Button(description='Enviar ex05', style=ButtonStyle()), Output()), _dom_classes=('widget…"
      ]
     },
     "execution_count": 10,
     "metadata": {},
     "output_type": "execute_result"
    }
   ],
   "source": [
    "ia.sender(answer=\"sql_ex05\", task=\"triggers\", question=\"ex05\", answer_type=\"pyvar\")"
   ]
  },
  {
   "cell_type": "markdown",
   "metadata": {},
   "source": [
    "### Exercício 6\n",
    "\n",
    "Repita o processo para a posição de devedor. A view deve se chamar `devedor`.\n",
    "\n",
    "Retorne uma coluna `total_liquido`.Considere os mesmos nomes de colunas e critérios de ordenação."
   ]
  },
  {
   "cell_type": "code",
   "execution_count": 15,
   "metadata": {},
   "outputs": [
    {
     "ename": "NameError",
     "evalue": "name 'db' is not defined",
     "output_type": "error",
     "traceback": [
      "\u001b[1;31m---------------------------------------------------------------------------\u001b[0m",
      "\u001b[1;31mNameError\u001b[0m                                 Traceback (most recent call last)",
      "Cell \u001b[1;32mIn[15], line 20\u001b[0m\n\u001b[0;32m      1\u001b[0m sql_ex06 \u001b[38;5;241m=\u001b[39m \u001b[38;5;124m\"\"\"\u001b[39m\n\u001b[0;32m      2\u001b[0m \u001b[38;5;124mUSE emprestimos;\u001b[39m\n\u001b[0;32m      3\u001b[0m \n\u001b[1;32m   (...)\u001b[0m\n\u001b[0;32m     17\u001b[0m \n\u001b[0;32m     18\u001b[0m \u001b[38;5;124m\"\"\"\u001b[39m\n\u001b[1;32m---> 20\u001b[0m \u001b[43mdb\u001b[49m(sql_ex06)\n",
      "\u001b[1;31mNameError\u001b[0m: name 'db' is not defined"
     ]
    }
   ],
   "source": [
    "sql_ex06 = \"\"\"\n",
    "USE emprestimos;\n",
    "\n",
    "DROP VIEW IF EXISTS devedor;\n",
    "CREATE VIEW devedor AS \n",
    "    SELECT \n",
    "        u.id_usuario,\n",
    "        u.nome,\n",
    "        u.sobrenome,\n",
    "        IFNULL(SUM(emprestimo.valor_atual), 0) AS total\n",
    "    FROM\n",
    "        usuario as u\n",
    "        LEFT JOIN\n",
    "        emprestimo ON u.id_usuario = emprestimo.id_devedor\n",
    "    GROUP BY u.id_usuario, u.nome, u.sobrenome\n",
    "    ORDER BY total DESC, nome ASC, sobrenome ASC;\n",
    "\n",
    "\"\"\"\n",
    "\n",
    "db(sql_ex06)"
   ]
  },
  {
   "cell_type": "code",
   "execution_count": 16,
   "metadata": {},
   "outputs": [
    {
     "data": {
      "application/vnd.jupyter.widget-view+json": {
       "model_id": "9818c2db4d1a491c9e9e35c219032092",
       "version_major": 2,
       "version_minor": 0
      },
      "text/plain": [
       "interactive(children=(Button(description='Enviar ex06', style=ButtonStyle()), Output()), _dom_classes=('widget…"
      ]
     },
     "execution_count": 16,
     "metadata": {},
     "output_type": "execute_result"
    }
   ],
   "source": [
    "ia.sender(answer=\"sql_ex06\", task=\"triggers\", question=\"ex06\", answer_type=\"pyvar\")"
   ]
  },
  {
   "cell_type": "markdown",
   "metadata": {},
   "source": [
    "### Exercício 7\n",
    "\n",
    "Crie uma view `posicao_liquida` que lista o **valor líquido** de cada usuário, que é a soma dos valores como credor mais o saldo, subtraido da soma dos valores como devedor.\n",
    "\n",
    "Considere os mesmos nomes de colunas e critérios de ordenação."
   ]
  },
  {
   "cell_type": "code",
   "execution_count": 25,
   "metadata": {},
   "outputs": [
    {
     "ename": "NameError",
     "evalue": "name 'db' is not defined",
     "output_type": "error",
     "traceback": [
      "\u001b[1;31m---------------------------------------------------------------------------\u001b[0m",
      "\u001b[1;31mNameError\u001b[0m                                 Traceback (most recent call last)",
      "Cell \u001b[1;32mIn[25], line 18\u001b[0m\n\u001b[0;32m      1\u001b[0m sql_ex07 \u001b[38;5;241m=\u001b[39m \u001b[38;5;124m\"\"\"\u001b[39m\n\u001b[0;32m      2\u001b[0m \u001b[38;5;124mUSE emprestimos;\u001b[39m\n\u001b[0;32m      3\u001b[0m \n\u001b[1;32m   (...)\u001b[0m\n\u001b[0;32m     15\u001b[0m \u001b[38;5;124m    ORDER BY total_liquido DESC, u.nome ASC, u.sobrenome ASC;\u001b[39m\n\u001b[0;32m     16\u001b[0m \u001b[38;5;124m\"\"\"\u001b[39m\n\u001b[1;32m---> 18\u001b[0m \u001b[43mdb\u001b[49m(sql_ex07)\n",
      "\u001b[1;31mNameError\u001b[0m: name 'db' is not defined"
     ]
    }
   ],
   "source": [
    "sql_ex07 = \"\"\"\n",
    "USE emprestimos;\n",
    "\n",
    "DROP VIEW IF EXISTS posicao_liquida;\n",
    "CREATE VIEW posicao_liquida AS\n",
    "    SELECT \n",
    "        u.id_usuario,\n",
    "        u.nome,\n",
    "        u.sobrenome,\n",
    "        c.total - d.total + u.saldo AS total_liquido\n",
    "    FROM\n",
    "        credor as c\n",
    "        LEFT JOIN devedor as d USING (id_usuario)\n",
    "        LEFT JOIN usuario AS u USING (id_usuario)\n",
    "    ORDER BY total_liquido DESC, u.nome ASC, u.sobrenome ASC;\n",
    "\"\"\"\n",
    "\n",
    "db(sql_ex07)"
   ]
  },
  {
   "cell_type": "code",
   "execution_count": null,
   "metadata": {},
   "outputs": [
    {
     "data": {
      "application/vnd.jupyter.widget-view+json": {
       "model_id": "e7beeccc7e0d4243bd4bb22d3727a204",
       "version_major": 2,
       "version_minor": 0
      },
      "text/plain": [
       "interactive(children=(Button(description='Enviar ex07', style=ButtonStyle()), Output()), _dom_classes=('widget…"
      ]
     },
     "execution_count": 24,
     "metadata": {},
     "output_type": "execute_result"
    }
   ],
   "source": [
    "ia.sender(answer=\"sql_ex07\", task=\"triggers\", question=\"ex07\", answer_type=\"pyvar\")"
   ]
  },
  {
   "cell_type": "markdown",
   "metadata": {},
   "source": [
    "### Exercício 8\n",
    "\n",
    "Crie uma função para calcular o preço com desconto.\n",
    "\n",
    "A função se chama `aplica_desconto` e recebe, nesta ordem, o `preco DECIMAL(10,2)` e o `percentual DECIMAL(10,2)` de desconto (intervalo `[0,100]`).\n",
    "\n",
    "**Dicas**:\n",
    "- procure por *\"MySQL functions DETERMINISTIC, NO SQL, READS SQL DATA\"*.\n",
    "- você pode criá-la em qualquer base de dados (não tem relação com a base `emprestimos`)."
   ]
  },
  {
   "cell_type": "code",
   "execution_count": 26,
   "metadata": {},
   "outputs": [
    {
     "ename": "NameError",
     "evalue": "name 'db' is not defined",
     "output_type": "error",
     "traceback": [
      "\u001b[1;31m---------------------------------------------------------------------------\u001b[0m",
      "\u001b[1;31mNameError\u001b[0m                                 Traceback (most recent call last)",
      "Cell \u001b[1;32mIn[26], line 17\u001b[0m\n\u001b[0;32m      1\u001b[0m sql_ex08 \u001b[38;5;241m=\u001b[39m \u001b[38;5;124m\"\"\"\u001b[39m\n\u001b[0;32m      2\u001b[0m \u001b[38;5;124mDROP FUNCTION IF EXISTS aplica_desconto;\u001b[39m\n\u001b[0;32m      3\u001b[0m \n\u001b[1;32m   (...)\u001b[0m\n\u001b[0;32m     14\u001b[0m \u001b[38;5;124mEND;\u001b[39m\n\u001b[0;32m     15\u001b[0m \u001b[38;5;124m\"\"\"\u001b[39m\n\u001b[1;32m---> 17\u001b[0m \u001b[43mdb\u001b[49m(sql_ex08)\n",
      "\u001b[1;31mNameError\u001b[0m: name 'db' is not defined"
     ]
    }
   ],
   "source": [
    "sql_ex08 = \"\"\"\n",
    "DROP FUNCTION IF EXISTS aplica_desconto;\n",
    "\n",
    "CREATE FUNCTION aplica_desconto(preco DECIMAL(10, 2), percentual DECIMAL(10, 2))\n",
    "RETURNS DECIMAL(10, 2)\n",
    "READS SQL DATA\n",
    "DETERMINISTIC\n",
    "BEGIN\n",
    "\n",
    "    DECLARE preco_final DECIMAL(10, 2);\n",
    "    SET preco_final = preco * (1 - (percentual/100));\n",
    "    RETURN preco_final;\n",
    "    \n",
    "END;\n",
    "\"\"\"\n",
    "\n",
    "db(sql_ex08)"
   ]
  },
  {
   "cell_type": "code",
   "execution_count": 27,
   "metadata": {},
   "outputs": [
    {
     "data": {
      "application/vnd.jupyter.widget-view+json": {
       "model_id": "5c9490728fc74b348314925fe1ffcd1c",
       "version_major": 2,
       "version_minor": 0
      },
      "text/plain": [
       "interactive(children=(Button(description='Enviar ex08', style=ButtonStyle()), Output()), _dom_classes=('widget…"
      ]
     },
     "execution_count": 27,
     "metadata": {},
     "output_type": "execute_result"
    }
   ],
   "source": [
    "ia.sender(answer=\"sql_ex08\", task=\"triggers\", question=\"ex08\", answer_type=\"pyvar\")"
   ]
  },
  {
   "cell_type": "markdown",
   "metadata": {},
   "source": [
    "### Exercício 9\n",
    "\n",
    "Considere uma base chamada de **clientes** e **solicitações** chamada `solicita`:\n",
    "\n",
    "<img src=\"img/solicita.png\">\n",
    "\n",
    "```mysql\n",
    "DROP SCHEMA IF EXISTS `solicita` ;\n",
    "\n",
    "CREATE SCHEMA IF NOT EXISTS `solicita` ;\n",
    "USE `solicita` ;\n",
    "\n",
    "DROP TABLE IF EXISTS `solicita`.`cliente` ;\n",
    "\n",
    "CREATE TABLE IF NOT EXISTS `solicita`.`cliente` (\n",
    "  `id_cliente` INT NOT NULL,\n",
    "  `nome` VARCHAR(100) NOT NULL,\n",
    "  `sobrenome` VARCHAR(150) NOT NULL,\n",
    "  `cpf` CHAR(14) NULL,\n",
    "  `ultimo_acesso` DATE NULL,\n",
    "  PRIMARY KEY (`id_cliente`),\n",
    "  UNIQUE INDEX `cpf_UNIQUE` (`cpf` ASC) VISIBLE)\n",
    "ENGINE = InnoDB;\n",
    "\n",
    "\n",
    "DROP TABLE IF EXISTS `solicita`.`solicitacao` ;\n",
    "\n",
    "CREATE TABLE IF NOT EXISTS `solicita`.`solicitacao` (\n",
    "  `id_solicitacao` INT NOT NULL,\n",
    "  `id_cliente` INT NOT NULL,\n",
    "  `mensagem` TEXT NOT NULL,\n",
    "  `data` DATE NULL,\n",
    "  PRIMARY KEY (`id_solicitacao`),\n",
    "  INDEX `fk_venda_cliente_idx` (`id_cliente` ASC) VISIBLE,\n",
    "  CONSTRAINT `fk_venda_cliente`\n",
    "    FOREIGN KEY (`id_cliente`)\n",
    "    REFERENCES `solicita`.`cliente` (`id_cliente`)\n",
    "    ON DELETE NO ACTION\n",
    "    ON UPDATE NO ACTION)\n",
    "ENGINE = InnoDB;\n",
    "```\n",
    "\n",
    "Crie uma **procedure** que deleta **todos os dados** dos clientes cujo último acesso foi há mais que 180 dias.\n",
    "\n",
    "A procedure deve se chamar `remove_clientes_inativos`.\n",
    "\n",
    "**Dicas**:\n",
    "- Como critério de último acesso, considere a coluna `ultimo_acesso` na tabela de `cliente`.\n",
    "- Utilize os scripts SQL disponíveis na pasta de aulas para inserir clientes e solicitações na base e efetuar os testes!\n",
    "- Altere as datas, pois os 180 dias são em relação a data atual."
   ]
  },
  {
   "cell_type": "code",
   "execution_count": 28,
   "metadata": {},
   "outputs": [
    {
     "ename": "NameError",
     "evalue": "name 'db' is not defined",
     "output_type": "error",
     "traceback": [
      "\u001b[1;31m---------------------------------------------------------------------------\u001b[0m",
      "\u001b[1;31mNameError\u001b[0m                                 Traceback (most recent call last)",
      "Cell \u001b[1;32mIn[28], line 13\u001b[0m\n\u001b[0;32m      1\u001b[0m sql_ex09 \u001b[38;5;241m=\u001b[39m \u001b[38;5;124m\"\"\"\u001b[39m\n\u001b[0;32m      2\u001b[0m \u001b[38;5;124mDROP PROCEDURE IF EXISTS remove_clientes_inativos;\u001b[39m\n\u001b[0;32m      3\u001b[0m \n\u001b[1;32m   (...)\u001b[0m\n\u001b[0;32m     10\u001b[0m \u001b[38;5;124mEND; \u001b[39m\n\u001b[0;32m     11\u001b[0m \u001b[38;5;124m\"\"\"\u001b[39m\n\u001b[1;32m---> 13\u001b[0m \u001b[43mdb\u001b[49m(sql_ex09)\n",
      "\u001b[1;31mNameError\u001b[0m: name 'db' is not defined"
     ]
    }
   ],
   "source": [
    "sql_ex09 = \"\"\"\n",
    "DROP PROCEDURE IF EXISTS remove_clientes_inativos;\n",
    "\n",
    "CREATE PROCEDURE remove_clientes_inativos()\n",
    "BEGIN\n",
    "\n",
    "    DELETE FROM solicitacao WHERE id_cliente IN (SELECT id_cliente FROM cliente WHERE ultimo_acesso <= DATE_SUB(CURDATE(), INTERVAL 181 DAY));\n",
    "    DELETE FROM cliente WHERE ultimo_acesso <= DATE_SUB(CURDATE(), INTERVAL 181 DAY);\n",
    "\n",
    "END; \n",
    "\"\"\"\n",
    "\n",
    "db(sql_ex09)"
   ]
  },
  {
   "cell_type": "code",
   "execution_count": 29,
   "metadata": {
    "scrolled": true
   },
   "outputs": [
    {
     "data": {
      "application/vnd.jupyter.widget-view+json": {
       "model_id": "6632629969d94596875f499f99c3f8e6",
       "version_major": 2,
       "version_minor": 0
      },
      "text/plain": [
       "interactive(children=(Button(description='Enviar ex09', style=ButtonStyle()), Output()), _dom_classes=('widget…"
      ]
     },
     "execution_count": 29,
     "metadata": {},
     "output_type": "execute_result"
    }
   ],
   "source": [
    "ia.sender(answer=\"sql_ex09\", task=\"triggers\", question=\"ex09\", answer_type=\"pyvar\")"
   ]
  },
  {
   "cell_type": "markdown",
   "metadata": {},
   "source": [
    "### Exercício 10\n",
    "\n",
    "Este exercício não tem correção automática e sua resolução é opcional.\n",
    "\n",
    "Considere uma versão base de **clientes** e **solicitações** onde os deletes são **lógicos** e não físicos:\n",
    "\n",
    "<img src=\"img/solicita_v2.png\">\n",
    "\n",
    "Neste exercício, você deve:\n",
    "\n",
    "- Criar procedure para **deletar logicamente clientes** cujo último acesso foi há mais que 180 dias. A procedure deve deletar logicamente apenas clientes e não solicitações.\n",
    "- Criar trigger na tabela de cliente para que, ao deletar logicamente um cliente, suas solicitações também sejam deletadas.\n",
    "- Criar trigger na tabela de solicitação para impedir a inserção de solicitações para cliente deletados."
   ]
  },
  {
   "cell_type": "code",
   "execution_count": 30,
   "metadata": {},
   "outputs": [
    {
     "ename": "NameError",
     "evalue": "name 'db' is not defined",
     "output_type": "error",
     "traceback": [
      "\u001b[1;31m---------------------------------------------------------------------------\u001b[0m",
      "\u001b[1;31mNameError\u001b[0m                                 Traceback (most recent call last)",
      "Cell \u001b[1;32mIn[30], line 37\u001b[0m\n\u001b[0;32m      1\u001b[0m \u001b[38;5;66;03m# - Criar procedure para **deletar logicamente clientes** cujo último acesso foi há mais que 180 dias. A procedure deve deletar logicamente apenas clientes e não solicitações.\u001b[39;00m\n\u001b[0;32m      2\u001b[0m \u001b[38;5;66;03m# - Criar trigger na tabela de cliente para que, ao deletar logicamente um cliente, suas solicitações também sejam deletadas.\u001b[39;00m\n\u001b[0;32m      3\u001b[0m \u001b[38;5;66;03m# - Criar trigger na tabela de solicitação para impedir a inserção de solicitações para cliente deletados.\u001b[39;00m\n\u001b[0;32m      5\u001b[0m sql_ex10 \u001b[38;5;241m=\u001b[39m \u001b[38;5;124m\"\"\"\u001b[39m\n\u001b[0;32m      6\u001b[0m \n\u001b[0;32m      7\u001b[0m \u001b[38;5;124mDROP PROCEDURE IF EXISTS deleta_cliente;\u001b[39m\n\u001b[1;32m   (...)\u001b[0m\n\u001b[0;32m     34\u001b[0m \n\u001b[0;32m     35\u001b[0m \u001b[38;5;124m\"\"\"\u001b[39m\n\u001b[1;32m---> 37\u001b[0m \u001b[43mdb\u001b[49m(sql_ex10)\n",
      "\u001b[1;31mNameError\u001b[0m: name 'db' is not defined"
     ]
    }
   ],
   "source": [
    "# - Criar procedure para **deletar logicamente clientes** cujo último acesso foi há mais que 180 dias. A procedure deve deletar logicamente apenas clientes e não solicitações.\n",
    "# - Criar trigger na tabela de cliente para que, ao deletar logicamente um cliente, suas solicitações também sejam deletadas.\n",
    "# - Criar trigger na tabela de solicitação para impedir a inserção de solicitações para cliente deletados.\n",
    "\n",
    "sql_ex10 = \"\"\"\n",
    "\n",
    "DROP PROCEDURE IF EXISTS deleta_cliente;\n",
    "CREATE PROCEDURE deleta_cliente(IN id_cliente INT)\n",
    "BEGIN\n",
    "    UPDATE cliente SET deletado = 1 WHERE id_cliente = id_cliente;\n",
    "END;\n",
    "\n",
    "DROP TRIGGER IF EXISTS trig_deleta_cliente;\n",
    "CREATE TRIGGER trig_deleta_cliente\n",
    "AFTER UPDATE ON cliente\n",
    "FOR EACH ROW\n",
    "BEGIN\n",
    "    IF NEW.deletado = 1 THEN\n",
    "        DELETE FROM solicitacao WHERE id_cliente = NEW.id_cliente;\n",
    "    END IF;\n",
    "END;\n",
    "\n",
    "DROP TRIGGER IF EXISTS trig_insere_solicitacao;\n",
    "CREATE TRIGGER trig_insere_solicitacao\n",
    "BEFORE INSERT ON solicitacao\n",
    "FOR EACH ROW\n",
    "BEGIN\n",
    "    DECLARE cliente_deletado INT;\n",
    "    SELECT deletado INTO cliente_deletado FROM cliente WHERE id_cliente = NEW.id_cliente;\n",
    "    IF cliente_deletado = 1 THEN\n",
    "        SIGNAL SQLSTATE '45000' SET MESSAGE_TEXT = 'Cliente deletado';\n",
    "    END IF;\n",
    "END;\n",
    "\n",
    "\"\"\"\n",
    "\n",
    "db(sql_ex10)"
   ]
  },
  {
   "cell_type": "markdown",
   "metadata": {},
   "source": [
    "Por hoje é só!"
   ]
  },
  {
   "cell_type": "code",
   "execution_count": 31,
   "metadata": {},
   "outputs": [
    {
     "ename": "NameError",
     "evalue": "name 'connection' is not defined",
     "output_type": "error",
     "traceback": [
      "\u001b[1;31m---------------------------------------------------------------------------\u001b[0m",
      "\u001b[1;31mNameError\u001b[0m                                 Traceback (most recent call last)",
      "Cell \u001b[1;32mIn[31], line 1\u001b[0m\n\u001b[1;32m----> 1\u001b[0m \u001b[43mconnection\u001b[49m\u001b[38;5;241m.\u001b[39mclose()\n",
      "\u001b[1;31mNameError\u001b[0m: name 'connection' is not defined"
     ]
    }
   ],
   "source": [
    "connection.close()"
   ]
  },
  {
   "cell_type": "markdown",
   "metadata": {},
   "source": [
    "### Conferir notas"
   ]
  },
  {
   "cell_type": "code",
   "execution_count": 32,
   "metadata": {},
   "outputs": [
    {
     "data": {
      "text/markdown": [
       "|    | Tarefa   |   Nota |\n",
       "|---:|:---------|-------:|\n",
       "|  0 | triggers |     10 |"
      ],
      "text/plain": [
       "<IPython.core.display.Markdown object>"
      ]
     },
     "metadata": {},
     "output_type": "display_data"
    }
   ],
   "source": [
    "ia.grades(by=\"task\", task=\"triggers\")"
   ]
  },
  {
   "cell_type": "code",
   "execution_count": 33,
   "metadata": {},
   "outputs": [
    {
     "data": {
      "text/markdown": [
       "|    | Atividade   | Exercício   |   Peso |   Nota |\n",
       "|---:|:------------|:------------|-------:|-------:|\n",
       "|  0 | triggers    | ex01        |      1 |     10 |\n",
       "|  1 | triggers    | ex02        |      1 |     10 |\n",
       "|  2 | triggers    | ex04        |      1 |     10 |\n",
       "|  3 | triggers    | ex05        |      1 |     10 |\n",
       "|  4 | triggers    | ex06        |      1 |     10 |\n",
       "|  5 | triggers    | ex07        |      1 |     10 |\n",
       "|  6 | triggers    | ex08        |      1 |     10 |\n",
       "|  7 | triggers    | ex09        |      1 |     10 |"
      ],
      "text/plain": [
       "<IPython.core.display.Markdown object>"
      ]
     },
     "metadata": {},
     "output_type": "display_data"
    }
   ],
   "source": [
    "ia.grades(task=\"triggers\")"
   ]
  },
  {
   "cell_type": "markdown",
   "metadata": {},
   "source": [
    "## Gabarito"
   ]
  },
  {
   "cell_type": "markdown",
   "metadata": {},
   "source": [
    "**<div id=\"gab_atv1\">Atividade 1</div>**\n",
    "<div class=\"alert alert-warning\">\n",
    "\n",
    "Para Workbench:\n",
    "\n",
    "```SQL\n",
    "USE emprestimos;\n",
    "\n",
    "DROP PROCEDURE IF EXISTS cobra_taxa;\n",
    "\n",
    "DELIMITER //\n",
    "CREATE PROCEDURE cobra_taxa(IN taxa DECIMAL(30, 2))\n",
    "BEGIN\n",
    "    -- Gambiarra para desligar o aviso de segurança que previne\n",
    "    -- UPDATES gerais (sem WHERE).\n",
    "    -- OBS: da pra fazer sem ela!\n",
    "    SET @OLD_SQL_SAFE_UPDATES = @@SQL_SAFE_UPDATES;\n",
    "    SET SQL_SAFE_UPDATES=0;\n",
    "\n",
    "    -- Insira seu código aqui.\n",
    "    UPDATE usuario \n",
    "    SET \n",
    "        saldo = saldo - taxa\n",
    "    WHERE\n",
    "        saldo >= taxa;\n",
    "    \n",
    "    -- Desliga a gambiarra.\n",
    "    SET SQL_SAFE_UPDATES=@OLD_SQL_SAFE_UPDATES;\n",
    "END //\n",
    "DELIMITER ;\n",
    "```\n",
    "\n",
    "Para Python:\n",
    "\n",
    "```SQL\n",
    "USE emprestimos;\n",
    "\n",
    "DROP PROCEDURE IF EXISTS cobra_taxa;\n",
    "\n",
    "CREATE PROCEDURE cobra_taxa(IN taxa DECIMAL(30, 2))\n",
    "BEGIN\n",
    "    -- Gambiarra para desligar o aviso de segurança que previne\n",
    "    -- UPDATES gerais (sem WHERE).\n",
    "    -- OBS: da pra fazer sem ela!\n",
    "    SET @OLD_SQL_SAFE_UPDATES = @@SQL_SAFE_UPDATES;\n",
    "    SET SQL_SAFE_UPDATES=0;\n",
    "\n",
    "    -- Insira seu código aqui.\n",
    "    UPDATE usuario \n",
    "    SET \n",
    "        saldo = saldo - taxa\n",
    "    WHERE\n",
    "        saldo >= taxa;\n",
    "    \n",
    "    -- Desliga a gambiarra.\n",
    "    SET SQL_SAFE_UPDATES=@OLD_SQL_SAFE_UPDATES;\n",
    "END;\n",
    "```    \n",
    "</div>\n",
    "<a href=\"#perg_atv1\">Click para voltar ao Exercício</a>\n"
   ]
  },
  {
   "cell_type": "markdown",
   "metadata": {},
   "source": [
    "**<div id=\"gab_atv2\">Atividade 2</div>**\n",
    "<div class=\"alert alert-warning\">\n",
    "\n",
    "Para Workbench:\n",
    "```SQL\n",
    "USE emprestimos;\n",
    "\n",
    "DROP FUNCTION IF EXISTS total_saldos;\n",
    "\n",
    "DELIMITER //\n",
    "CREATE FUNCTION total_saldos() RETURNS DECIMAL(30, 2) READS SQL DATA\n",
    "BEGIN\n",
    "\n",
    "    -- Insira seu SQL aqui.\n",
    "    DECLARE total DECIMAL(30, 2);\n",
    "    SELECT SUM(saldo) INTO total FROM usuario;\n",
    "    RETURN total;\n",
    "\n",
    "END//\n",
    "DELIMITER ;\n",
    "```\n",
    "</div>\n",
    "<a href=\"#perg_atv2\">Click para voltar ao Exercício</a>"
   ]
  }
 ],
 "metadata": {
  "kernelspec": {
   "display_name": "Python 3 (ipykernel)",
   "language": "python",
   "name": "python3"
  },
  "language_info": {
   "codemirror_mode": {
    "name": "ipython",
    "version": 3
   },
   "file_extension": ".py",
   "mimetype": "text/x-python",
   "name": "python",
   "nbconvert_exporter": "python",
   "pygments_lexer": "ipython3",
   "version": "3.11.9"
  }
 },
 "nbformat": 4,
 "nbformat_minor": 4
}
