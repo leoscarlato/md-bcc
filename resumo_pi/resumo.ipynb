{
 "cells": [
  {
   "cell_type": "markdown",
   "metadata": {},
   "source": [
    "# Resumo Prova Intermediária"
   ]
  },
  {
   "cell_type": "markdown",
   "metadata": {},
   "source": [
    "## `SELECT`"
   ]
  },
  {
   "cell_type": "markdown",
   "metadata": {},
   "source": [
    "Mostrar tudo da tabela exemplo CD:"
   ]
  },
  {
   "cell_type": "markdown",
   "metadata": {},
   "source": [
    "<div class=\"alert alert-info\">\n",
    "\n",
    "```mysql\n",
    "SELECT * FROM CD\n",
    "```\n",
    "\n",
    "</div>"
   ]
  },
  {
   "cell_type": "markdown",
   "metadata": {},
   "source": [
    "![Seleção da tabela inteira](../aulas/02-select_parte1/imgs/tudo.png)"
   ]
  },
  {
   "cell_type": "markdown",
   "metadata": {},
   "source": [
    "Mostrando apenas algumas colunas:"
   ]
  },
  {
   "cell_type": "markdown",
   "metadata": {},
   "source": [
    "<div class=\"alert alert-info\">\n",
    "\n",
    "```mysql\n",
    "SELECT Nome_CD, Data_Lancamento FROM CD\n",
    "```\n",
    "\n",
    "</div>"
   ]
  },
  {
   "cell_type": "markdown",
   "metadata": {},
   "source": [
    "![Seleção da tabela em partes](../aulas/02-select_parte1/imgs/projecao.png)"
   ]
  },
  {
   "cell_type": "markdown",
   "metadata": {},
   "source": [
    "Mostrar algumas linhas escolhidas:"
   ]
  },
  {
   "cell_type": "markdown",
   "metadata": {},
   "source": [
    "<div class=\"alert alert-info\">\n",
    "\n",
    "```mysql\n",
    "SELECT \n",
    "    *\n",
    "FROM\n",
    "    CD\n",
    "WHERE\n",
    "    Nome_CD LIKE '%a'\n",
    "```\n",
    "\n",
    "</div>"
   ]
  },
  {
   "cell_type": "markdown",
   "metadata": {},
   "source": [
    "![Seleção da tabela inteira](../aulas/02-select_parte1/imgs/selecao.png)"
   ]
  },
  {
   "cell_type": "markdown",
   "metadata": {},
   "source": [
    "## `WHERE`"
   ]
  },
  {
   "cell_type": "markdown",
   "metadata": {},
   "source": [
    "Filtrar as linhas da tabela através da especificação de condições -> o resultado será um subconjunto das linhas da tabela onde a condição é verdadeira.\n",
    "\n",
    "Exemplo: Mostrar todos os CDs que custam mais de 13 reais."
   ]
  },
  {
   "cell_type": "markdown",
   "metadata": {},
   "source": [
    "<div class=\"alert alert-info\">\n",
    "\n",
    "```mysql\n",
    "SELECT \n",
    "    Nome_CD,\n",
    "    Preco_Venda,\n",
    "    Data_Lancamento\n",
    "FROM \n",
    "    CD \n",
    "WHERE \n",
    "    Preco_Venda >= 13 \n",
    "```\n",
    "\n",
    "</div>"
   ]
  },
  {
   "cell_type": "markdown",
   "metadata": {},
   "source": [
    "### `WHERE != HAVING`"
   ]
  },
  {
   "cell_type": "markdown",
   "metadata": {},
   "source": [
    "#### WHERE\n",
    "\n",
    "- Filtrar antes de qualquer tipo de agrupamento\n",
    "- Aplicada diretamente nas linhas da tabela\n",
    "- Não pode ser usada com funções de agregação"
   ]
  },
  {
   "cell_type": "markdown",
   "metadata": {},
   "source": [
    "#### HAVING\n",
    "\n",
    "- Filtrar após a agregação (`GROUP BY`)\n",
    "- Aplicada nas linhas resultantes da agregação\n",
    "- Só pode ser usada com funções de agregação\n"
   ]
  },
  {
   "cell_type": "markdown",
   "metadata": {},
   "source": [
    "## DDL"
   ]
  },
  {
   "cell_type": "markdown",
   "metadata": {},
   "source": [
    "### Data Definition Language"
   ]
  },
  {
   "cell_type": "markdown",
   "metadata": {},
   "source": [
    "**`SQL`** para criação de tabelas e relacionamentos em uma base de dados."
   ]
  },
  {
   "cell_type": "markdown",
   "metadata": {},
   "source": [
    "#### Criação da base de dados\n",
    "```sql\n",
    "DROP SCHEMA IF EXISTS nome do banco;\n",
    "CREATE SCHEMA IF NOT EXISTS nome do banco;\n",
    "USE nome do banco;\n",
    "```"
   ]
  },
  {
   "cell_type": "markdown",
   "metadata": {},
   "source": [
    "#### Criação de tabelas"
   ]
  },
  {
   "cell_type": "markdown",
   "metadata": {},
   "source": [
    "Exemplo: Tabela de usuários<br>\n",
    "**usuario(id_usuario, nome, nickname, data_cadastro, ativo)**\n",
    "\n",
    "```sql\n",
    "DROP TABLE IF EXISTS usuario;\n",
    "CREATE TABLE IF NOT EXISTS usuario(\n",
    "\tid_usuario INT NOT NULL,\n",
    "    nome VARCHAR(100) NOT NULL,\n",
    "    nickname VARCHAR(30) NOT NULL,\n",
    "    data_cadastro DATETIME NOT NULL,\n",
    "    ativo TINYINT NOT NULL,\n",
    "    PRIMARY KEY (id_usuario)\n",
    ");\n",
    "```\n"
   ]
  },
  {
   "cell_type": "markdown",
   "metadata": {},
   "source": [
    "## DML"
   ]
  },
  {
   "cell_type": "markdown",
   "metadata": {},
   "source": [
    "### Data Manipulation Language"
   ]
  },
  {
   "cell_type": "markdown",
   "metadata": {},
   "source": [
    "`SQL` para manipulação de dados em uma base de dados."
   ]
  },
  {
   "cell_type": "markdown",
   "metadata": {},
   "source": [
    "### Inserção de dados\n",
    "\n",
    "Estrutura básica:\n",
    "    \n",
    "```sql\n",
    "INSERT INTO nome_tabela (coluna1, coluna2, coluna3, ...)\n",
    "VALUES (valor1, valor2, valor3, ...);\n",
    "```"
   ]
  },
  {
   "cell_type": "markdown",
   "metadata": {},
   "source": [
    "Exemplo:\n",
    "\n",
    "Inserção simples\n",
    "```sql\n",
    "INSERT INTO Funcionarios (ID, Nome, Cargo)\n",
    "VALUES (1, 'João Silva', 'Desenvolvedor');\n",
    "```\n",
    "\n",
    "Inserção de múltiplos registros\n",
    "```sql\n",
    "INSERT INTO Funcionarios (ID, Nome, Cargo)\n",
    "VALUES \n",
    "    (1, 'João Silva', 'Desenvolvedor'),\n",
    "    (2, 'Maria Oliveira', 'Analista de Sistemas'),\n",
    "    (3, 'Carlos Pereira', 'Gerente de TI');\n",
    "```"
   ]
  },
  {
   "cell_type": "markdown",
   "metadata": {},
   "source": [
    "### Atualização de dados"
   ]
  },
  {
   "cell_type": "markdown",
   "metadata": {},
   "source": [
    "Estrutura básica:\n",
    "    \n",
    "```sql\n",
    "UPDATE nome_tabela\n",
    "SET coluna1 = valor1, coluna2 = valor2, ...\n",
    "WHERE condição;\n",
    "```"
   ]
  },
  {
   "cell_type": "markdown",
   "metadata": {},
   "source": [
    "Exemplos:\n",
    "\n",
    "```sql\n",
    "UPDATE Funcionarios\n",
    "SET Cargo = 'Analista de Sistemas'\n",
    "WHERE ID = 1;\n",
    "```\n",
    "\n",
    "```sql\n",
    "UPDATE Funcionarios\n",
    "SET Cargo = 'Gerente de Projetos', Salario = 7500\n",
    "WHERE ID = 1;\n",
    "```\n",
    "\n",
    "```sql\n",
    "UPDATE Funcionarios\n",
    "SET Salario = Salario * 1.10\n",
    "WHERE Cargo = 'Desenvolvedor';\n",
    "```"
   ]
  },
  {
   "cell_type": "markdown",
   "metadata": {},
   "source": [
    "### Exclusão de dados"
   ]
  },
  {
   "cell_type": "markdown",
   "metadata": {},
   "source": [
    "Estrutura básica:\n",
    "    \n",
    "```sql\n",
    "DELETE FROM nome_tabela\n",
    "WHERE condição;\n",
    "```"
   ]
  },
  {
   "cell_type": "markdown",
   "metadata": {},
   "source": [
    "Exemplos:\n",
    "\n",
    "```sql\n",
    "DELETE FROM Funcionarios\n",
    "WHERE ID = 1;\n",
    "```\n",
    "\n",
    "```sql\n",
    "DELETE FROM Funcionarios\n",
    "WHERE Cargo = 'Estagiário';\n",
    "```\n",
    "\n",
    "```sql\n",
    "DELETE FROM Funcionarios;\n",
    "WHERE Salario < 2000;\n",
    "```\n",
    "\n"
   ]
  },
  {
   "cell_type": "markdown",
   "metadata": {},
   "source": [
    "### `REPLACE` = `DELETE` + `INSERT`"
   ]
  },
  {
   "cell_type": "markdown",
   "metadata": {},
   "source": [
    "- **Tentativa de Atualização:** O `REPLACE` primeiro tenta atualizar um registro existente. Se um registro com a chave especificada já existe, os valores das outras colunas são atualizados.\n",
    "\n",
    "- **Deleção e Inserção:** Se a atualização falha devido a uma violação de chave (primária ou única), o comando deleta o registro existente que está causando a violação e então insere o novo registro como uma nova entrada."
   ]
  },
  {
   "cell_type": "markdown",
   "metadata": {},
   "source": [
    "Exemplos:\n",
    "\n",
    "```sql\n",
    "REPLACE INTO Pessoas (ID, Nome, Idade)\n",
    "VALUES (1, 'Maria', 30);\n",
    "```\n",
    "\n",
    "Se já existir uma pessoa com ID = 1, essa entrada será substituída pela nova entrada (Nome = 'Maria', Idade = 30). Se não, a nova entrada será simplesmente inserida na tabela.\n",
    "<br><br>\n",
    "\n",
    "```sql\n",
    "UPDATE\n",
    "    alunos\n",
    "SET\n",
    "    endereco1 = REPLACE(endereco1, \"Avenida Marginal\", \"Avenida Ribeirinha\")\n",
    "WHERE\n",
    "    endereco1 LIKE \"Avenida Marginal%\"\n",
    "    AND endereco1 LIKE \"%Anapólis%\"\n",
    "```\n",
    "\n",
    "Substitui \"Avenida Marginal\" por \"Avenida Ribeirinha\" no endereço dos alunos que moram em Anapólis e cujo endereço começa com \"Avenida Marginal\"."
   ]
  },
  {
   "cell_type": "markdown",
   "metadata": {},
   "source": [
    "## Variáveis"
   ]
  },
  {
   "cell_type": "markdown",
   "metadata": {},
   "source": [
    "Exemplo de declaração de variável:\n",
    "\n",
    "```sql\n",
    "SELECT MAX(duracao) INTO @max_duracao from MUSICA\n",
    "```\n",
    "\n",
    "A variável `@max_duracao` armazenará o valor máximo da coluna `duracao` da tabela `MUSICA`.\n",
    "\n",
    "<br>\n",
    "\n",
    "Para exibir o valor da variável, basta fazer:\n",
    "\n",
    "```sql\n",
    "SELECT @max_duracao\n",
    "```\n",
    "\n",
    "<br>\n",
    "\n",
    "É possível utilizar a variável em outras consultas:\n",
    "\n",
    "```sql\n",
    "SELECT Nome_musica FROM MUSICA WHERE duracao=@max_duracao\n",
    "```\n",
    "\n",
    "Aqui, a consulta retornará o nome da música cuja duração é igual ao valor armazenado na variável `@max_duracao`."
   ]
  },
  {
   "cell_type": "markdown",
   "metadata": {},
   "source": [
    "## Agrupamento"
   ]
  },
  {
   "cell_type": "markdown",
   "metadata": {},
   "source": [
    "### Join (Inner Join)\n",
    "\n",
    "Consiste em combinar linhas de duas ou mais tabelas com base em uma coluna relacionada entre elas.\n",
    "\n",
    "É retornado apenas o que tem correspondência nas duas tabelas, ou seja, a interseção entre elas.\n",
    "\n",
    "\n",
    "```sql\n",
    "SELECT \n",
    "    CD.Nome_CD,\n",
    "    CD.Preco_Venda,\n",
    "    CD.Data_Lancamento,\n",
    "    Artista.Nome_Artista\n",
    "FROM\n",
    "    CD\n",
    "INNER JOIN Artista ON CD.ID_Artista = Artista.ID_Artista\n",
    "```\n",
    "\n",
    "Neste caso, a consulta retorna o nome do CD, o preço de venda, a data de lançamento e o nome do artista de cada CD. O nome do artista é obtido através do `JOIN` com a tabela `Artista`, onde o `ID_Artista` do CD é igual ao `ID_Artista` do artista.\n",
    "\n"
   ]
  },
  {
   "cell_type": "markdown",
   "metadata": {},
   "source": [
    "### Left Join\n",
    "\n",
    "Retorna todas as linhas da tabela à esquerda e as linhas correspondentes da tabela à direita. Se não houver correspondência, o resultado é `NULL` na coluna da tabela à direita.\n",
    "\n",
    "```sql\n",
    "SELECT \n",
    "    CD.Nome_CD,\n",
    "    CD.Preco_Venda,\n",
    "    CD.Data_Lancamento,\n",
    "    Artista.Nome_Artista\n",
    "FROM\n",
    "    CD\n",
    "LEFT JOIN Artista ON CD.ID_Artista = Artista.ID_Artista\n",
    "```\n",
    "\n",
    "Neste caso, a consulta retorna o nome do CD, o preço de venda, a data de lançamento e o nome do artista de cada CD. O nome do artista é obtido através do `LEFT JOIN` com a tabela `Artista`, onde o `ID_Artista` do CD é igual ao `ID_Artista` do artista. Se não houver correspondência, o nome do artista será `NULL`."
   ]
  },
  {
   "cell_type": "markdown",
   "metadata": {},
   "source": [
    "### Right Join\n",
    "\n",
    "Retorna todas as linhas da tabela à direita e as linhas correspondentes da tabela à esquerda. Se não houver correspondência, o resultado é `NULL` na coluna da tabela à esquerda.\n",
    "\n",
    "```sql\n",
    "SELECT \n",
    "    CD.Nome_CD,\n",
    "    CD.Preco_Venda,\n",
    "    CD.Data_Lancamento,\n",
    "    Artista.Nome_Artista\n",
    "FROM\n",
    "    CD\n",
    "RIGHT JOIN Artista ON CD.ID_Artista = Artista.ID_Artista\n",
    "```\n",
    "\n",
    "Neste caso, a consulta retorna o nome do CD, o preço de venda, a data de lançamento e o nome do artista de cada CD. O nome do artista é obtido através do `RIGHT JOIN` com a tabela `Artista`, onde o `ID_Artista` do CD é igual ao `ID_Artista` do artista. Se não houver correspondência, o nome do artista será `NULL`."
   ]
  },
  {
   "cell_type": "markdown",
   "metadata": {},
   "source": [
    "### Resumo das diferenças entre os tipos de JOIN\n",
    "\n",
    "- **INNER JOIN:** Retorna linhas quando há ao menos uma correspondência em ambas as tabelas.\n",
    "- **LEFT JOIN (LEFT OUTER JOIN):** Retorna todas as linhas da tabela da esquerda, e as linhas correspondentes da tabela da direita; linhas sem correspondência da direita têm NULLs.\n",
    "- **RIGHT JOIN (RIGHT OUTER JOIN):** Retorna todas as linhas da tabela da direita, e as linhas correspondentes da tabela da esquerda; linhas sem correspondência da esquerda têm NULLs."
   ]
  },
  {
   "cell_type": "markdown",
   "metadata": {},
   "source": [
    "## Concatenação\n",
    "\n",
    "```sql\n",
    "SELECT\n",
    "    CONCAT('\"', c1.Nome_CD, '\" indicado por \"', c2.Nome_CD, '\"') AS indicacao\n",
    "FROM\n",
    "    CD c1,\n",
    "    CD c2\n",
    "WHERE\n",
    "    c1.Codigo_CD = c2.CD_Indicado\n",
    "```\n",
    "\n",
    "Resultado:\n",
    "<br>\n",
    "\n",
    "Executando query:\n",
    "<br>\n",
    "('\"Perfil\" indicado por \"Mais do Mesmo\"',)\n",
    "<br>\n",
    "('\"Elis Regina - Essa Mulher\" indicado por \"Bate-Boca\"',)\n",
    "<br>\n",
    "('\"Mais do Mesmo\" indicado por \"Elis Regina - Essa Mulher\"',)\n",
    "<br>\n",
    "('\"Mais do Mesmo\" indicado por \"A Força que nunca Seca\"',)\n",
    "<br>\n",
    "('\"Bate-Boca\" indicado por \"Perfil\"',)\n",
    "<br>\n",
    "('\"Listen Without Prejudice\" indicado por \"Barry Manilow Greatest Hits Vol I\"',)\n",
    "\n",
    "\n"
   ]
  },
  {
   "cell_type": "markdown",
   "metadata": {},
   "source": [
    "## Pipeline do comando SELECT\n",
    "\n",
    "```\n",
    "SELECT [DISTINCT] <select_header> \n",
    "FROM <source_tables>\n",
    "WHERE <filter_expression>\n",
    "GROUP BY <grouping_expressions>\n",
    "HAVING <filter_expression>\n",
    "ORDER BY <ordering_expressions>\n",
    "LIMIT <count> \n",
    "OFFSET <count>\n",
    "```"
   ]
  },
  {
   "cell_type": "markdown",
   "metadata": {},
   "source": [
    "## Ordem de execução\n",
    "\n",
    "1. `FROM <source_tables>`: indica as tabelas que serão usadas nesta query e, conceitualmente, combina estas tabelas através de *produto cartesiano* em uma grande tabela. (Note o termo \"*conceitualmente*\" que usei: em termos de implementação da query este produto cartesiano raramente é construído.)\n",
    "\n",
    "2. `WHERE <filter_expression>`: filtra linhas.\n",
    "\n",
    "3. `GROUP BY <grouping_expressions>`: agrupa conjuntos de linhas.\n",
    "\n",
    "4. `SELECT <select_heading>`: escolha de colunas e de agregados.\n",
    "\n",
    "5. `HAVING <filter_expression>`: outra filtragem, esta aplicada apenas **depois** da agregação. Pode usar resultados do processo de agregação. Obriga o uso de `GROUP BY`.\n",
    "\n",
    "6. `DISTINCT`: Elimina linhas duplicadas.\n",
    "\n",
    "7. `ORDER BY`: ordena as linhas do resultado.\n",
    "\n",
    "8. `OFFSET <count>`: Pula linhas do resultado. Requer LIMIT.\n",
    "\n",
    "9. `LIMIT <count>`: Mantém apenas um número máximo de linhas."
   ]
  },
  {
   "cell_type": "markdown",
   "metadata": {},
   "source": [
    "## Tabelas temporárias\n",
    "\n",
    "```sql\n",
    "DROP TABLE IF EXISTS long_film\n",
    "\n",
    "CREATE TEMPORARY TABLE long_film \n",
    "    SELECT\n",
    "        *\n",
    "    FROM\n",
    "        film\n",
    "    WHERE\n",
    "        film.length > 180;\n",
    "```"
   ]
  },
  {
   "cell_type": "markdown",
   "metadata": {},
   "source": [
    "## View\n",
    "Uma *view* é uma tabela virtual, construida a partir de um comando `SELECT`. Por exemplo: execute o código a seguir."
   ]
  },
  {
   "cell_type": "markdown",
   "metadata": {},
   "source": [
    "```sql\n",
    "DROP VIEW IF EXISTS movie_count;\n",
    "\n",
    "CREATE VIEW movie_count AS\n",
    "    SELECT \n",
    "        title, COUNT(rental_id) as cnt\n",
    "    FROM\n",
    "        film\n",
    "        LEFT OUTER JOIN inventory USING (film_id)\n",
    "        LEFT OUTER JOIN rental USING (inventory_id)\n",
    "    GROUP BY\n",
    "        film_id\n",
    "    ORDER BY\n",
    "        cnt ASC;\n",
    "```"
   ]
  },
  {
   "cell_type": "code",
   "execution_count": null,
   "metadata": {
    "vscode": {
     "languageId": "plaintext"
    }
   },
   "outputs": [],
   "source": []
  }
 ],
 "metadata": {
  "language_info": {
   "name": "python"
  }
 },
 "nbformat": 4,
 "nbformat_minor": 2
}
